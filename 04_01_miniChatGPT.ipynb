{
 "cells": [
  {
   "cell_type": "markdown",
   "metadata": {},
   "source": [
    "# miniGPT-v0.1"
   ]
  },
  {
   "cell_type": "markdown",
   "metadata": {},
   "source": [
    "## imports"
   ]
  },
  {
   "cell_type": "code",
   "execution_count": 1,
   "metadata": {},
   "outputs": [],
   "source": [
    "import numpy as np\n",
    "import matplotlib.pyplot as plt\n",
    "import pandas as pd \n",
    "import seaborn as sns\n",
    "\n",
    "import torch\n",
    "import torch.nn as nn\n",
    "import torch.nn.functional as F\n",
    "import torch.optim as optim"
   ]
  },
  {
   "cell_type": "markdown",
   "metadata": {},
   "source": [
    "## Preprocess"
   ]
  },
  {
   "cell_type": "code",
   "execution_count": 2,
   "metadata": {},
   "outputs": [
    {
     "data": {
      "text/plain": [
       "(1801350, 1)"
      ]
     },
     "execution_count": 2,
     "metadata": {},
     "output_type": "execute_result"
    },
    {
     "data": {
      "text/html": [
       "<div>\n",
       "<style scoped>\n",
       "    .dataframe tbody tr th:only-of-type {\n",
       "        vertical-align: middle;\n",
       "    }\n",
       "\n",
       "    .dataframe tbody tr th {\n",
       "        vertical-align: top;\n",
       "    }\n",
       "\n",
       "    .dataframe thead th {\n",
       "        text-align: right;\n",
       "    }\n",
       "</style>\n",
       "<table border=\"1\" class=\"dataframe\">\n",
       "  <thead>\n",
       "    <tr style=\"text-align: right;\">\n",
       "      <th></th>\n",
       "      <th>text</th>\n",
       "    </tr>\n",
       "  </thead>\n",
       "  <tbody>\n",
       "    <tr>\n",
       "      <th>0</th>\n",
       "      <td></td>\n",
       "    </tr>\n",
       "    <tr>\n",
       "      <th>1</th>\n",
       "      <td>= Valkyria Chronicles III = \\n</td>\n",
       "    </tr>\n",
       "    <tr>\n",
       "      <th>2</th>\n",
       "      <td></td>\n",
       "    </tr>\n",
       "    <tr>\n",
       "      <th>3</th>\n",
       "      <td>Senjō no Valkyria 3 : Unrecorded Chronicles (...</td>\n",
       "    </tr>\n",
       "    <tr>\n",
       "      <th>4</th>\n",
       "      <td>The game began development in 2010 , carrying...</td>\n",
       "    </tr>\n",
       "  </tbody>\n",
       "</table>\n",
       "</div>"
      ],
      "text/plain": [
       "                                                text\n",
       "0                                                   \n",
       "1                     = Valkyria Chronicles III = \\n\n",
       "2                                                   \n",
       "3   Senjō no Valkyria 3 : Unrecorded Chronicles (...\n",
       "4   The game began development in 2010 , carrying..."
      ]
     },
     "execution_count": 2,
     "metadata": {},
     "output_type": "execute_result"
    }
   ],
   "source": [
    "train_1 = pd.read_parquet('./data/wikitext/train-00000-of-00002.parquet')\n",
    "train_2 = pd.read_parquet('./data/wikitext/train-00001-of-00002.parquet')\n",
    "train = pd.concat([train_1, train_2], axis=0)\n",
    "train.shape\n",
    "train.head()"
   ]
  },
  {
   "cell_type": "code",
   "execution_count": 3,
   "metadata": {},
   "outputs": [
    {
     "data": {
      "text/plain": [
       "((4358, 1), (3760, 1))"
      ]
     },
     "execution_count": 3,
     "metadata": {},
     "output_type": "execute_result"
    }
   ],
   "source": [
    "test = pd.read_parquet('./data/wikitext/test-00000-of-00001.parquet')\n",
    "valid = pd.read_parquet('./data/wikitext/validation-00000-of-00001.parquet')\n",
    "test.shape , valid.shape"
   ]
  },
  {
   "cell_type": "code",
   "execution_count": 30,
   "metadata": {},
   "outputs": [],
   "source": [
    "import re"
   ]
  },
  {
   "cell_type": "code",
   "execution_count": 4,
   "metadata": {},
   "outputs": [
    {
     "data": {
      "text/plain": [
       "'  = Valkyria Chronicles III = \\n   Senjō no Valkyria 3 : Unrecorded Chronicles ( Japanese : 戦場のヴァルキュリア3 , lit . Valkyria of the Battlefield 3 ) , commonly referred to as Valkyria Chronicles III outside Japan , is a tactical role @-@ playing video game developed by Sega and Media.Vision for the PlayStation Portable . Released in January 2011 in Japan , it is the third game in the Valkyria series . Employing the same fusion of tactical and real @-@ time gameplay as its predecessors , the story runs parallel to the first game and follows the \" Nameless \" , a penal military unit serving the nation of Gallia during the Second Europan War who perform secret black operations and are pitted against the Imperial unit \" Calamaty Raven \" . \\n  The game began development in 2010 , carrying over a large portion of the work done on Valkyria Chronicles II . While it retained the standard features of the series , it also underwent multiple adjustments , such as making the game more forgiving for series '"
      ]
     },
     "execution_count": 4,
     "metadata": {},
     "output_type": "execute_result"
    }
   ],
   "source": [
    "data = ' '.join(train['text'].astype(str)) \n",
    "data[:1000]"
   ]
  },
  {
   "cell_type": "code",
   "execution_count": 6,
   "metadata": {},
   "outputs": [
    {
     "data": {
      "text/plain": [
       "('\\n !\"#$%&\\'()*+,-./0123456789:;<=>?@ABCDEFGHIJKLMNOPQRSTUVWXYZ[\\\\]^_`abcdefghijklmnopqrstuvwxyz{|}~\\x8f\\x92\\x93\\x94\\x96\\x9d¡¢£¤¥§©«\\xad®¯°±²³´µ¶·¹º»¼½¾¿ÀÁÂÄÅÆÇÈÉÊËÌÍÎÏÐÑÒÓÔÕÖ×ØÙÚÜÝÞßàáâãäåæçèéêëìíîïðñòóôõö÷øùúûüýþÿĀāĂăąĆćĉĊċČčĎďĐđĒēĔĕĖėęĚěğĠġĢģĤĦħĩĪīĭįİıĵĶķĸĺļĽľŁłńņňŊŋŌōŏőŒœŖŗŘřŚśŜŞşŠšŢţťŧũŪūŭůűųŵŷŹźŻżŽžſƀƆƇƈƉƍƎƏƐƒƔƙƛơƢƥƭưƲƿǀǁǂǃǎǐǑǒǔǚǜǝǢǣǦǧǪǫǭǰǵǷǸǹǽȘșȚțȜȝȟȯȳȷȼɈɐɑɒɓɔɕɖɗɘəɚɛɜɞɟɠɡɢɣɤɥɦɧɨɪɫɬɭɮɯɰɱɲɳɴɵɶɷɸɹɺɻɽɾʀʁʂʃʄʇʈʉʊʋʌʍʎʏʐʑʒʔʕʖʗʘʙʛʝʟʠʡʢʰʱʲʳʷʹʻʼʽʾʿˀˁˆˇˈˌːˑ˔˕˖˘˚˜˞ˠˢˣˤ˥˦˧˨˩̧̖̗̝̞̟̠̣̤̥̩̪̬̮̯̰̱̲̳̺͍̀́̂̃̄̆̇̈̊̋̌̍̏̐̑̽͌̚͘͜͡΄ΆΈΉΊΌΎΐΑΒΓΔΕΖΗΘΙΚΛΜΝΞΟΠΡΣΤΥΦΧΨΩάέήίαβγδεζηθικλμνξοπρςστυφχψωϊόύώϑϕϝϟϵЂЄІЇЈЉЋАБВГДЕЖЗИЙКЛМНОПРСТУФХЦЧШЩЪЫЬЭЮЯабвгдежзийклмнопрстуфхцчшщъыьэюяёђєіїјљњћѝўѠѡѢѣѥѧѮѹ҆ғқүҳҷӣӨөӯӶӷԱԲԳԴԵԶԷԸԹԺԻԼԽԿՀՁՂՃՄՅՆՇՈՊՋՌՍՎՏՓՔՕաբգդեզէըթժիլխծկհձղճմյնշոչպջռսվտրցւփքօևְֱֲֳִֵֶַָֹֻּֽֿׁׂ֤֫אבגדהוזחטיךכלםמןנסעףפץצקרשתױ׳،ءآأؤإئابةتثجحخدذرزسشصضطظعغـفقكلمنهوىئًٌٍَُِّْ١٧ٰپچڈڠکڬگںھہیۍےەܐܒܔܕܗܘܙܚܛܝܠܡܢܣܥܦܪܬܼ݂ܲܵँंःअआइईउऋएऐऔकखगघङचछजञटठडणतथदधनपफबभमयरलवशषसह़ऽािीुूृॆेैॉॊोौ्ॐ।॥१२३ংঅআইএকখগঙচজটডঢণতথদনপবভমযরলশষসহ়ািীুূেৈো্ৰਂਅਉਖਘਜਝਦਲਵਸਹ਼ਾਿੁੇੰੱખફબરલસાોପରୀୁஃஅஆஇஈஎஒகஙசடணதநனபமயரறலளழவஸாிீுூெேைோ்ంకఖగజటఠడతథదనపబభమయరలవషసాిీుైో్ಂಃಕಖಗಚಟಠಡತದನಪಬಭಮಯರಱಲಳವಶಸಹಾಿುೇೋ್ೞഅങദനപമയരളവശസഹാി്අඑකගජතධනපමයරලවශහළ්ාැිුේෝกขคฆงจฉชซญฎฏฐฑณดตถทธนบปผฝพฟภมยรฤลวศษสหฬอฮะัาำิีึืุู฿เแโใไ็่้๊์་༌།ཀཁགངཆཇཐདནཔབམཙཚཛའཡརལསཧིེོུྟྡྣྤྥྱྲကဂငစဆနပဗဘမယရလဝဟာိီုူဲး္်ျြှႠႢႣႨႬႵႿაბგდევზთიკლმნოპჟრსტუფქღყშჩცძწჭხჯჰჱჲჳჴჵჶჷჸჹჺ჻ሀለሐሓሕመማሥረርሰስቆቈበብቲታትነናንኖአኢእከኲዕዘዛየያይዮደድጅገጉጵፈፍ፡ᎠᎣᎦᎨᎩᎰᎳᎹᏍᏯᏱᐊᑲᒡᓘᚢᚣᚦᚨᚩᚬᚱᚷᚹᚺᚻᚼᚾᛁᛃᛄᛇᛋᛏᛒᛗᛚᛝᛞᛟᛠកខគងចឆជញដឋណតថទធនបពភមយរលវសហអឥឪឫឯ឵ាិីឹឺុូួៀេែៃោៅំះៈ៉់្ᠠᠣᠨᠪᠮᠯᠰᠴᠵᠸᡝᡠᡥᡨᡳᡴᡵᴰᴷᴺᵀᵊᵑᵗᵘᵝᵻᵿᶑᶢᶦᶴᶷ᷽᷄᷅᷆᷇᷈᷉ḌḍḎḏḑḕḗḢḤḥḨḩḪḫḭḱḲḳḵḷḹḻḿṁṃṅṇṉṓṙṚṛṜṝṟṢṣṦṪṬṭṮṯṳṵṼṽẃẒẓẖạảẤấầẨẩẫậắằẵặẹẻẽếềểễệỉịỌọỏỐốồổỗộớờởợỤụủỨứừửữựỳỵỹἀἁἂἃἄἅἈἉἌἍἐἑἒἔἕἘἙἜἝἠἡἢἤἥἦἧἨἩἰἱἲἳἴἵἶἷἸἹἾὀὁὂὃὄὅὉὌὐὑὔὕὖὗὝὡὣὤὥὦὨὩὮὰὲὴὶὸὺὼᾓᾰᾳᾶᾷ᾿ῆῇῈῐῑῖῚῠῥῦῬῳῶῷ\\u200b\\u200c\\u200d‐‑‒–—―‖‘’‚‛“”„‟†‡•…‰′″※‼‿⁄⁊\\u2060\\u2061⁰⁺ⁿ₁₂₃₄₡₣₤₦₧₨₩₫€₱₴₹ℂ℃ℓℕ№ℛℝ℞™ℤ℥ℵ⅓⅔⅙⅛⅜⅝⅞Ⅱ←↑→↓↔↗↘↦↪↵⇄⇌⇒⇪∀∂∅∆∇∈∉∊∑−∕∖∗∘√∝∞∤∩∪∫∴∼≈≠≡≢≤≥≪≫≲⊂⊕⊗⊙⊞⊢⊣⊥⋅⋆⋯⌊⌋⌘①②③④⑤⑥⑦⑧─█▢▲▼○●◦☄★☆☉☧☫☭☽☾♀♂♄♅♆♇♈♉♠♣♥♦♩♪♭♮♯⚳⚴⚵⛢✡✱❄❅❆❤⟦⟧⟨⟩⥇⩽⫶ⱱⲁⲛⲥⲧⲩⲪⲱⴰⴳⴷⴻⴼⴽⵃⵇⵉⵍⵎⵏⵓⵔⵕⵖⵙⵛⵜⵡⵢⵣ⸨⸩、。々〈〉《》「」『』【】〒〜あぃいぅうぇえぉおかがきぎくぐけげこごさざしじすずせぜそぞただちっつづてでとどなにぬねのはばぱひびぴふぶぷへべぺほぼぽまみむめもゃやゅゆょよらりるれろわゑをんァアィイゥウェエォオカガキギクグケゲコゴサザシジスズセゼソゾタダチヂッツヅテデトドナニヌネノハバパヒビピフブプヘベペホボポマミムメモャヤュユョヨラリルレロワヲンヴヶ・ー一丁七万丈三上下不与丑且世丘丙东丝丞両丨个中丶丸丹为主丽丿乃久么义之乌乎乐乘乙乚乛九也习书乩买乱乳乾亀亅了予争事二云五井亚些亜亞亡交亦亨京亮亰人什仁仇今介仔仕他付仙代令以仪们仮仰仲件任份伊伏伐休会伝伟传伪伯伴伸似佃但位住佐佑体何余佛作你佳併使來例侍侗供依侠侨侬侯係促俄俊保信俭修俱俳倉個們候借倪倫倭偃假偏健側偵偽傀傅傑傘備催傭傳傷像僑僕僧儀億儒儚儡優儿允元充兆先光克免兒兔兜入內全兩八公六兰共关兵其具典养冀内円冉册再冒写军冠冥冫冬冯决冴冶冷净准凌凤処凪凯凰凱凶凹出刀刃分切刊划列刘初判別利别到制刷券刹刺刻則前剑剛剣剧剩副割創劃劇劉劍力办功加劣动助劳勃勅勇勒動勘務勝勞勢勳勾包化北匠匹区医區十千升午半华协卐卒卓協单卖南博卜占卡卢卦卫印危即却卸卿厂厄历厘厚原厥厦厩去县参參叉及友双反収发叔取受变叛叠叡叢口古句只叫召可台史右叶号司合吉同名后向吕君吞吟吧启吳吴吸吹吾呂呉告周呪味呼命咆和咖咙咫咲咸哀品哈哉响員哥哮哲唄唐唯唱商問啓啟啡善喇喋喚喜喝喬嘉嘘噛器嚣嚴囁囂囃囚四回因团団図国图圈國圍圏園圓圖土圣圧在地圻坂均坊坑块坚坝坡坤坪型垣城埔域執培基堀堂堅堆堡堤堯報場塊塔塘塚塞塩填塵境墓墙增壁壌壓壟壤士壬壮壯声壱売壳壷壽处备変复夏夕外多夜够夢夤大天太夫央失头夷奇奈奉奎奏奐契奔奥奧奪女奴好如妃妇妍妖妙妮妹妻姉姊始姑委姚姥姦姫姬姿威娘娜婁婆婚婷嫁嬢嬴子孔字存孙孛孝孟季孤学孩孫孵學宁宅宇守安宋完宏宗官宙定宜宝实実客宣室宫宮宴宵家宸容宿寂寄密寇富寔寗寛寝寞察寧寨審寬寵寶寸对寺寻対寿封射将將尉尊尋對導小少尔尚尧就尸尹尺尼尽尾局居届屋屍屑展屠層屬屯山屿岐岑岚岛岡岩岬岭岳岸峰島崇崎崔崖嵐嶋嶺嶼巂巖川州巡工左巨巫差己巳巴巻币市布帆师希帕帖帝帥带師帮帰帶常幕幡幣干平年幸幻幽广庁広庄庆庇序库底庖店庙庚府度座庫庭庵康廉廊廖廟廣廬延廷建廻廿开弁式弐弓弔引弘弟张弥弦弧弱張強弹强弾彌当录彖彙形彦彩彪彬彭影役彼征径待律後徐徒得從御復微徳德徹徽心必忍志忘応忠快念怀怎怒怖思怡急性怨怪总恆恋恐恒恢恥恩恭息恵恼悔悟悠悦悪悫悲悼情惑惟惠惡想愁愍意愚愛感愽慈態慎慧慰慶憂憎憑憲憶應懍懷戈戊戎成我战戦戯戰戴户戸房所扁扇扈扉手才打托扶找承技抄抓投抜択护报披抱抵担拉拍拏拐拖拘招拜拟拥括拳拾持挂指挑挥振据捷授掛採探控掲描提揚換援揺摂摩摸撃撒撞播撲操攝支收改攻放政故敏救教敢散敦敬数敵敷數文斉斎斗料斜斤斩斬断斯新方於施旅旋族旗无日旦旧早旭时旺昂昇昌明昏易昔星映春昭是昼時晉晋晒普景晴晶智暁暂暖暗暦暮暴曆曜曦曲更書曹曼曾最會月有朋服朏朔朗望朝期朧木未末本札朱朴朵机朽杀杂权李杏材村杖杜束条来杨杯東杲松板极析林枚果枝枭枯架柆柏柔柚柩柱柳柴査栄标栈树栖栗栞校株样核根格栽栾桀桂桃案桎桐桑桓桜桥桧梁梅梏梓條梦梨梭梯械梵梶棋棍棗棘棚棟森棲棵棺椅植椎椒椛検椰椿楊楚楠業楯極楼楽概榆榊榔榛榮榴槐様槤槻樂樉樊樓樗標樛模権横樱樸樹橋橘橚機橫橿檀檜檳檻櫓櫻權欒欠次欣欲欽歌歓歡止正步武歩歪歲歳歴歷歸死殊残段殺殻殿毅母毎每比毕毘毛毫毬氏民气気氣水氷永氾汇汉汐汗汝江池汤汪汰汶決汽沂沃沈沉沌沐沒沖沙沛没沢沫河沸油治沼沽泉泊法泗泡波泣泥注泰泾洁洋洛洞津洪洲活派流浅浙浚浜浦浩浪浮海消涙润涵涼淇淑淘淡淨深淳淵淹添清渊渚減渠渡渣渥渦温測港游渾湊湖湯湾満源準溜溢溪溫溶滅滋滑滨滿漁漂漆漏漠漢漫漳漸潘潜潤澄澤澪激濃濞濟瀛瀬灣火灯灰灵灶灼災灾炎炬炮炯炷炸点為炼烈烏烙烟烦烧焉焔無焦然焼煌煙煜照煩煮熊熔熙熟熱燃燈燕營爆爪爭爱爲爵父爺爻爽爾片版牌牙牛牡牢牧物牵特犖犬犯狀狂狐狗狛狡狩独狭狱狸狼猛猩猪猫献猿獄獅獣獵獻玄玉王玖玩玲珂珍珙珠現球理琦琪琬琮琴瑋瑙瑜瑞瑠瑣瑪瑾璉環璽瓊瓜瓢瓦瓩瓷甘甜生產産用甫田由甲申男町画甽界畑留畜畢略番畫異疾病症痘痛痴瘡瘤発登發白百的皇皙皮皿盆盈益盏盐监盒盗盘盛盟監盤盧目直相盼省看県眞真眼着督瞬瞳矢知矩短矮矯石砂砍研砖砲破硕硝硨碍碗碩確碼磁磅磐磨磯磲礁礎礮示礼社祀祈祐祖祚神祠祥票祭祺祿禁禄禎福禦禮禰禺禾秀私秋科秒秘租秤秦移程稔稚種稲稷穂穌積穎穗穢究空突窓窗窟竇立站竜章童端竹竺笑笔笛笠符笨第笹筆等筋筍筐筑答策筹箇算管箪箭箱節範篇篋篚篤簡簿籃籌籍籠米籵粁粉粍粟粥粨精糊糎糖糸系紀約紅紋納純紘紙級素紡紫細紹紺終組絆経結絡給統絵絶綁經継続綜綠維綯綱網綸綺綾緋総緑緒線締編緩緯縄縊縣總繋織繼續红级纪纯纲纵线组绅细终绍经给统继绮维综缽网罗罠罪置罰罸羅羊美群義羽翁習翔翘翠翡翱翹翻翼老考者耆而耕耳耶耿聃联聖聘聚聞聡聯聰聲職肃肉肖肚股肥肩育胞胠胡胤胴胸能脂脇脈脉脚脩脱脳腎腐腰腹腿膀膺臂臘臚臣臨自臭至致臺與興舍舎舞舟航船艦良色艳艶艺节芒芙芝芦芬芭芮芯花芳芸芹芽苏苑苗苣若英苺茂范茅茜茶茸草荊荒荔荘荥荪荫药荷荻荼莉莊莎莘莞莫莱莲莴菇菉菊菜華菱菲萌萍萝营萧萨萬落葆葉著葛董葦葫葵蒙蒭蒲蒼蒿蓀蓑蓝蓮蔡蔭蔵蕃蕉蕨蕩蕭薇薊薔薙薛薩薫薯藍藏藕藝藤藥藩藻蘄蘅蘇蘑蘭虎虐虔處虚虛號虫虹蛇蛍蛙蛭蜃蜡蝉蝕蝶融螺蟲蠕蠻血衆行術街衙衛衝衡衢衣补表袁袈袖被裁裂装裏裔裕補裟裳裸製褒襄襟襲西要覇見規視覚親観覺觀观角解触觳言計記設許訳証詔詞詠試詩話誌誐誒誓誕誘語誠誡誦說説読誰課調談論諭諷諸謀謁謎謙講謝謡識譚譜警議護讀變讐讓计让议许论讼诉词诗诚话语诶请诺读课谁谦谭谷豆豊豌豐豚象豪豫豬豹貓貝貞負財貫貴費賀資賈賊賓賞賢賦質購贝贞财贤质贵贺贼资赤赭走赵起超越趙足跆跑跖跟跡路跳踊踏踢蹴身車軌軍軒転軽載輔輛輝輪輿轉车轩转辆辉辛辣辭辯辰農边辺辽达辿迄迅过迈运近返这进远迦迪述迷追送适逆选這通造逢連逯週進遁遇遊運遍過道達遗遙遜遠遥遮選遺遼避邁還邊邑邓那邦邪邱郁郊郎郑郛郝郡部郭郷都鄧鄭酈酉酒酔酥酱酷酸醋醒醫采釈釋里重野量金釗釣鈍鈴鉄鉢鉦鉱鉴銀銃銅銓銖銘銳鋒鋪鋼錄錡錦錬録鍋鍵鎖鎧鎮鏡鐘鐵鐸鑒钊钢钦钱铁铎铜铭铺锡键镇镗镜長长門閃開閏閒間関閣閨闇闍闕闘關门问闯阁阪防阳阿陀附际陈降限陛院陣除陪陳陵陶陸険陽隆隊階隔隗隠隣隱隴隸隻隼雀雁雄雅集雇雉雎雕雙雛雜雞離難雨雪雲雳零雷電雾需霆震霊霍霖霜霞霧霰露霸霹靂靈青靖静非靠面革靴靼鞋鞍鞠韃韋韓韦韩韭音韶響頃項順須頌領頭顆題額顏顔願顯项顾颂颊颖颗颜風颪颱飄风飛飞食飯飾餅養餓館饼馆馒首香馬馮駆駐駒駙駢駿騎騒験騭騰騷驁驚驤马驰骨骸髀高髪鬘鬥鬪鬼魂魄魔魚魯鮑鮫鮮鯖鯵鰐鱀鱼鲁鲤鳥鳩鳳鳴鳶鴉鴣鴨鴻鵡鵩鵬鶍鶴鷓鷹鷺鸚鸟鸡鸭鸿鹅鹹鹼鹽鹿麗麥麵麻麼麾黃黄黎黑黒黙黛黨鼉鼎鼓鼠鼻齉齊齋齐龍龙ꜛꜜꜣꜩꜫꜭꞅꞎꞰꞵꦂꦠꦯꦲꦸꭓ가간강개거건경계고공관광구국권귀그극근글금급기김꺼껐나날남났내너네념노놔눈늬다단대더도독돌동디딱라람래런렌려렬로록론루류르를리립마막만말명목무문물미민믿바박방백뱅버범법별병보복봐부불붉빅빙빤뿐사산살삼삿상새색서성센소쇼수순술숫스시식신실쌤아안알암앙애앤야양어에엔연영예오온왜용운울원위유은을음의이인일자장재적전점정제조종좋주줄중지진집짓징차천청체쳐초춘충치커코킨타태터퇴투트특파판퍼평표풍피하학한합해행향허헬호혹홀화회후희ﬀﬁﬂﮭﮮﷲﷺ️︠︡ﺒﻉﻋﻔﻴ\\ufeff！％＆（），－／１２３４６：＜＝＞？ＡＣＤＧＩＪＬＭＰＲＸ［］｜～｢｣･ｰ￥�𐀁𐀈𐀫𐎠𐎢𐎭𐎰𐎹𐎺𐎼𐏁𐭃𐭉𐭓𐭕𒀯𒀳𝕄𝕡🖕',\n",
       " 4979)"
      ]
     },
     "execution_count": 6,
     "metadata": {},
     "output_type": "execute_result"
    }
   ],
   "source": [
    "# len(data) # 540,095,682 characters = 540 M \n",
    "unq_chars =  ''.join(sorted(set(data)))\n",
    "unq_chars , len(unq_chars)"
   ]
  },
  {
   "cell_type": "code",
   "execution_count": 24,
   "metadata": {},
   "outputs": [
    {
     "name": "stdout",
     "output_type": "stream",
     "text": [
      "\n",
      " !\"#$%&'()*+,-./0123456789:;<=>?@ABCDEFGHIJKLMNOPQRSTUVWXYZ[\\]^_`abcdefghijklmnopqrstuvwxyz{|}~\n"
     ]
    },
    {
     "data": {
      "text/plain": [
       "'bout seven times through the music production due '"
      ]
     },
     "execution_count": 24,
     "metadata": {},
     "output_type": "execute_result"
    }
   ],
   "source": [
    "print(unq_chars[:96])\n",
    "chars_count = 96 \n",
    "chars = unq_chars[:96]\n",
    "data[12000:12000 + 50]"
   ]
  },
  {
   "cell_type": "code",
   "execution_count": 25,
   "metadata": {},
   "outputs": [
    {
     "name": "stdout",
     "output_type": "stream",
     "text": [
      "539440918\n"
     ]
    }
   ],
   "source": [
    "pattern = f\"[{re.escape(chars)}\\s]\"\n",
    "data2 = ''.join(re.findall(pattern, data))\n",
    "print(len(data2)) # 539440918"
   ]
  },
  {
   "cell_type": "code",
   "execution_count": 28,
   "metadata": {},
   "outputs": [
    {
     "data": {
      "text/plain": [
       "539440918"
      ]
     },
     "execution_count": 28,
     "metadata": {},
     "output_type": "execute_result"
    },
    {
     "data": {
      "text/plain": [
       "'  = Valkyria Chronicles III = \\n   Senj no Valkyria 3 : Unrecorded Chronicles ( Japanese : 3 , lit . Valkyria of the Battlefield 3 ) , commonly referred to as Valkyria Chronicles III outside Japan , is a tactical role @-@ playing video game developed by Sega and Media.Vision for the PlayStation Portable . Released in January 2011 in Japan , it is the third game in the Valkyria series . Employing the same fusion of tactical and real @-@ time gameplay as its predecessors , the story runs parallel to the first game and follows the \" Nameless \" , a penal military unit serving the nation of Gallia during the Second Europan War who perform secret black operations and are pitted against the Imperial unit \" Calamaty Raven \" . \\n  The game began development in 2010 , carrying over a large portion of the work done on Valkyria Chronicles II . While it retained the standard features of the series , it also underwent multiple adjustments , such as making the game more forgiving for series newcomers . Character designer Raita Honjou and composer Hitoshi Sakimoto both returned from previous entries , along with Valkyria Chronicles II director Takeshi Ozawa . A large team of writers handled the script . The game \\'s opening theme was sung by May \\'n . \\n  It met with positive sales in Japan , and was praised by both Japanese and western critics . After release , it received downloadable content , along with an expanded edition in November of that year . It was also adapted into manga and an original video animation series . Due to low sales of Valkyria Chronicles II , Valkyria Chronicles III was not localized , but a fan translation compatible with the game \\'s expanded edition was released in 2014 . Media.Vision would return to the franchise with the development of Valkyria : Azure Revolution for the PlayStation 4 . \\n   = = Gameplay = = \\n   As with previous Valkyira Chronicles games , Valkyria Chronicles III is a tactical role @-@ playing game where players take control of a military un'"
      ]
     },
     "execution_count": 28,
     "metadata": {},
     "output_type": "execute_result"
    }
   ],
   "source": [
    "len(data2)\n",
    "data2[:2000]"
   ]
  },
  {
   "cell_type": "code",
   "execution_count": 31,
   "metadata": {},
   "outputs": [
    {
     "data": {
      "text/plain": [
       "(534851193, 4589725)"
      ]
     },
     "execution_count": 31,
     "metadata": {},
     "output_type": "execute_result"
    }
   ],
   "source": [
    "def clean_words(text):\n",
    "    text = re.sub(r'[ ]+', ' ', text)\n",
    "    text = re.sub(r'[\\n]+', '\\n', text)\n",
    "    text = re.sub(r'@.*?@', ' ', text)\n",
    "    text = re.sub(r'\\(\\s*\\)', ' ', text)\n",
    "    text = re.sub(r'\\[\\s*\\]', ' ', text)\n",
    "    text = re.sub(r'\\{\\s*\\}', ' ', text)\n",
    "    return text.strip()\n",
    "data3 = clean_words(data2)\n",
    "\n",
    "len(data3) , len(data2) - len(data3)"
   ]
  },
  {
   "cell_type": "code",
   "execution_count": 32,
   "metadata": {},
   "outputs": [
    {
     "data": {
      "text/plain": [
       "(532467393, 2383800)"
      ]
     },
     "execution_count": 32,
     "metadata": {},
     "output_type": "execute_result"
    }
   ],
   "source": [
    "data4 = clean_words(data3)\n",
    "len(data4) , len(data3) - len(data4)"
   ]
  },
  {
   "cell_type": "code",
   "execution_count": 33,
   "metadata": {},
   "outputs": [
    {
     "data": {
      "text/plain": [
       "(532467359, 34)"
      ]
     },
     "execution_count": 33,
     "metadata": {},
     "output_type": "execute_result"
    }
   ],
   "source": [
    "data5 = clean_words(data4)\n",
    "len(data5) , len(data4) - len(data5)"
   ]
  },
  {
   "cell_type": "code",
   "execution_count": 34,
   "metadata": {},
   "outputs": [
    {
     "data": {
      "text/plain": [
       "(532467359, 0)"
      ]
     },
     "execution_count": 34,
     "metadata": {},
     "output_type": "execute_result"
    }
   ],
   "source": [
    "data6 = clean_words(data5)\n",
    "len(data6) , len(data5) - len(data6)"
   ]
  },
  {
   "cell_type": "code",
   "execution_count": 36,
   "metadata": {},
   "outputs": [
    {
     "data": {
      "text/plain": [
       "532467359"
      ]
     },
     "execution_count": 36,
     "metadata": {},
     "output_type": "execute_result"
    }
   ],
   "source": [
    "final_data = data6\n",
    "open('./data/wikitext/processed.txt', 'w').write(final_data)"
   ]
  },
  {
   "cell_type": "markdown",
   "metadata": {},
   "source": [
    "### PReprocess - extract articles "
   ]
  },
  {
   "cell_type": "code",
   "execution_count": null,
   "metadata": {},
   "outputs": [
    {
     "data": {
      "text/plain": [
       "'!\"#$%&\\'()*+,-./:;<=>?@[\\\\]^_`{|}~'"
      ]
     },
     "metadata": {},
     "output_type": "display_data"
    }
   ],
   "source": [
    "import string\n",
    "string.punctuation"
   ]
  },
  {
   "cell_type": "code",
   "execution_count": null,
   "metadata": {},
   "outputs": [],
   "source": [
    "heading = r'\\s=.*=\\s'\n",
    "hs = re.findall(heading, data)"
   ]
  },
  {
   "cell_type": "code",
   "execution_count": null,
   "metadata": {},
   "outputs": [
    {
     "data": {
      "text/plain": [
       "(29525,\n",
       " [' = Valkyria Chronicles III = ',\n",
       "  ' = Tower Building of the Little Rock Arsenal = ',\n",
       "  ' = Cicely Mary Barker = ',\n",
       "  \" = Gambia women 's national football team = \",\n",
       "  ' = Plain maskray = ',\n",
       "  ' = 2011 – 12 Columbus Blue Jackets season = ',\n",
       "  ' = Position ; GP = ',\n",
       "  ' = Goals ; A = ',\n",
       "  ' = Points ; PIM = ',\n",
       "  ' = Games Played ; TOI = '])"
      ]
     },
     "metadata": {},
     "output_type": "display_data"
    }
   ],
   "source": [
    "headings = []\n",
    "for h in hs:\n",
    "    if re.findall(r'=',h).count('=') == 2:\n",
    "        headings.append(h)\n",
    "len(headings),headings[:10]"
   ]
  },
  {
   "cell_type": "code",
   "execution_count": null,
   "metadata": {},
   "outputs": [
    {
     "data": {
      "text/plain": [
       "[' = West Hendford Cricket Ground , Yeovil = ',\n",
       " \" = New Year 's Eve ( Up All Night ) = \",\n",
       " ' = World War Z = ',\n",
       " ' = Sentence spacing = ',\n",
       " ' = The Crab with the Golden Claws = ',\n",
       " ' = L.A.M.B. = ',\n",
       " ' = First @-@ move advantage in chess = ',\n",
       " ' = Frederick Reines = ',\n",
       " ' = Lock Haven , Pennsylvania = ',\n",
       " ' = Rachel Green = ',\n",
       " ' = Krak des Chevaliers = ',\n",
       " ' = The Importance of Being Earnest = ',\n",
       " ' = Lloyd Mathews = ',\n",
       " ' = HMS Boreas ( H77 ) = ',\n",
       " ' = Kaimanawa horse = ']"
      ]
     },
     "metadata": {},
     "output_type": "display_data"
    }
   ],
   "source": [
    "headings[100:100 + 15]"
   ]
  },
  {
   "cell_type": "code",
   "execution_count": null,
   "metadata": {},
   "outputs": [
    {
     "name": "stdout",
     "output_type": "stream",
     "text": [
      " = Sentence spacing = \n",
      "   Sentence spacing is the horizontal space between sentences in typeset text . It is a matter of typographical convention . Since the introduction of movable @-@ type printing in Europe , various sentence spacing conventions have been used in languages with a Latin alphabet . These include a normal word space ( as between the words in a sentence ) , a single enlarged space , and two full spaces . \n",
      "  Until the 20th century , publishing houses and printers in many countries used additional space between sentences . There were exceptions to this traditional spacing method — some printers used spacing between sentences that was no wider than word spacing . This was French spacing — a term synonymous with single @-@ space sentence spacing until the late 20th century . With the introduction of the typewriter in the late 19th century , typists used two spaces between sentences to mimic the style used by traditional typesetters . While wide sentence spacing was phased out in the printing industry in the mid @-@ twentieth century , the practice continued on typewriters and later on computers . Perhaps because of this , many modern sources now incorrectly claim that wide spacing was created for the typewriter . \n",
      "  The desired or correct sentence spacing is often debated but many sources now say additional space is not necessary or desirable . From around 1950 , single sentence spacing became standard in books , magazines and newspapers and the majority of style guides that use a Latin @-@ derived alphabet as a language base now prescribe or recommend the use of a single space after the concluding punctuation of a sentence . However , some sources still state that additional spacing is correct or acceptable . The debate continues on the World Wide Web . Many people prefer double sentence spacing for informal use because that was how they were taught to type . There is a debate on which convention is more readable ; the few recent direct studies conducted since 2002 have produced inconclusive results . \n",
      "   = = History = = \n",
      "    = = = Traditional typesetting = = = \n",
      "   Shortly after the invention of movable type , highly variable spacing was created that could create spaces of any size , and allowed for perfectly even justification . Early American , English , and other European typesetters ' style guides ( also known as printers ' rules ) specified spacing standards that were all essentially identical from the 18th century onwards . These guides — e.g. , Jacobi in the UK ( 1890 ) and MacKellar , Harpel , and De Vinne ( 1866 – 1901 ) in the U.S. — indicated that sentences should be em @-@ spaced , and that words should be 1 / 3 or 1 / 2 em @-@ spaced ( illustration right ) . The relative size of the sentence spacing would vary depending on the size of the word spaces and the justification needs . For most countries , this remained the standard for published work until the 20th century . Yet , even in this period , there were publishing houses ( notably in France ) that used a standard word space between sentences — a technique called French spacing ( illustration below ) . \n",
      "   = = = Mechanical type and the advent of the typewriter = = = \n",
      "   Mechanical type systems introduced near the end of the 19th century , such as the Linotype and Monotype machines , allowed for some variable sentence spacing similar to hand composition . Just as these machines revolutionized the mass production of text , the advent of the typewriter around the same time revolutionized the creation of personal and business documents . But the typewriters ' mechanical limitations did not allow variable spacing — typists could only choose the number of times they pressed the space bar . Typists in some English @-@ speaking countries initially learned to insert three spaces between sentences to approximate the wider sentence spacing used in traditional printing , but later settled on two spaces , a practice that continued throughout the 20th century . This became known as English spacing , and marked a divergence from French typists , who continued to use French spacing . \n",
      "   = = = Transition to single spacing = = = \n",
      "   In the early 20th century , some printers began using one and a half interword spaces ( an \" en quad \" ) to separate sentences . This standard continued in use , to some extent , into the 1990s . \n",
      "  Magazines , newspapers , and books began to adopt the single space convention in the United States in the 1940s and in the United Kingdom in the 1950s . Typists did not move to single spacing simultaneously . The average writer still relied on the typewriter to create text — with its inherent mechanical spacing limitations . \n",
      "  Technological advances began affecting sentence spacing methods . In 1941 , IBM introduced the Executive , a typewriter capable of proportional spacing — which had been used in professional typesetting for hundreds of years . This innovation broke the hold that the monospaced font had on the typewriter — reducing the severity of its mechanical limitations . By the 1960s , electronic phototypesetting systems ignored runs of white space in text . This was also true of the World Wide Web , as HTML normally ignores additional spacing , although in 2011 the CSS 2 @.@ 1 standard officially added an option that can preserve additional spaces . In the 1980s , desktop publishing software provided the average writer with more advanced formatting tools . By the late 20th century , literature on the written word had begun to adjust its guidance on sentence spacing . \n",
      "   = = Modern literature = = \n",
      "    = = = Typography = = = \n",
      "   Early positions on typography ( the \" arrangement and appearance of text \" ) supported traditional spacing techniques in English publications . In 1954 , Geoffrey Dowding 's book , Finer Points in the Spacing and Arrangement of Type , underscored the widespread shift from a single enlarged em space to a standard word space between sentences . \n",
      "  With the advent of the computer age , typographers began deprecating double spacing , even in monospaced text . In 1989 , Desktop Publishing by Design stated that \" typesetting requires only one space after periods , question marks , exclamation points , and colons \" , and identified single sentence spacing as a typographic convention . Stop Stealing Sheep & Find Out How Type Works ( 1993 ) and Designing with Type : The Essential Guide to Typography ( 2006 ) both indicate that uniform spacing should be used between words , including between sentences . \n",
      "  More recent works on typography weigh in strongly . Ilene Strizver , founder of the Type Studio , says , \" Forget about tolerating differences of opinion : typographically speaking , typing two spaces before the start of a new sentence is absolutely , unequivocally wrong . \" The Complete Manual on Typography ( 2003 ) states that \" The typewriter tradition of separating sentences with two word spaces after a period has no place in typesetting \" and the single space is \" standard typographic practice \" . The Elements of Typographic Style ( 2004 ) advocates a single space between sentences , noting that \" your typing as well as your typesetting will benefit from unlearning this quaint [ double spacing ] Victorian habit . \" \n",
      "  David Jury 's book , About Face : Reviving the Rules of Typography ( 2004 ) — published in Switzerland — clarifies the contemporary typographic position on sentence spacing : \n",
      "  Word spaces , preceding or following punctuation , should be optically adjusted to appear to be of the same value as a standard word space . If a standard word space is inserted after a full point or a comma , then , optically , this produces a space of up to 50 % wider than that of other word spaces within a line of type . This is because these punctuation marks carry space above them , which , when added to the adjacent standard word spaces , combines to create a visually larger space . Some argue that the \" additional \" space after a comma and full point serves as a \" pause signal \" for the reader . But this is unnecessary ( and visually disruptive ) since the pause signal is provided by the punctuation mark itself . \n",
      "   = = = Style and language guides = = = \n",
      "    = = = = Style guides = = = = \n",
      "   Early style guides for typesetting used a wider space between sentences than between words – \" traditional spacing \" , as shown in the illustration to the right . During the 20th century , style guides commonly mandated two spaces between sentences for typewritten manuscripts , which were used prior to professionally typesetting the work . As computer desktop publishing became commonplace , typewritten manuscripts became less relevant and most style guides stopped making distinctions between manuscripts and final typeset products . In the same period , style guides began changing their guidance on sentence spacing . The 1969 edition of the Chicago Manual of Style used em spaces between sentences in its text ; by the 2003 edition it had changed to single sentence spacing for both manuscript and print . By the 1980s , the United Kingdom 's Hart 's Rules ( 1983 ) had shifted to single sentence spacing . Other style guides followed suit in the 1990s . Soon after the beginning of the 21st century , the majority of style guides had changed to indicate that only one word space was proper between sentences . \n",
      "  Modern style guides provide standards and guidance for the written language . These works are important to writers since \" virtually all professional editors work closely with one of them in editing a manuscript for publication . \" Late editions of comprehensive style guides , such as the Oxford Style Manual ( 2003 ) in the United Kingdom and the Chicago Manual of Style ( 2010 ) in the United States , provide standards for a wide variety of writing and design topics , including sentence spacing . The majority of style guides now prescribe the use of a single space after terminal punctuation in final written wo\n"
     ]
    }
   ],
   "source": [
    "for i in re.finditer(headings[100 + 3], data):\n",
    "    idx = i.start()\n",
    "    print(data[idx : idx + 10000])"
   ]
  },
  {
   "cell_type": "code",
   "execution_count": null,
   "metadata": {},
   "outputs": [
    {
     "ename": "KeyboardInterrupt",
     "evalue": "",
     "output_type": "error",
     "traceback": [
      "\u001b[1;31m---------------------------------------------------------------------------\u001b[0m\n",
      "\u001b[1;31mKeyboardInterrupt\u001b[0m                         Traceback (most recent call last)\n",
      "Cell \u001b[1;32mIn[34], line 7\u001b[0m\n",
      "\u001b[0;32m      5\u001b[0m     \u001b[38;5;28;01mfor\u001b[39;00m i \u001b[38;5;129;01min\u001b[39;00m re\u001b[38;5;241m.\u001b[39mfinditer(headings[h], data):\n",
      "\u001b[0;32m      6\u001b[0m         heading_idx[h] \u001b[38;5;241m=\u001b[39m i\u001b[38;5;241m.\u001b[39mstart()\n",
      "\u001b[1;32m----> 7\u001b[0m         \u001b[38;5;28;01mbreak\u001b[39;00m\n",
      "\u001b[0;32m      8\u001b[0m \u001b[38;5;28;01mexcept\u001b[39;00m:\n",
      "\u001b[0;32m      9\u001b[0m     heading_idx[h] \u001b[38;5;241m=\u001b[39m \u001b[38;5;28;01mNone\u001b[39;00m\n",
      "\n",
      "\u001b[1;31mKeyboardInterrupt\u001b[0m: "
     ]
    }
   ],
   "source": [
    "articles = []\n",
    "heading_idx = {}\n",
    "for h in range(len(headings)):\n",
    "    try:\n",
    "        for i in re.finditer(headings[h], data):\n",
    "            heading_idx[h] = i.start()\n",
    "            break\n",
    "    except:\n",
    "        heading_idx[h] = None\n",
    "len(heading_idx)"
   ]
  },
  {
   "cell_type": "code",
   "execution_count": null,
   "metadata": {},
   "outputs": [],
   "source": []
  },
  {
   "cell_type": "code",
   "execution_count": null,
   "metadata": {},
   "outputs": [],
   "source": [
    "for i in range(len(headings)):\n",
    "    if i == len(headings) - 1:\n",
    "        articles.append(data[heading_idx[i]:])\n",
    "    else:\n",
    "        articles.append(data[heading_idx[i]:heading_idx[i+1]]) "
   ]
  },
  {
   "cell_type": "code",
   "execution_count": null,
   "metadata": {},
   "outputs": [],
   "source": [
    "article_lens = np.array([len(a) for a in articles])\n",
    "print(f'Data len : {len(data)}\\nArticles len: {article_lens.sum()} , {article_lens.mean()}' )"
   ]
  },
  {
   "cell_type": "code",
   "execution_count": null,
   "metadata": {},
   "outputs": [],
   "source": []
  },
  {
   "cell_type": "markdown",
   "metadata": {},
   "source": [
    "## Load Data"
   ]
  },
  {
   "cell_type": "code",
   "execution_count": 2,
   "metadata": {},
   "outputs": [
    {
     "name": "stdout",
     "output_type": "stream",
     "text": [
      "532467359\n"
     ]
    }
   ],
   "source": [
    "data = open('./data/wikitext/processed.txt', 'r').read()\n",
    "print(len(data)) # 532,467,359 characters = 532 M"
   ]
  },
  {
   "cell_type": "markdown",
   "metadata": {},
   "source": [
    "### Viz"
   ]
  },
  {
   "cell_type": "code",
   "execution_count": 28,
   "metadata": {},
   "outputs": [
    {
     "data": {
      "text/plain": [
       "[(' ', 104392756),\n",
       " ('e', 49091225),\n",
       " ('t', 34095601),\n",
       " ('a', 33724387),\n",
       " ('n', 29289422),\n",
       " ('i', 28992651),\n",
       " ('o', 28818255),\n",
       " ('r', 26331592),\n",
       " ('s', 25200925),\n",
       " ('h', 19044643),\n",
       " ('l', 16223446),\n",
       " ('d', 16030336),\n",
       " ('c', 12135913),\n",
       " ('u', 10275908),\n",
       " ('m', 9441795),\n",
       " ('f', 8448546),\n",
       " ('g', 7719415),\n",
       " ('p', 7513193),\n",
       " ('w', 6528108),\n",
       " ('y', 6026960)]"
      ]
     },
     "execution_count": 28,
     "metadata": {},
     "output_type": "execute_result"
    }
   ],
   "source": [
    "from collections import Counter\n",
    "c = Counter(data)\n",
    "c.most_common(20)"
   ]
  },
  {
   "cell_type": "code",
   "execution_count": 37,
   "metadata": {},
   "outputs": [],
   "source": [
    "occ = dict(c.items())\n",
    "occ = dict(sorted(occ.items(), key=lambda x: x[1], reverse=True))"
   ]
  },
  {
   "cell_type": "code",
   "execution_count": 38,
   "metadata": {},
   "outputs": [
    {
     "data": {
      "text/plain": [
       "<Figure size 1000x500 with 0 Axes>"
      ]
     },
     "execution_count": 38,
     "metadata": {},
     "output_type": "execute_result"
    },
    {
     "data": {
      "text/plain": [
       "<BarContainer object of 96 artists>"
      ]
     },
     "execution_count": 38,
     "metadata": {},
     "output_type": "execute_result"
    },
    {
     "data": {
      "image/png": "[encoded data removed]",
      "text/plain": [
       "<Figure size 1000x500 with 1 Axes>"
      ]
     },
     "metadata": {},
     "output_type": "display_data"
    }
   ],
   "source": [
    "plt.figure(figsize=(10, 5))\n",
    "plt.bar(occ.keys(), occ.values())\n",
    "plt.show() "
   ]
  },
  {
   "cell_type": "code",
   "execution_count": 42,
   "metadata": {},
   "outputs": [
    {
     "data": {
      "text/plain": [
       "('\\n !\"#$%&\\'()*+,-./0123456789:;<=>?@ABCDEFGHIJKLMNOPQRSTUVWXYZ[\\\\]^_`abcdefghijklmnopqrstuvwxyz{|}~',\n",
       " 96,\n",
       " '\\n')"
      ]
     },
     "execution_count": 42,
     "metadata": {},
     "output_type": "execute_result"
    }
   ],
   "source": [
    "chars = ''.join(sorted(list(occ.keys())))\n",
    "chars, len(chars), chars[0]"
   ]
  },
  {
   "cell_type": "markdown",
   "metadata": {},
   "source": [
    "### Encoding "
   ]
  },
  {
   "cell_type": "markdown",
   "metadata": {},
   "source": [
    "#### indexing"
   ]
  },
  {
   "cell_type": "code",
   "execution_count": 3,
   "metadata": {},
   "outputs": [
    {
     "data": {
      "text/plain": [
       "('\\n !\"#$%&\\'()*+,-./0123456789:;<=>?@ABCDEFGHIJKLMNOPQRSTUVWXYZ[\\\\]^_`abcdefghijklmnopqrstuvwxyz{|}~',\n",
       " 96,\n",
       " '\\n')"
      ]
     },
     "execution_count": 3,
     "metadata": {},
     "output_type": "execute_result"
    }
   ],
   "source": [
    "chars = ''.join(sorted(list(set(data))))\n",
    "chars, len(chars), chars[0]"
   ]
  },
  {
   "cell_type": "code",
   "execution_count": 4,
   "metadata": {},
   "outputs": [
    {
     "data": {
      "text/plain": [
       "[66]"
      ]
     },
     "execution_count": 4,
     "metadata": {},
     "output_type": "execute_result"
    },
    {
     "data": {
      "text/plain": [
       "'a'"
      ]
     },
     "execution_count": 4,
     "metadata": {},
     "output_type": "execute_result"
    }
   ],
   "source": [
    "def enc(x, chars = chars):\n",
    "    idxs = []\n",
    "    for c in x:\n",
    "        idxs.append(chars.index(c))\n",
    "    return idxs\n",
    "\n",
    "def dec(x, chars = chars):\n",
    "    txt = ''\n",
    "    for i in x:\n",
    "        txt += chars[i]\n",
    "    return txt\n",
    "\n",
    "enc('a', chars)\n",
    "dec(enc('a', chars),chars)"
   ]
  },
  {
   "cell_type": "code",
   "execution_count": 5,
   "metadata": {},
   "outputs": [
    {
     "data": {
      "text/plain": [
       "([1], ' ')"
      ]
     },
     "execution_count": 5,
     "metadata": {},
     "output_type": "execute_result"
    },
    {
     "data": {
      "text/plain": [
       "([46, 66, 73, 66, 79, 85, 73, 1, 58, 66, 77, 77, 66], 'Mahanth Yalla')"
      ]
     },
     "execution_count": 5,
     "metadata": {},
     "output_type": "execute_result"
    }
   ],
   "source": [
    "enc(' ', chars), dec(enc(' ', chars),chars)\n",
    "enc('Mahanth Yalla', chars), dec(enc('Mahanth Yalla', chars),chars)"
   ]
  },
  {
   "cell_type": "markdown",
   "metadata": {},
   "source": [
    "#### tiktoken"
   ]
  },
  {
   "cell_type": "code",
   "execution_count": 3,
   "metadata": {},
   "outputs": [
    {
     "data": {
      "text/plain": [
       "[64]"
      ]
     },
     "execution_count": 3,
     "metadata": {},
     "output_type": "execute_result"
    },
    {
     "data": {
      "text/plain": [
       "'a'"
      ]
     },
     "execution_count": 3,
     "metadata": {},
     "output_type": "execute_result"
    }
   ],
   "source": [
    "import tiktoken \n",
    "\n",
    "tik = tiktoken.get_encoding('gpt2')\n",
    "tik.encode('a')\n",
    "tik.decode(tik.encode('a'))"
   ]
  },
  {
   "cell_type": "code",
   "execution_count": 4,
   "metadata": {},
   "outputs": [
    {
     "data": {
      "text/plain": [
       "[44, 19210, 400, 575, 30315]"
      ]
     },
     "execution_count": 4,
     "metadata": {},
     "output_type": "execute_result"
    },
    {
     "data": {
      "text/plain": [
       "'Mahanth Yalla'"
      ]
     },
     "execution_count": 4,
     "metadata": {},
     "output_type": "execute_result"
    }
   ],
   "source": [
    "tik.encode('Mahanth Yalla')\n",
    "tik.decode(tik.encode('Mahanth Yalla'))"
   ]
  },
  {
   "cell_type": "code",
   "execution_count": 5,
   "metadata": {},
   "outputs": [],
   "source": [
    "# tik.encode('&^$%\": >;.][>}{>.][][1239-]}]')\n",
    "# tik.decode(tik.encode('&^$%\": >;.][>}{>.][][1239-]}]'))"
   ]
  },
  {
   "cell_type": "markdown",
   "metadata": {},
   "source": [
    "### select encoder"
   ]
  },
  {
   "cell_type": "code",
   "execution_count": 6,
   "metadata": {},
   "outputs": [],
   "source": [
    "# indexing\n",
    "enc = enc\n",
    "dec = dec\n",
    "vocab_size = len(chars)\n",
    "\n",
    "# # tiktoken\n",
    "# enc = tik.encode\n",
    "# dec = tik.decode\n",
    "# vocab_size = tik.vocab_size"
   ]
  },
  {
   "cell_type": "markdown",
   "metadata": {},
   "source": [
    "development purpose, taking first 1M chars only "
   ]
  },
  {
   "cell_type": "code",
   "execution_count": 7,
   "metadata": {},
   "outputs": [],
   "source": [
    "data = data[:1000000]"
   ]
  },
  {
   "cell_type": "code",
   "execution_count": 8,
   "metadata": {},
   "outputs": [
    {
     "data": {
      "text/plain": [
       "(torch.Size([1000000]), torch.int64)"
      ]
     },
     "execution_count": 8,
     "metadata": {},
     "output_type": "execute_result"
    },
    {
     "data": {
      "text/plain": [
       "tensor([30,  1, 55, 66, 77, 76, 90, 83, 74, 66,  1, 36, 73, 83, 80, 79, 74, 68,\n",
       "        77, 70, 84,  1, 42, 42, 42])"
      ]
     },
     "execution_count": 8,
     "metadata": {},
     "output_type": "execute_result"
    }
   ],
   "source": [
    "data = torch.tensor(enc(data), dtype=torch.long)\n",
    "data.shape, data.dtype \n",
    "data[:25]"
   ]
  },
  {
   "cell_type": "code",
   "execution_count": 9,
   "metadata": {},
   "outputs": [
    {
     "data": {
      "text/plain": [
       "(torch.Size([800000]), torch.Size([100000]), torch.Size([100000]))"
      ]
     },
     "execution_count": 9,
     "metadata": {},
     "output_type": "execute_result"
    }
   ],
   "source": [
    "n1 = int(0.8 * len(data))\n",
    "n2 = int(0.9 * len(data))\n",
    "Xtr = data[:n1]\n",
    "Xdev = data[n1:n2]\n",
    "Xte = data[n2:]\n",
    "Xtr.shape, Xdev.shape, Xte.shape"
   ]
  },
  {
   "cell_type": "markdown",
   "metadata": {},
   "source": [
    "##### Batch Training"
   ]
  },
  {
   "cell_type": "code",
   "execution_count": 10,
   "metadata": {},
   "outputs": [
    {
     "data": {
      "text/plain": [
       "(tensor([30,  1, 55, 66, 77, 76, 90, 83]), '= Valkyr', tensor(66), 'i')"
      ]
     },
     "execution_count": 10,
     "metadata": {},
     "output_type": "execute_result"
    }
   ],
   "source": [
    "block_size  = 8\n",
    "Xtr[:block_size] , dec(Xtr[:block_size].numpy().astype(int)) , Xtr[block_size+1] , dec([Xtr[block_size].item()])"
   ]
  },
  {
   "cell_type": "code",
   "execution_count": 12,
   "metadata": {},
   "outputs": [
    {
     "name": "stdout",
     "output_type": "stream",
     "text": [
      " -> y\n",
      "y -> r\n",
      "yr -> i\n",
      "yri -> a\n",
      "yria ->  \n",
      "yria  -> o\n",
      "yria o -> f\n",
      "yria of ->  \n"
     ]
    }
   ],
   "source": [
    "start = 100\n",
    "for s in range(block_size):\n",
    "    context = Xtr[start:start + s]\n",
    "    target = Xtr[start + s]\n",
    "    print(f'{dec(context.numpy().astype(int))} -> {dec([target.item()])}')\n"
   ]
  },
  {
   "cell_type": "code",
   "execution_count": 22,
   "metadata": {},
   "outputs": [
    {
     "data": {
      "text/plain": [
       "(torch.Size([4, 8]), torch.Size([4, 8]))"
      ]
     },
     "execution_count": 22,
     "metadata": {},
     "output_type": "execute_result"
    }
   ],
   "source": [
    "batch_size = 4 \n",
    "def get_batch(split):\n",
    "    if split == 'train':\n",
    "        X = Xtr\n",
    "    elif split == 'dev':\n",
    "        X = Xdev\n",
    "    else:\n",
    "        X = Xte\n",
    "    start = np.random.randint(0, len(X) - block_size - 1, (batch_size,))\n",
    "    X_batch = torch.stack([X[s:s + block_size] for s in start])\n",
    "    y_batch = torch.stack([X[s+1:s + block_size+1] for s in start])\n",
    "    return X_batch, y_batch\n",
    "\n",
    "X_batch, y_batch = get_batch('train')\n",
    "X_batch.shape, y_batch.shape"
   ]
  },
  {
   "cell_type": "code",
   "execution_count": 23,
   "metadata": {},
   "outputs": [
    {
     "data": {
      "text/plain": [
       "(tensor([[80, 79,  1, 80, 71,  1, 81, 83],\n",
       "         [79, 69,  1, 83, 70, 69, 74, 84],\n",
       "         [66,  1, 68, 80, 79, 84, 74, 69],\n",
       "         [77, 74, 85, 90,  1, 84, 85, 86]]),\n",
       " tensor([[79,  1, 80, 71,  1, 81, 83, 80],\n",
       "         [69,  1, 83, 70, 69, 74, 84, 85],\n",
       "         [ 1, 68, 80, 79, 84, 74, 69, 70],\n",
       "         [74, 85, 90,  1, 84, 85, 86, 69]]))"
      ]
     },
     "execution_count": 23,
     "metadata": {},
     "output_type": "execute_result"
    }
   ],
   "source": [
    "X_batch, y_batch"
   ]
  },
  {
   "cell_type": "code",
   "execution_count": 24,
   "metadata": {},
   "outputs": [
    {
     "name": "stdout",
     "output_type": "stream",
     "text": [
      "o -> n\n",
      "on ->  \n",
      "on  -> o\n",
      "on o -> f\n",
      "on of ->  \n",
      "on of  -> p\n",
      "on of p -> r\n",
      "n -> d\n",
      "nd ->  \n",
      "nd  -> r\n",
      "nd r -> e\n",
      "nd re -> d\n",
      "nd red -> i\n",
      "nd redi -> s\n",
      "a ->  \n",
      "a  -> c\n",
      "a c -> o\n",
      "a co -> n\n",
      "a con -> s\n",
      "a cons -> i\n",
      "a consi -> d\n",
      "l -> i\n",
      "li -> t\n",
      "lit -> y\n",
      "lity ->  \n",
      "lity  -> s\n",
      "lity s -> t\n",
      "lity st -> u\n"
     ]
    }
   ],
   "source": [
    "for i in range(batch_size):\n",
    "    for s in range(1,block_size):\n",
    "        print(f'{dec(X_batch[i].numpy().astype(int))[:s]} -> {dec(y_batch[i].numpy().astype(int))[s-1]}')\n"
   ]
  },
  {
   "cell_type": "markdown",
   "metadata": {},
   "source": [
    "# miniGPT-v1.0 - Bi-gram Model"
   ]
  },
  {
   "cell_type": "markdown",
   "metadata": {},
   "source": [
    "expected loss"
   ]
  },
  {
   "cell_type": "code",
   "execution_count": 11,
   "metadata": {},
   "outputs": [
    {
     "data": {
      "text/plain": [
       "4.564348191467836"
      ]
     },
     "execution_count": 11,
     "metadata": {},
     "output_type": "execute_result"
    }
   ],
   "source": [
    "-np.log(1/vocab_size)"
   ]
  },
  {
   "cell_type": "markdown",
   "metadata": {},
   "source": [
    "REUSING : model from [02_char_based_GPT_bigram.py](https://github.com/Mahanth-Maha/mahaMiniGPT/blob/main/02_char_based_GPT_bigram.py)"
   ]
  },
  {
   "cell_type": "code",
   "execution_count": 37,
   "metadata": {},
   "outputs": [
    {
     "data": {
      "text/plain": [
       "(torch.Size([4, 8, 96]), 4.853832721710205)"
      ]
     },
     "execution_count": 37,
     "metadata": {},
     "output_type": "execute_result"
    }
   ],
   "source": [
    "def get_batch(split):\n",
    "    if split == 'train':\n",
    "        X = Xtr\n",
    "    elif split == 'dev':\n",
    "        X = Xdev\n",
    "    else:\n",
    "        X = Xte\n",
    "    start = np.random.randint(0, len(X) - block_size - 1, (batch_size,))\n",
    "    X_batch = torch.stack([X[s:s + block_size] for s in start])\n",
    "    y_batch = torch.stack([X[s+1:s + block_size+1] for s in start])\n",
    "    return X_batch, y_batch\n",
    "\n",
    "class BiGramLanguageModel(nn.Module):\n",
    "\n",
    "    def __init__(self, vocab_size):\n",
    "        super(BiGramLanguageModel, self).__init__()\n",
    "        self.vocab_size = vocab_size\n",
    "        self.token_embedding_table = nn.Embedding(vocab_size, vocab_size)\n",
    "\n",
    "    def forward(self, x, y=None):\n",
    "        # (batch_size, block_size, vocab_size)\n",
    "        logits = self.token_embedding_table(x)\n",
    "        if y is None:\n",
    "            return logits\n",
    "\n",
    "        # entropy expects : (N, C) input : (batch_size * block_size, vocab_size)\n",
    "        loss = F.cross_entropy(logits.view(-1, self.vocab_size), y.view(-1))\n",
    "        return logits, loss\n",
    "\n",
    "    def generate(self, x, n_pred):\n",
    "        for _ in range(n_pred):\n",
    "            logits = self(x)[:, -1, :]\n",
    "            prob_dist = F.softmax(logits, -1)\n",
    "            x = torch.cat([x, torch.multinomial(prob_dist, 1)], -1)\n",
    "        return x\n",
    "    \n",
    "model = BiGramLanguageModel(vocab_size)\n",
    "# model.to('cpu')\n",
    "logits, loss = model(X_batch,y_batch)\n",
    "logits.shape, loss.item()"
   ]
  },
  {
   "cell_type": "code",
   "execution_count": null,
   "metadata": {},
   "outputs": [
    {
     "data": {
      "text/plain": [
       "torch.Size([4, 18])"
      ]
     },
     "execution_count": 36,
     "metadata": {},
     "output_type": "execute_result"
    },
    {
     "data": {
      "text/plain": [
       "['on of pr ROP+Ah[N_',\n",
       " 'nd redisjd* D@3Wl-',\n",
       " 'a considY/WRfhA({y',\n",
       " 'lity stu_BeaKxeHbV']"
      ]
     },
     "execution_count": 36,
     "metadata": {},
     "output_type": "execute_result"
    }
   ],
   "source": [
    "out = model.generate(X_batch, 10) \n",
    "out.shape\n",
    "out_strs = [dec(x.numpy().astype(int)) for x in out]\n",
    "out_strs\n",
    "# literally random !!! "
   ]
  },
  {
   "cell_type": "code",
   "execution_count": 38,
   "metadata": {},
   "outputs": [
    {
     "data": {
      "text/plain": [
       "5.162155628204346"
      ]
     },
     "execution_count": 38,
     "metadata": {},
     "output_type": "execute_result"
    }
   ],
   "source": [
    "def estimate_loss(model):\n",
    "    with torch.no_grad():\n",
    "        X_batch, y_batch = get_batch('dev')\n",
    "        logits, loss = model(X_batch, y_batch)\n",
    "        return loss.item()\n",
    "\n",
    "estimate_loss(model)"
   ]
  },
  {
   "cell_type": "markdown",
   "metadata": {},
   "source": [
    "Training using ~~SGD~~ AdamW"
   ]
  },
  {
   "cell_type": "code",
   "execution_count": 40,
   "metadata": {},
   "outputs": [],
   "source": [
    "alpha = 1e-3\n",
    "optimiser = optim.AdamW(model.parameters(), lr=alpha) "
   ]
  },
  {
   "cell_type": "code",
   "execution_count": 44,
   "metadata": {},
   "outputs": [],
   "source": [
    "batch_size = 64\n",
    "block_size = 16\n",
    "n_iters = 10000"
   ]
  },
  {
   "cell_type": "code",
   "execution_count": 45,
   "metadata": {},
   "outputs": [
    {
     "name": "stdout",
     "output_type": "stream",
     "text": [
      "Iter : 0, Train Loss : 3.8952, Valid Loss : 3.9066\n",
      "Iter : 10000, Train Loss : 2.3962, Valid Loss : 2.4708\n"
     ]
    },
    {
     "ename": "KeyboardInterrupt",
     "evalue": "",
     "output_type": "error",
     "traceback": [
      "\u001b[1;31m---------------------------------------------------------------------------\u001b[0m",
      "\u001b[1;31mKeyboardInterrupt\u001b[0m                         Traceback (most recent call last)",
      "Cell \u001b[1;32mIn[45], line 5\u001b[0m\n\u001b[0;32m      3\u001b[0m logits, loss \u001b[38;5;241m=\u001b[39m model(x, y)\n\u001b[0;32m      4\u001b[0m loss\u001b[38;5;241m.\u001b[39mbackward()\n\u001b[1;32m----> 5\u001b[0m \u001b[43moptimiser\u001b[49m\u001b[38;5;241;43m.\u001b[39;49m\u001b[43mstep\u001b[49m\u001b[43m(\u001b[49m\u001b[43m)\u001b[49m\n\u001b[0;32m      6\u001b[0m optimiser\u001b[38;5;241m.\u001b[39mzero_grad(set_to_none\u001b[38;5;241m=\u001b[39m\u001b[38;5;28;01mTrue\u001b[39;00m)\n\u001b[0;32m      7\u001b[0m \u001b[38;5;28;01mif\u001b[39;00m \u001b[38;5;28miter\u001b[39m \u001b[38;5;241m%\u001b[39m (n_iters \u001b[38;5;241m/\u001b[39m\u001b[38;5;241m/\u001b[39m \u001b[38;5;241m10\u001b[39m) \u001b[38;5;241m==\u001b[39m \u001b[38;5;241m0\u001b[39m:\n",
      "File \u001b[1;32mc:\\Users\\myalla\\anaconda3\\envs\\iisc\\lib\\site-packages\\torch\\optim\\optimizer.py:493\u001b[0m, in \u001b[0;36mOptimizer.profile_hook_step.<locals>.wrapper\u001b[1;34m(*args, **kwargs)\u001b[0m\n\u001b[0;32m    488\u001b[0m         \u001b[38;5;28;01melse\u001b[39;00m:\n\u001b[0;32m    489\u001b[0m             \u001b[38;5;28;01mraise\u001b[39;00m \u001b[38;5;167;01mRuntimeError\u001b[39;00m(\n\u001b[0;32m    490\u001b[0m                 \u001b[38;5;124mf\u001b[39m\u001b[38;5;124m\"\u001b[39m\u001b[38;5;132;01m{\u001b[39;00mfunc\u001b[38;5;132;01m}\u001b[39;00m\u001b[38;5;124m must return None or a tuple of (new_args, new_kwargs), but got \u001b[39m\u001b[38;5;132;01m{\u001b[39;00mresult\u001b[38;5;132;01m}\u001b[39;00m\u001b[38;5;124m.\u001b[39m\u001b[38;5;124m\"\u001b[39m\n\u001b[0;32m    491\u001b[0m             )\n\u001b[1;32m--> 493\u001b[0m out \u001b[38;5;241m=\u001b[39m func(\u001b[38;5;241m*\u001b[39margs, \u001b[38;5;241m*\u001b[39m\u001b[38;5;241m*\u001b[39mkwargs)\n\u001b[0;32m    494\u001b[0m \u001b[38;5;28mself\u001b[39m\u001b[38;5;241m.\u001b[39m_optimizer_step_code()\n\u001b[0;32m    496\u001b[0m \u001b[38;5;66;03m# call optimizer step post hooks\u001b[39;00m\n",
      "File \u001b[1;32mc:\\Users\\myalla\\anaconda3\\envs\\iisc\\lib\\site-packages\\torch\\optim\\optimizer.py:91\u001b[0m, in \u001b[0;36m_use_grad_for_differentiable.<locals>._use_grad\u001b[1;34m(self, *args, **kwargs)\u001b[0m\n\u001b[0;32m     89\u001b[0m     torch\u001b[38;5;241m.\u001b[39mset_grad_enabled(\u001b[38;5;28mself\u001b[39m\u001b[38;5;241m.\u001b[39mdefaults[\u001b[38;5;124m\"\u001b[39m\u001b[38;5;124mdifferentiable\u001b[39m\u001b[38;5;124m\"\u001b[39m])\n\u001b[0;32m     90\u001b[0m     torch\u001b[38;5;241m.\u001b[39m_dynamo\u001b[38;5;241m.\u001b[39mgraph_break()\n\u001b[1;32m---> 91\u001b[0m     ret \u001b[38;5;241m=\u001b[39m func(\u001b[38;5;28mself\u001b[39m, \u001b[38;5;241m*\u001b[39margs, \u001b[38;5;241m*\u001b[39m\u001b[38;5;241m*\u001b[39mkwargs)\n\u001b[0;32m     92\u001b[0m \u001b[38;5;28;01mfinally\u001b[39;00m:\n\u001b[0;32m     93\u001b[0m     torch\u001b[38;5;241m.\u001b[39m_dynamo\u001b[38;5;241m.\u001b[39mgraph_break()\n",
      "File \u001b[1;32mc:\\Users\\myalla\\anaconda3\\envs\\iisc\\lib\\site-packages\\torch\\optim\\adam.py:247\u001b[0m, in \u001b[0;36mAdam.step\u001b[1;34m(self, closure)\u001b[0m\n\u001b[0;32m    235\u001b[0m     beta1, beta2 \u001b[38;5;241m=\u001b[39m group[\u001b[38;5;124m\"\u001b[39m\u001b[38;5;124mbetas\u001b[39m\u001b[38;5;124m\"\u001b[39m]\n\u001b[0;32m    237\u001b[0m     has_complex \u001b[38;5;241m=\u001b[39m \u001b[38;5;28mself\u001b[39m\u001b[38;5;241m.\u001b[39m_init_group(\n\u001b[0;32m    238\u001b[0m         group,\n\u001b[0;32m    239\u001b[0m         params_with_grad,\n\u001b[1;32m   (...)\u001b[0m\n\u001b[0;32m    244\u001b[0m         state_steps,\n\u001b[0;32m    245\u001b[0m     )\n\u001b[1;32m--> 247\u001b[0m     \u001b[43madam\u001b[49m\u001b[43m(\u001b[49m\n\u001b[0;32m    248\u001b[0m \u001b[43m        \u001b[49m\u001b[43mparams_with_grad\u001b[49m\u001b[43m,\u001b[49m\n\u001b[0;32m    249\u001b[0m \u001b[43m        \u001b[49m\u001b[43mgrads\u001b[49m\u001b[43m,\u001b[49m\n\u001b[0;32m    250\u001b[0m \u001b[43m        \u001b[49m\u001b[43mexp_avgs\u001b[49m\u001b[43m,\u001b[49m\n\u001b[0;32m    251\u001b[0m \u001b[43m        \u001b[49m\u001b[43mexp_avg_sqs\u001b[49m\u001b[43m,\u001b[49m\n\u001b[0;32m    252\u001b[0m \u001b[43m        \u001b[49m\u001b[43mmax_exp_avg_sqs\u001b[49m\u001b[43m,\u001b[49m\n\u001b[0;32m    253\u001b[0m \u001b[43m        \u001b[49m\u001b[43mstate_steps\u001b[49m\u001b[43m,\u001b[49m\n\u001b[0;32m    254\u001b[0m \u001b[43m        \u001b[49m\u001b[43mamsgrad\u001b[49m\u001b[38;5;241;43m=\u001b[39;49m\u001b[43mgroup\u001b[49m\u001b[43m[\u001b[49m\u001b[38;5;124;43m\"\u001b[39;49m\u001b[38;5;124;43mamsgrad\u001b[39;49m\u001b[38;5;124;43m\"\u001b[39;49m\u001b[43m]\u001b[49m\u001b[43m,\u001b[49m\n\u001b[0;32m    255\u001b[0m \u001b[43m        \u001b[49m\u001b[43mhas_complex\u001b[49m\u001b[38;5;241;43m=\u001b[39;49m\u001b[43mhas_complex\u001b[49m\u001b[43m,\u001b[49m\n\u001b[0;32m    256\u001b[0m \u001b[43m        \u001b[49m\u001b[43mbeta1\u001b[49m\u001b[38;5;241;43m=\u001b[39;49m\u001b[43mbeta1\u001b[49m\u001b[43m,\u001b[49m\n\u001b[0;32m    257\u001b[0m \u001b[43m        \u001b[49m\u001b[43mbeta2\u001b[49m\u001b[38;5;241;43m=\u001b[39;49m\u001b[43mbeta2\u001b[49m\u001b[43m,\u001b[49m\n\u001b[0;32m    258\u001b[0m \u001b[43m        \u001b[49m\u001b[43mlr\u001b[49m\u001b[38;5;241;43m=\u001b[39;49m\u001b[43mgroup\u001b[49m\u001b[43m[\u001b[49m\u001b[38;5;124;43m\"\u001b[39;49m\u001b[38;5;124;43mlr\u001b[39;49m\u001b[38;5;124;43m\"\u001b[39;49m\u001b[43m]\u001b[49m\u001b[43m,\u001b[49m\n\u001b[0;32m    259\u001b[0m \u001b[43m        \u001b[49m\u001b[43mweight_decay\u001b[49m\u001b[38;5;241;43m=\u001b[39;49m\u001b[43mgroup\u001b[49m\u001b[43m[\u001b[49m\u001b[38;5;124;43m\"\u001b[39;49m\u001b[38;5;124;43mweight_decay\u001b[39;49m\u001b[38;5;124;43m\"\u001b[39;49m\u001b[43m]\u001b[49m\u001b[43m,\u001b[49m\n\u001b[0;32m    260\u001b[0m \u001b[43m        \u001b[49m\u001b[43meps\u001b[49m\u001b[38;5;241;43m=\u001b[39;49m\u001b[43mgroup\u001b[49m\u001b[43m[\u001b[49m\u001b[38;5;124;43m\"\u001b[39;49m\u001b[38;5;124;43meps\u001b[39;49m\u001b[38;5;124;43m\"\u001b[39;49m\u001b[43m]\u001b[49m\u001b[43m,\u001b[49m\n\u001b[0;32m    261\u001b[0m \u001b[43m        \u001b[49m\u001b[43mmaximize\u001b[49m\u001b[38;5;241;43m=\u001b[39;49m\u001b[43mgroup\u001b[49m\u001b[43m[\u001b[49m\u001b[38;5;124;43m\"\u001b[39;49m\u001b[38;5;124;43mmaximize\u001b[39;49m\u001b[38;5;124;43m\"\u001b[39;49m\u001b[43m]\u001b[49m\u001b[43m,\u001b[49m\n\u001b[0;32m    262\u001b[0m \u001b[43m        \u001b[49m\u001b[43mforeach\u001b[49m\u001b[38;5;241;43m=\u001b[39;49m\u001b[43mgroup\u001b[49m\u001b[43m[\u001b[49m\u001b[38;5;124;43m\"\u001b[39;49m\u001b[38;5;124;43mforeach\u001b[39;49m\u001b[38;5;124;43m\"\u001b[39;49m\u001b[43m]\u001b[49m\u001b[43m,\u001b[49m\n\u001b[0;32m    263\u001b[0m \u001b[43m        \u001b[49m\u001b[43mcapturable\u001b[49m\u001b[38;5;241;43m=\u001b[39;49m\u001b[43mgroup\u001b[49m\u001b[43m[\u001b[49m\u001b[38;5;124;43m\"\u001b[39;49m\u001b[38;5;124;43mcapturable\u001b[39;49m\u001b[38;5;124;43m\"\u001b[39;49m\u001b[43m]\u001b[49m\u001b[43m,\u001b[49m\n\u001b[0;32m    264\u001b[0m \u001b[43m        \u001b[49m\u001b[43mdifferentiable\u001b[49m\u001b[38;5;241;43m=\u001b[39;49m\u001b[43mgroup\u001b[49m\u001b[43m[\u001b[49m\u001b[38;5;124;43m\"\u001b[39;49m\u001b[38;5;124;43mdifferentiable\u001b[39;49m\u001b[38;5;124;43m\"\u001b[39;49m\u001b[43m]\u001b[49m\u001b[43m,\u001b[49m\n\u001b[0;32m    265\u001b[0m \u001b[43m        \u001b[49m\u001b[43mfused\u001b[49m\u001b[38;5;241;43m=\u001b[39;49m\u001b[43mgroup\u001b[49m\u001b[43m[\u001b[49m\u001b[38;5;124;43m\"\u001b[39;49m\u001b[38;5;124;43mfused\u001b[39;49m\u001b[38;5;124;43m\"\u001b[39;49m\u001b[43m]\u001b[49m\u001b[43m,\u001b[49m\n\u001b[0;32m    266\u001b[0m \u001b[43m        \u001b[49m\u001b[43mgrad_scale\u001b[49m\u001b[38;5;241;43m=\u001b[39;49m\u001b[38;5;28;43mgetattr\u001b[39;49m\u001b[43m(\u001b[49m\u001b[38;5;28;43mself\u001b[39;49m\u001b[43m,\u001b[49m\u001b[43m \u001b[49m\u001b[38;5;124;43m\"\u001b[39;49m\u001b[38;5;124;43mgrad_scale\u001b[39;49m\u001b[38;5;124;43m\"\u001b[39;49m\u001b[43m,\u001b[49m\u001b[43m \u001b[49m\u001b[38;5;28;43;01mNone\u001b[39;49;00m\u001b[43m)\u001b[49m\u001b[43m,\u001b[49m\n\u001b[0;32m    267\u001b[0m \u001b[43m        \u001b[49m\u001b[43mfound_inf\u001b[49m\u001b[38;5;241;43m=\u001b[39;49m\u001b[38;5;28;43mgetattr\u001b[39;49m\u001b[43m(\u001b[49m\u001b[38;5;28;43mself\u001b[39;49m\u001b[43m,\u001b[49m\u001b[43m \u001b[49m\u001b[38;5;124;43m\"\u001b[39;49m\u001b[38;5;124;43mfound_inf\u001b[39;49m\u001b[38;5;124;43m\"\u001b[39;49m\u001b[43m,\u001b[49m\u001b[43m \u001b[49m\u001b[38;5;28;43;01mNone\u001b[39;49;00m\u001b[43m)\u001b[49m\u001b[43m,\u001b[49m\n\u001b[0;32m    268\u001b[0m \u001b[43m        \u001b[49m\u001b[43mdecoupled_weight_decay\u001b[49m\u001b[38;5;241;43m=\u001b[39;49m\u001b[43mgroup\u001b[49m\u001b[43m[\u001b[49m\u001b[38;5;124;43m\"\u001b[39;49m\u001b[38;5;124;43mdecoupled_weight_decay\u001b[39;49m\u001b[38;5;124;43m\"\u001b[39;49m\u001b[43m]\u001b[49m\u001b[43m,\u001b[49m\n\u001b[0;32m    269\u001b[0m \u001b[43m    \u001b[49m\u001b[43m)\u001b[49m\n\u001b[0;32m    271\u001b[0m \u001b[38;5;28;01mreturn\u001b[39;00m loss\n",
      "File \u001b[1;32mc:\\Users\\myalla\\anaconda3\\envs\\iisc\\lib\\site-packages\\torch\\optim\\optimizer.py:154\u001b[0m, in \u001b[0;36m_disable_dynamo_if_unsupported.<locals>.wrapper.<locals>.maybe_fallback\u001b[1;34m(*args, **kwargs)\u001b[0m\n\u001b[0;32m    152\u001b[0m     \u001b[38;5;28;01mreturn\u001b[39;00m disabled_func(\u001b[38;5;241m*\u001b[39margs, \u001b[38;5;241m*\u001b[39m\u001b[38;5;241m*\u001b[39mkwargs)\n\u001b[0;32m    153\u001b[0m \u001b[38;5;28;01melse\u001b[39;00m:\n\u001b[1;32m--> 154\u001b[0m     \u001b[38;5;28;01mreturn\u001b[39;00m func(\u001b[38;5;241m*\u001b[39margs, \u001b[38;5;241m*\u001b[39m\u001b[38;5;241m*\u001b[39mkwargs)\n",
      "File \u001b[1;32mc:\\Users\\myalla\\anaconda3\\envs\\iisc\\lib\\site-packages\\torch\\optim\\adam.py:931\u001b[0m, in \u001b[0;36madam\u001b[1;34m(params, grads, exp_avgs, exp_avg_sqs, max_exp_avg_sqs, state_steps, foreach, capturable, differentiable, fused, grad_scale, found_inf, has_complex, decoupled_weight_decay, amsgrad, beta1, beta2, lr, weight_decay, eps, maximize)\u001b[0m\n\u001b[0;32m    928\u001b[0m \u001b[38;5;28;01melse\u001b[39;00m:\n\u001b[0;32m    929\u001b[0m     func \u001b[38;5;241m=\u001b[39m _single_tensor_adam\n\u001b[1;32m--> 931\u001b[0m \u001b[43mfunc\u001b[49m\u001b[43m(\u001b[49m\n\u001b[0;32m    932\u001b[0m \u001b[43m    \u001b[49m\u001b[43mparams\u001b[49m\u001b[43m,\u001b[49m\n\u001b[0;32m    933\u001b[0m \u001b[43m    \u001b[49m\u001b[43mgrads\u001b[49m\u001b[43m,\u001b[49m\n\u001b[0;32m    934\u001b[0m \u001b[43m    \u001b[49m\u001b[43mexp_avgs\u001b[49m\u001b[43m,\u001b[49m\n\u001b[0;32m    935\u001b[0m \u001b[43m    \u001b[49m\u001b[43mexp_avg_sqs\u001b[49m\u001b[43m,\u001b[49m\n\u001b[0;32m    936\u001b[0m \u001b[43m    \u001b[49m\u001b[43mmax_exp_avg_sqs\u001b[49m\u001b[43m,\u001b[49m\n\u001b[0;32m    937\u001b[0m \u001b[43m    \u001b[49m\u001b[43mstate_steps\u001b[49m\u001b[43m,\u001b[49m\n\u001b[0;32m    938\u001b[0m \u001b[43m    \u001b[49m\u001b[43mamsgrad\u001b[49m\u001b[38;5;241;43m=\u001b[39;49m\u001b[43mamsgrad\u001b[49m\u001b[43m,\u001b[49m\n\u001b[0;32m    939\u001b[0m \u001b[43m    \u001b[49m\u001b[43mhas_complex\u001b[49m\u001b[38;5;241;43m=\u001b[39;49m\u001b[43mhas_complex\u001b[49m\u001b[43m,\u001b[49m\n\u001b[0;32m    940\u001b[0m \u001b[43m    \u001b[49m\u001b[43mbeta1\u001b[49m\u001b[38;5;241;43m=\u001b[39;49m\u001b[43mbeta1\u001b[49m\u001b[43m,\u001b[49m\n\u001b[0;32m    941\u001b[0m \u001b[43m    \u001b[49m\u001b[43mbeta2\u001b[49m\u001b[38;5;241;43m=\u001b[39;49m\u001b[43mbeta2\u001b[49m\u001b[43m,\u001b[49m\n\u001b[0;32m    942\u001b[0m \u001b[43m    \u001b[49m\u001b[43mlr\u001b[49m\u001b[38;5;241;43m=\u001b[39;49m\u001b[43mlr\u001b[49m\u001b[43m,\u001b[49m\n\u001b[0;32m    943\u001b[0m \u001b[43m    \u001b[49m\u001b[43mweight_decay\u001b[49m\u001b[38;5;241;43m=\u001b[39;49m\u001b[43mweight_decay\u001b[49m\u001b[43m,\u001b[49m\n\u001b[0;32m    944\u001b[0m \u001b[43m    \u001b[49m\u001b[43meps\u001b[49m\u001b[38;5;241;43m=\u001b[39;49m\u001b[43meps\u001b[49m\u001b[43m,\u001b[49m\n\u001b[0;32m    945\u001b[0m \u001b[43m    \u001b[49m\u001b[43mmaximize\u001b[49m\u001b[38;5;241;43m=\u001b[39;49m\u001b[43mmaximize\u001b[49m\u001b[43m,\u001b[49m\n\u001b[0;32m    946\u001b[0m \u001b[43m    \u001b[49m\u001b[43mcapturable\u001b[49m\u001b[38;5;241;43m=\u001b[39;49m\u001b[43mcapturable\u001b[49m\u001b[43m,\u001b[49m\n\u001b[0;32m    947\u001b[0m \u001b[43m    \u001b[49m\u001b[43mdifferentiable\u001b[49m\u001b[38;5;241;43m=\u001b[39;49m\u001b[43mdifferentiable\u001b[49m\u001b[43m,\u001b[49m\n\u001b[0;32m    948\u001b[0m \u001b[43m    \u001b[49m\u001b[43mgrad_scale\u001b[49m\u001b[38;5;241;43m=\u001b[39;49m\u001b[43mgrad_scale\u001b[49m\u001b[43m,\u001b[49m\n\u001b[0;32m    949\u001b[0m \u001b[43m    \u001b[49m\u001b[43mfound_inf\u001b[49m\u001b[38;5;241;43m=\u001b[39;49m\u001b[43mfound_inf\u001b[49m\u001b[43m,\u001b[49m\n\u001b[0;32m    950\u001b[0m \u001b[43m    \u001b[49m\u001b[43mdecoupled_weight_decay\u001b[49m\u001b[38;5;241;43m=\u001b[39;49m\u001b[43mdecoupled_weight_decay\u001b[49m\u001b[43m,\u001b[49m\n\u001b[0;32m    951\u001b[0m \u001b[43m\u001b[49m\u001b[43m)\u001b[49m\n",
      "File \u001b[1;32mc:\\Users\\myalla\\anaconda3\\envs\\iisc\\lib\\site-packages\\torch\\optim\\adam.py:523\u001b[0m, in \u001b[0;36m_single_tensor_adam\u001b[1;34m(params, grads, exp_avgs, exp_avg_sqs, max_exp_avg_sqs, state_steps, grad_scale, found_inf, amsgrad, has_complex, beta1, beta2, lr, weight_decay, eps, maximize, capturable, differentiable, decoupled_weight_decay)\u001b[0m\n\u001b[0;32m    521\u001b[0m         denom \u001b[38;5;241m=\u001b[39m (max_exp_avg_sqs[i]\u001b[38;5;241m.\u001b[39msqrt() \u001b[38;5;241m/\u001b[39m bias_correction2_sqrt)\u001b[38;5;241m.\u001b[39madd_(eps)\n\u001b[0;32m    522\u001b[0m     \u001b[38;5;28;01melse\u001b[39;00m:\n\u001b[1;32m--> 523\u001b[0m         denom \u001b[38;5;241m=\u001b[39m \u001b[43m(\u001b[49m\u001b[43mexp_avg_sq\u001b[49m\u001b[38;5;241;43m.\u001b[39;49m\u001b[43msqrt\u001b[49m\u001b[43m(\u001b[49m\u001b[43m)\u001b[49m\u001b[43m \u001b[49m\u001b[38;5;241;43m/\u001b[39;49m\u001b[43m \u001b[49m\u001b[43mbias_correction2_sqrt\u001b[49m\u001b[43m)\u001b[49m\u001b[38;5;241;43m.\u001b[39;49m\u001b[43madd_\u001b[49m\u001b[43m(\u001b[49m\u001b[43meps\u001b[49m\u001b[43m)\u001b[49m\n\u001b[0;32m    525\u001b[0m     param\u001b[38;5;241m.\u001b[39maddcdiv_(exp_avg, denom, value\u001b[38;5;241m=\u001b[39m\u001b[38;5;241m-\u001b[39mstep_size)\n\u001b[0;32m    527\u001b[0m \u001b[38;5;66;03m# Lastly, switch back to complex view\u001b[39;00m\n",
      "\u001b[1;31mKeyboardInterrupt\u001b[0m: "
     ]
    }
   ],
   "source": [
    "for iter in range(n_iters):\n",
    "    x, y = get_batch('train')\n",
    "    logits, loss = model(x, y)\n",
    "    loss.backward()\n",
    "    optimiser.step()\n",
    "    optimiser.zero_grad(set_to_none=True)\n",
    "    if iter % (n_iters // 10) == 0:\n",
    "        dev_loss = estimate_loss(model)\n",
    "        print(f'Iter : {iter}, Train Loss : {loss.item():.4f}, Valid Loss : {dev_loss:.4f}')"
   ]
  },
  {
   "cell_type": "code",
   "execution_count": null,
   "metadata": {},
   "outputs": [],
   "source": []
  }
 ],
 "metadata": {
  "kernelspec": {
   "display_name": "iisc",
   "language": "python",
   "name": "iisc"
  },
  "language_info": {
   "codemirror_mode": {
    "name": "ipython",
    "version": 3
   },
   "file_extension": ".py",
   "mimetype": "text/x-python",
   "name": "python",
   "nbconvert_exporter": "python",
   "pygments_lexer": "ipython3",
   "version": "3.9.15"
  }
 },
 "nbformat": 4,
 "nbformat_minor": 2
}

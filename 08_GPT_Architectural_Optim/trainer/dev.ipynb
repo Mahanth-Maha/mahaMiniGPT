{
 "cells": [
  {
   "cell_type": "code",
   "execution_count": 1,
   "id": "77ef7330",
   "metadata": {},
   "outputs": [],
   "source": [
    "import tiktoken"
   ]
  },
  {
   "cell_type": "markdown",
   "id": "5dda52c3",
   "metadata": {},
   "source": [
    "| Model size | Params (N) | FP32 Adam (≈16 B/param) | Mixed-precision heuristic (≈12 B/param) | Raw params only (FP32) | Raw params only (FP16) |\n",
    "|---:|---:|---:|---:|---:|---:|\n",
    "| 250M | 250,000,000 | ≈ 3.73 GiB | ≈ 2.79 GiB | 0.93 GiB | 0.47 GiB |\n",
    "| 500M | 500,000,000 | ≈ 7.45 GiB | ≈ 5.59 GiB | 1.86 GiB | 0.93 GiB |\n",
    "| 750M | 750,000,000 | ≈ 11.18 GiB | ≈ 8.38 GiB | 2.79 GiB | 1.40 GiB |\n",
    "| 1.0B | 1,000,000,000 | ≈ 14.90 GiB | ≈ 11.18 GiB | 3.73 GiB | 1.86 GiB |\n",
    "| 1.5B | 1,500,000,000 | ≈ 22.35 GiB | ≈ 16.76 GiB | 5.59 GiB | 2.79 GiB |"
   ]
  },
  {
   "cell_type": "code",
   "execution_count": null,
   "id": "84e8d41b",
   "metadata": {},
   "outputs": [],
   "source": []
  }
 ],
 "metadata": {
  "kernelspec": {
   "display_name": "mygpt",
   "language": "python",
   "name": "python3"
  },
  "language_info": {
   "codemirror_mode": {
    "name": "ipython",
    "version": 3
   },
   "file_extension": ".py",
   "mimetype": "text/x-python",
   "name": "python",
   "nbconvert_exporter": "python",
   "pygments_lexer": "ipython3",
   "version": "3.12.0"
  }
 },
 "nbformat": 4,
 "nbformat_minor": 5
}

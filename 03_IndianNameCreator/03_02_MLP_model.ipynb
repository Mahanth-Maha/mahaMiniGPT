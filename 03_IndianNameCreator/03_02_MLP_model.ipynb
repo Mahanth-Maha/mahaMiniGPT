{
 "cells": [
  {
   "cell_type": "markdown",
   "metadata": {},
   "source": [
    "Multi Layer Perceptron - Model\n",
    "----"
   ]
  },
  {
   "cell_type": "markdown",
   "metadata": {},
   "source": [
    "Based on Paper : \n",
    "\n",
    "Bengio, Y., Ducharme, R., Vincent, P., Jauvin, C., & Kandola, J., Hofmann, T., Poggio, T., & Shawe-Taylor, J. (Eds.). (2003). A neural probabilistic language model. Journal of Machine Learning Research, 3 (6), 1137–1155. https:// https://doi.org/10.1162/153244303322533223"
   ]
  },
  {
   "cell_type": "code",
   "execution_count": 60,
   "metadata": {},
   "outputs": [],
   "source": [
    "import torch\n",
    "import torch.nn.functional as F\n",
    "import matplotlib.pyplot as plt\n",
    "import numpy as np"
   ]
  },
  {
   "cell_type": "code",
   "execution_count": 61,
   "metadata": {},
   "outputs": [
    {
     "data": {
      "text/plain": [
       "['barjraj',\n",
       " 'ramdin verma',\n",
       " 'sharat chandran',\n",
       " 'birender mandal',\n",
       " 'amit',\n",
       " 'kushal',\n",
       " 'kasid',\n",
       " 'shiv prakash',\n",
       " 'vikram singh',\n",
       " 'sanjay']"
      ]
     },
     "execution_count": 61,
     "metadata": {},
     "output_type": "execute_result"
    }
   ],
   "source": [
    "names = open('./data/indian_names/indian_names.csv').read().strip().split('\\n')\n",
    "names[:10]"
   ]
  },
  {
   "cell_type": "code",
   "execution_count": 62,
   "metadata": {},
   "outputs": [
    {
     "data": {
      "text/plain": [
       "['barjraj',\n",
       " 'ramdin verma',\n",
       " 'sharat chandran',\n",
       " 'birender mandal',\n",
       " 'amit',\n",
       " 'kushal',\n",
       " 'kasid',\n",
       " 'shiv prakash',\n",
       " 'vikram singh',\n",
       " 'sanjay']"
      ]
     },
     "execution_count": 62,
     "metadata": {},
     "output_type": "execute_result"
    }
   ],
   "source": [
    "import re\n",
    "words = []\n",
    "for name in names:\n",
    "    words.append(name.replace(' ', '_'))\n",
    "names[:10]"
   ]
  },
  {
   "cell_type": "code",
   "execution_count": 63,
   "metadata": {},
   "outputs": [
    {
     "data": {
      "text/plain": [
       "'._abcdefghijklmnopqrstuvwxyz'"
      ]
     },
     "execution_count": 63,
     "metadata": {},
     "output_type": "execute_result"
    }
   ],
   "source": [
    "allchars = '.' + ''.join(sorted(list(set(''.join(words)))))\n",
    "allchars"
   ]
  },
  {
   "cell_type": "code",
   "execution_count": 64,
   "metadata": {},
   "outputs": [
    {
     "data": {
      "text/plain": [
       "(8, 'g')"
      ]
     },
     "execution_count": 64,
     "metadata": {},
     "output_type": "execute_result"
    }
   ],
   "source": [
    "def enc(c):\n",
    "    return allchars.index(c)\n",
    "\n",
    "def dec(i):\n",
    "    return allchars[i]\n",
    "\n",
    "enc('g') ,dec(enc('g'))"
   ]
  },
  {
   "cell_type": "code",
   "execution_count": 65,
   "metadata": {},
   "outputs": [
    {
     "name": "stdout",
     "output_type": "stream",
     "text": [
      "... --> b\n",
      "..b --> a\n",
      ".ba --> r\n",
      "bar --> j\n",
      "arj --> r\n",
      "rjr --> a\n",
      "jra --> j\n",
      "raj --> .\n",
      "... --> r\n",
      "..r --> a\n",
      ".ra --> m\n",
      "ram --> d\n",
      "amd --> i\n",
      "mdi --> n\n",
      "din --> _\n"
     ]
    }
   ],
   "source": [
    "block_size = 3\n",
    "X , y = [], []\n",
    "for word in words:\n",
    "    word = '.'*block_size + word + '.'\n",
    "    for i in range(len(word) - block_size):\n",
    "        X.append([enc(k) for k in word[i:i+block_size]])\n",
    "        y.append(enc(word[i+block_size]))\n",
    "for i in range(15):\n",
    "    print(''.join(dec(k) for k in X[i]), '-->', dec(y[i]))"
   ]
  },
  {
   "cell_type": "code",
   "execution_count": 66,
   "metadata": {},
   "outputs": [
    {
     "data": {
      "text/plain": [
       "(torch.Size([280329, 3]), torch.int64, torch.Size([280329]), torch.int64)"
      ]
     },
     "execution_count": 66,
     "metadata": {},
     "output_type": "execute_result"
    }
   ],
   "source": [
    "X = torch.tensor(X)\n",
    "y = torch.tensor(y)\n",
    "X.shape, X.dtype , y.shape, y.dtype"
   ]
  },
  {
   "cell_type": "markdown",
   "metadata": {},
   "source": [
    "embedding : 2D space"
   ]
  },
  {
   "cell_type": "code",
   "execution_count": 67,
   "metadata": {},
   "outputs": [
    {
     "data": {
      "text/plain": [
       "torch.Size([28, 2])"
      ]
     },
     "execution_count": 67,
     "metadata": {},
     "output_type": "execute_result"
    }
   ],
   "source": [
    "space = 2\n",
    "C = torch.randn(len(allchars), space) \n",
    "C.shape"
   ]
  },
  {
   "cell_type": "code",
   "execution_count": 68,
   "metadata": {},
   "outputs": [
    {
     "data": {
      "text/plain": [
       "torch.Size([280329, 3, 2])"
      ]
     },
     "execution_count": 68,
     "metadata": {},
     "output_type": "execute_result"
    }
   ],
   "source": [
    "emb = C[X]\n",
    "emb.shape"
   ]
  },
  {
   "cell_type": "markdown",
   "metadata": {},
   "source": [
    "hidden layer"
   ]
  },
  {
   "cell_type": "code",
   "execution_count": 69,
   "metadata": {},
   "outputs": [
    {
     "data": {
      "text/plain": [
       "(torch.Size([6, 100]), torch.Size([100]))"
      ]
     },
     "execution_count": 69,
     "metadata": {},
     "output_type": "execute_result"
    }
   ],
   "source": [
    "neurons_layer1 = 100\n",
    "W1 = torch.randn(space*block_size, neurons_layer1)\n",
    "b1 = torch.randn(neurons_layer1) \n",
    "W1.shape, b1.shape"
   ]
  },
  {
   "cell_type": "code",
   "execution_count": 70,
   "metadata": {},
   "outputs": [
    {
     "data": {
      "text/plain": [
       "torch.Size([280329, 6])"
      ]
     },
     "execution_count": 70,
     "metadata": {},
     "output_type": "execute_result"
    }
   ],
   "source": [
    "# seq = [ emb[:, 0,:],emb[:, 1,:], emb[:, 2,:]]\n",
    "# seq = [ emb[:, i ,:] for i in range(block_size)]\n",
    "# embr = torch.cat(seq, dim=1)\n",
    "\n",
    "# OR\n",
    "\n",
    "embr = torch.flatten(emb, start_dim=1).reshape(-1, space*block_size)\n",
    "\n",
    "embr.shape"
   ]
  },
  {
   "cell_type": "code",
   "execution_count": 71,
   "metadata": {},
   "outputs": [
    {
     "data": {
      "text/plain": [
       "torch.Size([280329, 100])"
      ]
     },
     "execution_count": 71,
     "metadata": {},
     "output_type": "execute_result"
    }
   ],
   "source": [
    "layer1 = embr @ W1 + b1\n",
    "layer1.shape"
   ]
  },
  {
   "cell_type": "code",
   "execution_count": 72,
   "metadata": {},
   "outputs": [
    {
     "data": {
      "text/plain": [
       "torch.Size([280329, 100])"
      ]
     },
     "execution_count": 72,
     "metadata": {},
     "output_type": "execute_result"
    }
   ],
   "source": [
    "# OR \n",
    "\n",
    "# the hidden layer\n",
    "h = emb.view(-1, space*block_size) @ W1 + b1 \n",
    "h = h.tanh()\n",
    "h.shape "
   ]
  },
  {
   "cell_type": "markdown",
   "metadata": {},
   "source": [
    "Output layer"
   ]
  },
  {
   "cell_type": "code",
   "execution_count": 73,
   "metadata": {},
   "outputs": [
    {
     "data": {
      "text/plain": [
       "(torch.Size([100, 28]), torch.Size([28]))"
      ]
     },
     "execution_count": 73,
     "metadata": {},
     "output_type": "execute_result"
    }
   ],
   "source": [
    "neurons_layer2 = len(allchars)\n",
    "W2 = torch.randn(neurons_layer1, neurons_layer2)\n",
    "b2 = torch.randn(neurons_layer2)\n",
    "W2.shape, b2.shape"
   ]
  },
  {
   "cell_type": "code",
   "execution_count": 74,
   "metadata": {},
   "outputs": [
    {
     "data": {
      "text/plain": [
       "torch.Size([280329, 28])"
      ]
     },
     "execution_count": 74,
     "metadata": {},
     "output_type": "execute_result"
    }
   ],
   "source": [
    "logits = h @ W2 + b2\n",
    "logits.shape"
   ]
  },
  {
   "cell_type": "markdown",
   "metadata": {},
   "source": [
    "Softmax"
   ]
  },
  {
   "cell_type": "code",
   "execution_count": 75,
   "metadata": {},
   "outputs": [
    {
     "data": {
      "text/plain": [
       "torch.Size([280329, 28])"
      ]
     },
     "execution_count": 75,
     "metadata": {},
     "output_type": "execute_result"
    }
   ],
   "source": [
    "c = logits.exp()\n",
    "p = c / c.sum(dim=1, keepdim=True) \n",
    "p.shape"
   ]
  },
  {
   "cell_type": "markdown",
   "metadata": {},
   "source": [
    "Predict"
   ]
  },
  {
   "cell_type": "code",
   "execution_count": 76,
   "metadata": {},
   "outputs": [
    {
     "data": {
      "text/plain": [
       "tensor(16.5317)"
      ]
     },
     "execution_count": 76,
     "metadata": {},
     "output_type": "execute_result"
    }
   ],
   "source": [
    "loss = - p[torch.arange(y[:10].shape[0]), y[:10]].log().mean()\n",
    "loss"
   ]
  },
  {
   "cell_type": "markdown",
   "metadata": {},
   "source": [
    "### All at single block"
   ]
  },
  {
   "cell_type": "code",
   "execution_count": 77,
   "metadata": {},
   "outputs": [],
   "source": [
    "C = torch.randn(len(allchars), space, requires_grad=True) \n",
    "W1 = torch.randn(space*block_size, neurons_layer1, requires_grad=True)\n",
    "b1 = torch.randn(neurons_layer1, requires_grad=True)\n",
    "W2 = torch.randn(neurons_layer1, neurons_layer2, requires_grad=True)\n",
    "b2 = torch.randn(neurons_layer2, requires_grad=True)\n",
    "parameters =  [C, W1, b1, W2, b2]\n"
   ]
  },
  {
   "cell_type": "code",
   "execution_count": 79,
   "metadata": {},
   "outputs": [
    {
     "data": {
      "text/plain": [
       "tensor(15.3323, grad_fn=<NegBackward0>)"
      ]
     },
     "execution_count": 79,
     "metadata": {},
     "output_type": "execute_result"
    },
    {
     "data": {
      "text/plain": [
       "tensor(15.3323, grad_fn=<NllLossBackward0>)"
      ]
     },
     "execution_count": 79,
     "metadata": {},
     "output_type": "execute_result"
    }
   ],
   "source": [
    "emb = C[X]\n",
    "h = torch.tanh(emb.view(-1, space*block_size) @ W1 + b1)\n",
    "logits = h @ W2 + b2\n",
    "c = logits.exp()\n",
    "p = c / c.sum(dim=1, keepdim=True)\n",
    "loss = - p[torch.arange(y.shape[0]), y].log().mean()\n",
    "loss\n",
    "\n",
    "# or\n",
    "\n",
    "loss = F.cross_entropy(logits, y)\n",
    "loss"
   ]
  },
  {
   "cell_type": "markdown",
   "metadata": {},
   "source": [
    "cross_entropy is much better to avoid errors of exp(100+) and computations"
   ]
  },
  {
   "cell_type": "code",
   "execution_count": 87,
   "metadata": {},
   "outputs": [
    {
     "name": "stdout",
     "output_type": "stream",
     "text": [
      "0 2.8489174842834473\n",
      "10 2.840193748474121\n",
      "20 2.8308730125427246\n",
      "30 2.8202264308929443\n",
      "40 2.807421922683716\n",
      "50 2.791654348373413\n",
      "60 2.7725272178649902\n",
      "70 2.750647783279419\n",
      "80 2.7277565002441406\n",
      "90 2.7054553031921387\n"
     ]
    },
    {
     "data": {
      "text/plain": [
       "tensor(2.6862, grad_fn=<NllLossBackward0>)"
      ]
     },
     "execution_count": 87,
     "metadata": {},
     "output_type": "execute_result"
    }
   ],
   "source": [
    "alpha = 0.1\n",
    "max_iters = 100\n",
    "for i in range(max_iters):\n",
    "    emb = C[X]\n",
    "    h = torch.tanh(emb.view(-1, space*block_size) @ W1 + b1)\n",
    "    logits = h @ W2 + b2\n",
    "\n",
    "    loss = F.cross_entropy(logits, y)\n",
    "    \n",
    "    loss.backward()\n",
    "\n",
    "    with torch.no_grad():\n",
    "        for p in parameters:\n",
    "            p -= p.grad * alpha\n",
    "            # p.grad.zero_()\n",
    "            p.grad = None\n",
    "            # p.retain_grad()\n",
    "\n",
    "    if i % 10 == 0:\n",
    "        print(i, loss.item())\n",
    "\n",
    "loss"
   ]
  },
  {
   "cell_type": "markdown",
   "metadata": {},
   "source": [
    "### mini batching"
   ]
  },
  {
   "cell_type": "code",
   "execution_count": 88,
   "metadata": {},
   "outputs": [
    {
     "data": {
      "text/plain": [
       "tensor([268825, 251485, 214903,   8558, 274926, 256893, 181923, 151705,  53704,\n",
       "        121640, 128380, 159558,   5910, 234016,  32078, 136883,  60250, 222097,\n",
       "        188397, 104707, 270651,  65300, 125096, 153142, 187589, 135369,  64584,\n",
       "         71939, 246270, 187830, 242782, 123452,  36350,  94073, 170626, 170825,\n",
       "         67966,  14063, 117007, 110097,  13924,  25974, 232664, 215441, 250779,\n",
       "        130719,  70032, 219985, 147935,  28878, 215758, 199237, 158179,  55511,\n",
       "         53179,  70318, 198302,  18714,  20499, 242364, 122922, 243579, 120720,\n",
       "        209331])"
      ]
     },
     "execution_count": 88,
     "metadata": {},
     "output_type": "execute_result"
    }
   ],
   "source": [
    "random_batch_64 = torch.randint(0, X.shape[0], (64,))\n",
    "random_batch_64"
   ]
  },
  {
   "cell_type": "code",
   "execution_count": null,
   "metadata": {},
   "outputs": [],
   "source": [
    "C = torch.randn(len(allchars), space, requires_grad=True) \n",
    "W1 = torch.randn(space*block_size, neurons_layer1, requires_grad=True)\n",
    "b1 = torch.randn(neurons_layer1, requires_grad=True)\n",
    "W2 = torch.randn(neurons_layer1, neurons_layer2, requires_grad=True)\n",
    "b2 = torch.randn(neurons_layer2, requires_grad=True)\n",
    "parameters =  [C, W1, b1, W2, b2]"
   ]
  },
  {
   "cell_type": "code",
   "execution_count": 98,
   "metadata": {},
   "outputs": [
    {
     "name": "stdout",
     "output_type": "stream",
     "text": [
      "0 2.1003453731536865\n",
      "1000 2.135141134262085\n",
      "2000 2.101151704788208\n",
      "3000 2.0445356369018555\n",
      "4000 2.0466108322143555\n",
      "5000 1.9621355533599854\n",
      "6000 1.8655774593353271\n",
      "7000 1.897669792175293\n",
      "8000 1.9103257656097412\n",
      "9000 1.958170771598816\n",
      "10000 1.7575242519378662\n"
     ]
    },
    {
     "data": {
      "text/plain": [
       "tensor(1.7575, grad_fn=<NllLossBackward0>)"
      ]
     },
     "execution_count": 98,
     "metadata": {},
     "output_type": "execute_result"
    }
   ],
   "source": [
    "alpha = 0.1\n",
    "max_iters = 10000\n",
    "for i in range(max_iters+1):\n",
    "    mini_batch = torch.randint(0, X.shape[0], (64,))\n",
    "    emb = C[X[mini_batch]]\n",
    "    h = torch.tanh(emb.view(-1, space*block_size) @ W1 + b1)\n",
    "    logits = h @ W2 + b2\n",
    "    loss = F.cross_entropy(logits, y[mini_batch])\n",
    "    loss.backward()\n",
    "\n",
    "    alpha *= 0.9999\n",
    "\n",
    "    with torch.no_grad():\n",
    "        for p in parameters:\n",
    "            p -= p.grad * alpha\n",
    "            p.grad = None\n",
    "            # p.retain_grad()\n",
    "\n",
    "    if i % 1000 == 0:\n",
    "        print(i, loss.item())\n",
    "\n",
    "loss"
   ]
  },
  {
   "cell_type": "code",
   "execution_count": 100,
   "metadata": {},
   "outputs": [
    {
     "data": {
      "text/plain": [
       "tensor(2.0332, grad_fn=<NllLossBackward0>)"
      ]
     },
     "execution_count": 100,
     "metadata": {},
     "output_type": "execute_result"
    }
   ],
   "source": [
    "emb = C[X]\n",
    "h = torch.tanh(emb.view(-1, space*block_size) @ W1 + b1)\n",
    "logits = h @ W2 + b2\n",
    "loss = F.cross_entropy(logits, y)\n",
    "loss"
   ]
  },
  {
   "cell_type": "markdown",
   "metadata": {},
   "source": [
    "### Improvement ? :\n",
    "\n",
    "* Loss (Bi gram model) = 2.38\n",
    "* Loss (MLP model) = 2.03"
   ]
  },
  {
   "cell_type": "markdown",
   "metadata": {
    "vscode": {
     "languageId": "sql"
    }
   },
   "source": [
    "is it overfittin ?"
   ]
  },
  {
   "cell_type": "code",
   "execution_count": 109,
   "metadata": {},
   "outputs": [
    {
     "data": {
      "text/plain": [
       "(24032.0, 3004.0, 3004.0)"
      ]
     },
     "execution_count": 109,
     "metadata": {},
     "output_type": "execute_result"
    }
   ],
   "source": [
    "# train, valid, test splitting\n",
    "\n",
    "def get_dataset(words, block_size):\n",
    "    X , y = [], []\n",
    "    for word in words:\n",
    "        word = '.'*block_size + word + '.'\n",
    "        for i in range(len(word) - block_size):\n",
    "            X.append([enc(k) for k in word[i:i+block_size]])\n",
    "            y.append(enc(word[i+block_size]))\n",
    "    X = torch.tensor(X)\n",
    "    y = torch.tensor(y)\n",
    "    return X, y\n",
    "len(words)*0.8 , len(words)*0.9 - len(words)*0.8, len(words)- len(words) *0.9 "
   ]
  },
  {
   "cell_type": "code",
   "execution_count": 108,
   "metadata": {},
   "outputs": [
    {
     "data": {
      "text/plain": [
       "(torch.Size([229779, 3]),\n",
       " torch.Size([25347, 3]),\n",
       " torch.Size([25203, 3]),\n",
       " torch.Size([229779]),\n",
       " torch.Size([25347]),\n",
       " torch.Size([25203]))"
      ]
     },
     "execution_count": 108,
     "metadata": {},
     "output_type": "execute_result"
    }
   ],
   "source": [
    "\n",
    "X_train, y_train = get_dataset(words[:int(len(words) * 0.8)], block_size)\n",
    "X_valid, y_valid = get_dataset(words[int(len(words) * 0.8):int(len(words) * 0.9)], block_size)\n",
    "X_test, y_test = get_dataset(words[int(len(words) * 0.9):], block_size)\n",
    "\n",
    "X_train.shape, X_valid.shape, X_test.shape, y_train.shape, y_valid.shape, y_test.shape"
   ]
  },
  {
   "cell_type": "markdown",
   "metadata": {},
   "source": [
    "## Model MLP class"
   ]
  },
  {
   "cell_type": "code",
   "execution_count": 137,
   "metadata": {},
   "outputs": [],
   "source": [
    "class MLP:\n",
    "    def __init__(self, space, block_size, neurons_layer1, neurons_layer2):\n",
    "        self.C = torch.randn(len(allchars), space, requires_grad=True) \n",
    "        self.W1 = torch.randn(space*block_size, neurons_layer1, requires_grad=True)\n",
    "        self.b1 = torch.randn(neurons_layer1, requires_grad=True)\n",
    "        self.W2 = torch.randn(neurons_layer1, neurons_layer2, requires_grad=True)\n",
    "        self.b2 = torch.randn(neurons_layer2, requires_grad=True)\n",
    "        self.parameters =  [self.C, self.W1, self.b1, self.W2, self.b2]\n",
    "        self.space = space\n",
    "        self.block_size = block_size\n",
    "        self.neurons_layer1 = neurons_layer1\n",
    "        self.neurons_layer2 = neurons_layer2\n",
    "        \n",
    "    def forward(self, X):\n",
    "        emb = self.C[X]\n",
    "        h = torch.tanh(emb.view(-1, self.space*self.block_size) @ self.W1 + self.b1)\n",
    "        logits = h @ self.W2 + self.b2\n",
    "        return logits\n",
    "    \n",
    "    def backward(self,logits, y):\n",
    "        loss = F.cross_entropy(logits, y)\n",
    "        loss.backward()\n",
    "        return loss\n",
    "    \n",
    "    def sgd(self, X, y, alpha = 0.1 , max_iters = 1000, verbose = True):\n",
    "        \n",
    "        for iter in range(max_iters+1):\n",
    "            mini_batch = torch.randint(0, X.shape[0], (64,))\n",
    "            logits = self.forward(X[mini_batch])\n",
    "            loss = self.backward(logits,y[mini_batch])\n",
    "\n",
    "            with torch.no_grad():\n",
    "                for p in self.parameters:\n",
    "                    p -= p.grad * alpha\n",
    "                    p.grad = None\n",
    "\n",
    "            if verbose and iter % (max_iters/10) == 0:\n",
    "                print(iter, loss.item())\n",
    "        \n",
    "        return loss\n",
    "    \n",
    "    def get_loss(self, X, y):\n",
    "        logits = self.forward(X)\n",
    "        loss = F.cross_entropy(logits, y)\n",
    "        return loss\n",
    "    \n"
   ]
  },
  {
   "cell_type": "markdown",
   "metadata": {},
   "source": [
    "## Evaluation (hidden = 100 n)"
   ]
  },
  {
   "cell_type": "code",
   "execution_count": 153,
   "metadata": {},
   "outputs": [
    {
     "data": {
      "text/plain": [
       "'no of parameters : 3584'"
      ]
     },
     "execution_count": 153,
     "metadata": {},
     "output_type": "execute_result"
    }
   ],
   "source": [
    "mlp = MLP(space = 2,\n",
    "          block_size = 3, \n",
    "          neurons_layer1 = 100, \n",
    "          neurons_layer2 = len(allchars))\n",
    "f'no of parameters : {sum(p.nelement() for p in mlp.parameters)}'"
   ]
  },
  {
   "cell_type": "code",
   "execution_count": 154,
   "metadata": {},
   "outputs": [
    {
     "name": "stdout",
     "output_type": "stream",
     "text": [
      "0 25.079856872558594\n",
      "1000 2.4511404037475586\n",
      "2000 2.3078699111938477\n",
      "3000 2.7784829139709473\n",
      "4000 2.3265883922576904\n",
      "5000 2.479607343673706\n",
      "6000 2.2977449893951416\n",
      "7000 2.1842782497406006\n",
      "8000 1.9827145338058472\n",
      "9000 2.4223122596740723\n",
      "10000 1.8031601905822754\n"
     ]
    },
    {
     "data": {
      "text/plain": [
       "tensor(1.8032, grad_fn=<NllLossBackward0>)"
      ]
     },
     "execution_count": 154,
     "metadata": {},
     "output_type": "execute_result"
    },
    {
     "data": {
      "text/plain": [
       "tensor(2.2086, grad_fn=<NllLossBackward0>)"
      ]
     },
     "execution_count": 154,
     "metadata": {},
     "output_type": "execute_result"
    }
   ],
   "source": [
    "mlp.sgd(X_train, y_train, alpha = 0.1 , max_iters = 10000)\n",
    "mlp.get_loss(X_valid, y_valid)"
   ]
  },
  {
   "cell_type": "code",
   "execution_count": 155,
   "metadata": {},
   "outputs": [
    {
     "name": "stdout",
     "output_type": "stream",
     "text": [
      "0 2.4406981468200684\n",
      "1000 2.011488437652588\n",
      "2000 2.23999285697937\n",
      "3000 2.1339924335479736\n",
      "4000 1.926071286201477\n",
      "5000 2.270838975906372\n",
      "6000 2.112037181854248\n",
      "7000 1.8652803897857666\n",
      "8000 2.017378091812134\n",
      "9000 2.0755598545074463\n",
      "10000 2.0903432369232178\n"
     ]
    },
    {
     "data": {
      "text/plain": [
       "tensor(2.0903, grad_fn=<NllLossBackward0>)"
      ]
     },
     "execution_count": 155,
     "metadata": {},
     "output_type": "execute_result"
    },
    {
     "data": {
      "text/plain": [
       "tensor(2.1139, grad_fn=<NllLossBackward0>)"
      ]
     },
     "execution_count": 155,
     "metadata": {},
     "output_type": "execute_result"
    }
   ],
   "source": [
    "mlp.sgd(X_train, y_train, alpha = 0.1 , max_iters = 10000)\n",
    "mlp.get_loss(X_valid, y_valid)"
   ]
  },
  {
   "cell_type": "code",
   "execution_count": 156,
   "metadata": {},
   "outputs": [
    {
     "name": "stdout",
     "output_type": "stream",
     "text": [
      "0 1.854198932647705\n",
      "1000 1.846160650253296\n",
      "2000 2.0980076789855957\n",
      "3000 1.9442687034606934\n",
      "4000 2.3834805488586426\n",
      "5000 1.8558329343795776\n",
      "6000 1.8295644521713257\n",
      "7000 2.0965752601623535\n",
      "8000 2.3471386432647705\n",
      "9000 1.8860456943511963\n",
      "10000 2.2782211303710938\n"
     ]
    },
    {
     "data": {
      "text/plain": [
       "tensor(2.2782, grad_fn=<NllLossBackward0>)"
      ]
     },
     "execution_count": 156,
     "metadata": {},
     "output_type": "execute_result"
    },
    {
     "data": {
      "text/plain": [
       "tensor(2.0680, grad_fn=<NllLossBackward0>)"
      ]
     },
     "execution_count": 156,
     "metadata": {},
     "output_type": "execute_result"
    }
   ],
   "source": [
    "mlp.sgd(X_train, y_train, alpha = 0.01 , max_iters = 10000)\n",
    "mlp.get_loss(X_valid, y_valid)"
   ]
  },
  {
   "cell_type": "code",
   "execution_count": null,
   "metadata": {},
   "outputs": [],
   "source": [
    "mlp.get_loss(X_test, y_test)"
   ]
  },
  {
   "cell_type": "markdown",
   "metadata": {},
   "source": [
    "## Evaluation (hidden = 300 n)"
   ]
  },
  {
   "cell_type": "code",
   "execution_count": 166,
   "metadata": {},
   "outputs": [
    {
     "data": {
      "text/plain": [
       "'no of parameters : 10584'"
      ]
     },
     "execution_count": 166,
     "metadata": {},
     "output_type": "execute_result"
    }
   ],
   "source": [
    "mlp2 = MLP(space = 2,\n",
    "          block_size = 3, \n",
    "          neurons_layer1 = 300, \n",
    "          neurons_layer2 = len(allchars))\n",
    "f'no of parameters : {sum(p.nelement() for p in mlp2.parameters)}'"
   ]
  },
  {
   "cell_type": "code",
   "execution_count": 167,
   "metadata": {},
   "outputs": [
    {
     "name": "stdout",
     "output_type": "stream",
     "text": [
      "0 27.81184959411621\n",
      "1000 2.4274954795837402\n",
      "2000 2.614978551864624\n",
      "3000 2.704413890838623\n",
      "4000 2.0408236980438232\n",
      "5000 2.2055602073669434\n",
      "6000 2.2256393432617188\n",
      "7000 2.501936912536621\n",
      "8000 2.4448437690734863\n",
      "9000 2.597892999649048\n",
      "10000 1.9636917114257812\n"
     ]
    },
    {
     "data": {
      "text/plain": [
       "tensor(1.9637, grad_fn=<NllLossBackward0>)"
      ]
     },
     "execution_count": 167,
     "metadata": {},
     "output_type": "execute_result"
    },
    {
     "data": {
      "text/plain": [
       "tensor(2.1986, grad_fn=<NllLossBackward0>)"
      ]
     },
     "execution_count": 167,
     "metadata": {},
     "output_type": "execute_result"
    }
   ],
   "source": [
    "\n",
    "mlp2.sgd(X_train, y_train, alpha = 0.1 , max_iters = 10000)\n",
    "mlp2.get_loss(X_valid, y_valid)"
   ]
  },
  {
   "cell_type": "code",
   "execution_count": 168,
   "metadata": {},
   "outputs": [
    {
     "name": "stdout",
     "output_type": "stream",
     "text": [
      "0 1.8246066570281982\n",
      "1000 2.2804324626922607\n",
      "2000 2.301645278930664\n",
      "3000 2.502200126647949\n",
      "4000 2.364881992340088\n",
      "5000 2.0768485069274902\n",
      "6000 1.988444209098816\n",
      "7000 1.9015341997146606\n",
      "8000 2.083306312561035\n",
      "9000 1.9489610195159912\n",
      "10000 2.093535900115967\n"
     ]
    },
    {
     "data": {
      "text/plain": [
       "tensor(2.0935, grad_fn=<NllLossBackward0>)"
      ]
     },
     "execution_count": 168,
     "metadata": {},
     "output_type": "execute_result"
    },
    {
     "data": {
      "text/plain": [
       "tensor(2.2770, grad_fn=<NllLossBackward0>)"
      ]
     },
     "execution_count": 168,
     "metadata": {},
     "output_type": "execute_result"
    }
   ],
   "source": [
    "mlp2.sgd(X_train, y_train, alpha = 0.1 , max_iters = 10000)\n",
    "mlp2.get_loss(X_valid, y_valid)"
   ]
  },
  {
   "cell_type": "code",
   "execution_count": 169,
   "metadata": {},
   "outputs": [
    {
     "name": "stdout",
     "output_type": "stream",
     "text": [
      "0 2.038600444793701\n"
     ]
    },
    {
     "name": "stdout",
     "output_type": "stream",
     "text": [
      "1000 1.7992403507232666\n",
      "2000 1.852413296699524\n",
      "3000 2.1103737354278564\n",
      "4000 2.1789472103118896\n",
      "5000 1.766223430633545\n",
      "6000 2.069814682006836\n",
      "7000 1.8261747360229492\n",
      "8000 1.9361575841903687\n",
      "9000 2.028939962387085\n",
      "10000 2.29343843460083\n"
     ]
    },
    {
     "data": {
      "text/plain": [
       "tensor(2.2934, grad_fn=<NllLossBackward0>)"
      ]
     },
     "execution_count": 169,
     "metadata": {},
     "output_type": "execute_result"
    },
    {
     "data": {
      "text/plain": [
       "tensor(1.9944, grad_fn=<NllLossBackward0>)"
      ]
     },
     "execution_count": 169,
     "metadata": {},
     "output_type": "execute_result"
    }
   ],
   "source": [
    "mlp2.sgd(X_train, y_train, alpha = 0.01 , max_iters = 10000)\n",
    "mlp2.get_loss(X_valid, y_valid)"
   ]
  },
  {
   "cell_type": "code",
   "execution_count": null,
   "metadata": {},
   "outputs": [],
   "source": [
    "mlp2.get_loss(X_test, y_test)"
   ]
  },
  {
   "cell_type": "markdown",
   "metadata": {},
   "source": [
    "## Visualising ( for 2D)"
   ]
  },
  {
   "cell_type": "markdown",
   "metadata": {},
   "source": [
    "100 hidden layers model"
   ]
  },
  {
   "cell_type": "code",
   "execution_count": 170,
   "metadata": {},
   "outputs": [
    {
     "data": {
      "text/plain": [
       "<Figure size 600x600 with 0 Axes>"
      ]
     },
     "execution_count": 170,
     "metadata": {},
     "output_type": "execute_result"
    },
    {
     "data": {
      "text/plain": [
       "<matplotlib.collections.PathCollection at 0x1fc05e5f9d0>"
      ]
     },
     "execution_count": 170,
     "metadata": {},
     "output_type": "execute_result"
    },
    {
     "data": {
      "image/png": "[encoded data removed]",
      "text/plain": [
       "<Figure size 600x600 with 1 Axes>"
      ]
     },
     "metadata": {},
     "output_type": "display_data"
    }
   ],
   "source": [
    "plt.figure(figsize=(6,6)) \n",
    "plt.scatter(mlp.C[:,0].data, mlp.C[:,1].data, s = 200,alpha=0.5 , color='gray')\n",
    "for i in range(C.shape[0]):\n",
    "    _ = plt.text(mlp.C[i,0].item(), mlp.C[i,1].item(), dec(i), ha='center', va='center', color='black')\n",
    "plt.grid('minor')\n",
    "plt.show()"
   ]
  },
  {
   "cell_type": "markdown",
   "metadata": {},
   "source": [
    "300 hidden layers model"
   ]
  },
  {
   "cell_type": "code",
   "execution_count": 171,
   "metadata": {},
   "outputs": [
    {
     "data": {
      "text/plain": [
       "<Figure size 600x600 with 0 Axes>"
      ]
     },
     "execution_count": 171,
     "metadata": {},
     "output_type": "execute_result"
    },
    {
     "data": {
      "text/plain": [
       "<matplotlib.collections.PathCollection at 0x1fc060a2be0>"
      ]
     },
     "execution_count": 171,
     "metadata": {},
     "output_type": "execute_result"
    },
    {
     "data": {
      "image/png": "[encoded data removed]",
      "text/plain": [
       "<Figure size 600x600 with 1 Axes>"
      ]
     },
     "metadata": {},
     "output_type": "display_data"
    }
   ],
   "source": [
    "plt.figure(figsize=(6,6)) \n",
    "plt.scatter(mlp2.C[:,0].data, mlp2.C[:,1].data, s = 200,alpha=0.5 , color='gray')\n",
    "for i in range(C.shape[0]):\n",
    "    _ = plt.text(mlp2.C[i,0].item(), mlp2.C[i,1].item(), dec(i), ha='center', va='center', color='black')\n",
    "plt.grid('minor')\n",
    "plt.show()"
   ]
  },
  {
   "cell_type": "markdown",
   "metadata": {},
   "source": [
    "## 3D Model"
   ]
  },
  {
   "cell_type": "code",
   "execution_count": 172,
   "metadata": {},
   "outputs": [
    {
     "data": {
      "text/plain": [
       "3912"
      ]
     },
     "execution_count": 172,
     "metadata": {},
     "output_type": "execute_result"
    }
   ],
   "source": [
    "mlp3d = MLP(space = 3, \n",
    "            block_size = 3, \n",
    "            neurons_layer1= 100, \n",
    "            neurons_layer2 = len(allchars))\n",
    "sum(p.nelement() for p in mlp3d.parameters)"
   ]
  },
  {
   "cell_type": "code",
   "execution_count": 173,
   "metadata": {},
   "outputs": [
    {
     "name": "stdout",
     "output_type": "stream",
     "text": [
      "0 15.050922393798828\n",
      "1000 2.3344767093658447\n",
      "2000 2.344133138656616\n",
      "3000 2.5453834533691406\n",
      "4000 2.34667706489563\n",
      "5000 1.779116153717041\n",
      "6000 2.357893705368042\n",
      "7000 2.3561980724334717\n",
      "8000 1.9345495700836182\n",
      "9000 1.7637302875518799\n",
      "10000 1.9759644269943237\n"
     ]
    },
    {
     "data": {
      "text/plain": [
       "tensor(1.9760, grad_fn=<NllLossBackward0>)"
      ]
     },
     "execution_count": 173,
     "metadata": {},
     "output_type": "execute_result"
    },
    {
     "data": {
      "text/plain": [
       "tensor(2.1324, grad_fn=<NllLossBackward0>)"
      ]
     },
     "execution_count": 173,
     "metadata": {},
     "output_type": "execute_result"
    }
   ],
   "source": [
    "mlp3d.sgd(X_train, y_train, alpha = 0.1 , max_iters = 10000)\n",
    "mlp3d.get_loss(X_valid, y_valid)"
   ]
  },
  {
   "cell_type": "code",
   "execution_count": 174,
   "metadata": {},
   "outputs": [
    {
     "name": "stdout",
     "output_type": "stream",
     "text": [
      "0 2.021544933319092\n",
      "1000 2.193265438079834\n",
      "2000 2.159817695617676\n",
      "3000 2.0679128170013428\n",
      "4000 1.9028160572052002\n",
      "5000 1.820723056793213\n",
      "6000 1.9466497898101807\n",
      "7000 2.022749185562134\n",
      "8000 1.8490277528762817\n",
      "9000 1.9413138628005981\n",
      "10000 2.055288314819336\n"
     ]
    },
    {
     "data": {
      "text/plain": [
       "tensor(2.0553, grad_fn=<NllLossBackward0>)"
      ]
     },
     "execution_count": 174,
     "metadata": {},
     "output_type": "execute_result"
    },
    {
     "data": {
      "text/plain": [
       "tensor(2.0610, grad_fn=<NllLossBackward0>)"
      ]
     },
     "execution_count": 174,
     "metadata": {},
     "output_type": "execute_result"
    }
   ],
   "source": [
    "mlp3d.sgd(X_train, y_train, alpha = 0.1 , max_iters = 10000)\n",
    "mlp3d.get_loss(X_valid, y_valid)"
   ]
  },
  {
   "cell_type": "code",
   "execution_count": 175,
   "metadata": {},
   "outputs": [
    {
     "name": "stdout",
     "output_type": "stream",
     "text": [
      "0 1.873276710510254\n",
      "1000 2.1550490856170654\n",
      "2000 2.12054443359375\n",
      "3000 2.2182445526123047\n",
      "4000 2.0178582668304443\n",
      "5000 1.9889682531356812\n",
      "6000 1.7150238752365112\n",
      "7000 1.7962853908538818\n",
      "8000 1.8978612422943115\n",
      "9000 1.8729240894317627\n",
      "10000 1.9082764387130737\n"
     ]
    },
    {
     "data": {
      "text/plain": [
       "tensor(1.9083, grad_fn=<NllLossBackward0>)"
      ]
     },
     "execution_count": 175,
     "metadata": {},
     "output_type": "execute_result"
    },
    {
     "data": {
      "text/plain": [
       "tensor(1.9978, grad_fn=<NllLossBackward0>)"
      ]
     },
     "execution_count": 175,
     "metadata": {},
     "output_type": "execute_result"
    }
   ],
   "source": [
    "mlp3d.sgd(X_train, y_train, alpha = 0.01 , max_iters = 10000)\n",
    "mlp3d.get_loss(X_valid, y_valid)"
   ]
  },
  {
   "cell_type": "code",
   "execution_count": null,
   "metadata": {},
   "outputs": [],
   "source": [
    "mlp3d.get_loss(X_test, y_test)"
   ]
  },
  {
   "cell_type": "markdown",
   "metadata": {},
   "source": [
    "# Generate words"
   ]
  },
  {
   "cell_type": "code",
   "execution_count": 161,
   "metadata": {},
   "outputs": [
    {
     "data": {
      "text/plain": [
       "'kumralu'"
      ]
     },
     "execution_count": 161,
     "metadata": {},
     "output_type": "execute_result"
    }
   ],
   "source": [
    "def generate(model, start = '', max_len = 50):\n",
    "    word = '.'*model.block_size + start\n",
    "    for i in range(max_len):\n",
    "        x = [enc(k) for k in word[-model.block_size:]]\n",
    "        x = torch.tensor([x])\n",
    "        logits = model.forward(x)\n",
    "        p = F.softmax(logits, dim=1)\n",
    "        word += dec(torch.multinomial(p[0], 1).item())\n",
    "        if word[-1] == '.':\n",
    "            break\n",
    "    return word[model.block_size : -1]\n",
    "\n",
    "generate(mlp)"
   ]
  },
  {
   "cell_type": "markdown",
   "metadata": {},
   "source": [
    "### 2D - n = 100 model"
   ]
  },
  {
   "cell_type": "code",
   "execution_count": 163,
   "metadata": {},
   "outputs": [
    {
     "name": "stdout",
     "output_type": "stream",
     "text": [
      "xampapdatunukureeb\n",
      "amp_rahmh\n",
      "senamp\n",
      "kuran\n",
      "pdolurikda_gan_singh\n",
      "bair_tumarir\n",
      "manf\n",
      "akti\n",
      "gow\n",
      "surrenmp\n"
     ]
    }
   ],
   "source": [
    "for i in range(10):\n",
    "    print(generate(mlp))\n"
   ]
  },
  {
   "cell_type": "markdown",
   "metadata": {},
   "source": [
    "### 2D - n = 300 model"
   ]
  },
  {
   "cell_type": "code",
   "execution_count": 176,
   "metadata": {},
   "outputs": [
    {
     "name": "stdout",
     "output_type": "stream",
     "text": [
      "nuvirsha\n",
      "prim\n",
      "lam\n",
      "hehheet\n",
      "poon\n",
      "pari_sinju\n",
      "amrer_sin\n",
      "soya_shak\n",
      "ran\n",
      "tata\n"
     ]
    }
   ],
   "source": [
    "for i in range(10):\n",
    "    print(generate(mlp2))"
   ]
  },
  {
   "cell_type": "markdown",
   "metadata": {},
   "source": [
    "### 3D - n = 100 model"
   ]
  },
  {
   "cell_type": "code",
   "execution_count": 177,
   "metadata": {},
   "outputs": [
    {
     "name": "stdout",
     "output_type": "stream",
     "text": [
      "nidha_dan\n",
      "jai\n",
      "ran\n",
      "sari\n",
      "maika_thu\n",
      "mayata_annadeep\n",
      "pin\n",
      "reha\n",
      "gukrasharla\n",
      "sub\n"
     ]
    }
   ],
   "source": [
    "for i in range(10):\n",
    "    print(generate(mlp3d))"
   ]
  },
  {
   "cell_type": "code",
   "execution_count": null,
   "metadata": {},
   "outputs": [],
   "source": []
  }
 ],
 "metadata": {
  "kernelspec": {
   "display_name": "iisc",
   "language": "python",
   "name": "iisc"
  },
  "language_info": {
   "codemirror_mode": {
    "name": "ipython",
    "version": 3
   },
   "file_extension": ".py",
   "mimetype": "text/x-python",
   "name": "python",
   "nbconvert_exporter": "python",
   "pygments_lexer": "ipython3",
   "version": "3.9.15"
  }
 },
 "nbformat": 4,
 "nbformat_minor": 2
}

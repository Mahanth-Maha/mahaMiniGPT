{
 "cells": [
  {
   "cell_type": "markdown",
   "metadata": {},
   "source": [
    "# WAVE NET"
   ]
  },
  {
   "cell_type": "code",
   "execution_count": 1,
   "metadata": {},
   "outputs": [],
   "source": [
    "import torch\n",
    "import torch.nn as nn\n",
    "import torch.nn.functional as F\n",
    "\n",
    "import numpy as np \n",
    "import matplotlib.pyplot as plt"
   ]
  },
  {
   "cell_type": "code",
   "execution_count": 2,
   "metadata": {},
   "outputs": [
    {
     "data": {
      "text/plain": [
       "(torch.Size([217230, 3]),\n",
       " torch.Size([217230]),\n",
       " torch.Size([27277, 3]),\n",
       " torch.Size([27277]),\n",
       " torch.Size([27270, 3]),\n",
       " torch.Size([27270]))"
      ]
     },
     "execution_count": 2,
     "metadata": {},
     "output_type": "execute_result"
    }
   ],
   "source": [
    "data_folder = 'data/indian_names/'\n",
    "\n",
    "Xtr = torch.load(data_folder + 'Xtr_bs_3.pt')\n",
    "ytr = torch.load(data_folder + 'ytr_bs_3.pt')\n",
    "Xdev = torch.load(data_folder + 'Xdev_bs_3.pt')\n",
    "ydev = torch.load(data_folder + 'ydev_bs_3.pt')\n",
    "Xte = torch.load(data_folder + 'Xte_bs_3.pt')\n",
    "yte = torch.load(data_folder + 'yte_bs_3.pt')\n",
    "\n",
    "Xtr.shape , ytr.shape, Xdev.shape, ydev.shape, Xte.shape, yte.shape"
   ]
  },
  {
   "cell_type": "code",
   "execution_count": 3,
   "metadata": {},
   "outputs": [
    {
     "data": {
      "text/plain": [
       "('.abcdefghijklmnopqrstuvwxyz', 27)"
      ]
     },
     "execution_count": 3,
     "metadata": {},
     "output_type": "execute_result"
    }
   ],
   "source": [
    "names = open(data_folder + 'indian_names.csv').read().split('\\n')\n",
    "words = []\n",
    "for n in names:\n",
    "    words += n.split(' ')\n",
    "words = [w for w in words if len(w) > 3] \n",
    "voc = '.' + ''.join(sorted(set(''.join(words))))\n",
    "voc_size = len(voc)\n",
    "voc , voc_size"
   ]
  },
  {
   "cell_type": "code",
   "execution_count": 4,
   "metadata": {},
   "outputs": [],
   "source": [
    "def enc(c):\n",
    "    return voc.index(c)\n",
    "\n",
    "def dec(i):\n",
    "    return voc[i]"
   ]
  },
  {
   "cell_type": "code",
   "execution_count": 77,
   "metadata": {},
   "outputs": [],
   "source": [
    "class Linear:\n",
    "    def __init__(self, fin, fout, bias = True):\n",
    "        self.weight = torch.randn(fin, fout) / fin**0.5\n",
    "        self.bias_exist = bias\n",
    "        self.bias = torch.randn(fout) / fin**0.5 if bias else None \n",
    "\n",
    "    def parameters(self):\n",
    "        return [self.weight, self.bias] if self.bias_exist is not None else [self.weight]\n",
    "    \n",
    "    def __call__(self, x):\n",
    "        self.out  = x @self.weight \n",
    "        if self.bias_exist:\n",
    "            self.out += self.bias\n",
    "        return self.out\n",
    "\n",
    "class BatchNormal1D:\n",
    "    def __init__(self, dim , epsilon = 1e-5, momentum = 0.01 ):\n",
    "        self.dim = dim \n",
    "        self.momentum = momentum\n",
    "        self.epsilon = epsilon\n",
    "\n",
    "        self.training = True\n",
    "        \n",
    "        self.gamma = torch.ones((1,self.dim))\n",
    "        self.beta = torch.zeros((1,self.dim))\n",
    "\n",
    "        self.mean_running = torch.zeros((1,self.dim))\n",
    "        self.std_running = torch.ones((1,self.dim))\n",
    "\n",
    "    def __call__(self, x):\n",
    "        if self.training: \n",
    "            xmean = x.mean(dim=0 , keepdim=True)\n",
    "            xstd = x.std(dim=0 , keepdim=True)\n",
    "            with torch.no_grad():\n",
    "                self.mean_running = (1-self.momentum) * self.mean_running + self.momentum * xmean\n",
    "                self.std_running = (1-self.momentum) * self.std_running + self.momentum * xstd\n",
    "        else :\n",
    "            xmean = self.mean_running\n",
    "            xstd = self.std_running\n",
    "        \n",
    "        self.out = ( (x - xmean ) / (xstd + self.epsilon) ) * self.gamma + self.beta\n",
    "        return self.out\n",
    "        \n",
    "    def parameters(self):\n",
    "        return [self.gamma, self.beta]\n",
    "    \n",
    "class Tanh:\n",
    "    def __call__(self, x):\n",
    "        self.out = torch.tanh(x)\n",
    "        return self.out\n",
    "    \n",
    "    def parameters(self):\n",
    "        return []\n",
    "    \n",
    "class Embedding:\n",
    "    def __init__(self, num_emb, dim_emb):\n",
    "        self.weight = torch.randn(num_emb, dim_emb)\n",
    "        \n",
    "    def __call__(self, x):\n",
    "        self.out = self.weight[x]\n",
    "        return self.out\n",
    "    \n",
    "    def parameters(self):\n",
    "        return [self.weight]\n",
    "    \n",
    "class Flatten:\n",
    "    def __call__(self, x):\n",
    "        self.out = x.view(x.shape[0], -1)\n",
    "        return self.out\n",
    "    \n",
    "    def parameters(self):\n",
    "        return []"
   ]
  },
  {
   "cell_type": "code",
   "execution_count": 82,
   "metadata": {},
   "outputs": [],
   "source": [
    "class BnMLP:\n",
    "    def __init__(self,inputs, dims , b_size, hidden, outputs, n_layers):\n",
    "        self.inputs = inputs\n",
    "        self.dims = dims\n",
    "        self.b_size = b_size\n",
    "        self.hidden = hidden\n",
    "        self.outputs = outputs\n",
    "        self.n_layers = n_layers\n",
    "        self.iterations_trained = 0\n",
    "        self.current_train_loss = float('inf')\n",
    "        \n",
    "        self.layers = [\n",
    "            Embedding(self.inputs, self.dims),\n",
    "            Flatten(),\n",
    "            Linear(self.dims*self.b_size, self.hidden),\n",
    "            BatchNormal1D(self.hidden),\n",
    "            Tanh(),\n",
    "        ]\n",
    "        for i in range(self.n_layers - 1):\n",
    "            self.layers.append(Linear(self.hidden, self.hidden))\n",
    "            self.layers.append(BatchNormal1D(self.hidden))\n",
    "            self.layers.append(Tanh()) \n",
    "        self.layers.append(Linear(self.hidden, self.outputs))\n",
    "\n",
    "        with torch.no_grad():\n",
    "            for layer in self.layers[:-1]:\n",
    "                if isinstance(layer, Linear):\n",
    "                    layer.weight *= (5/3) # all inside (embedding) layers weight kammin init (solution 3)\n",
    "                    if layer.bias is not None:\n",
    "                        layer.bias *= (5/3)\n",
    "\n",
    "            self.layers[-1].weight *= 0.1   # last layer weight init (solution 2)\n",
    "\n",
    "        # self.parameters = [self.C] + [p for layer in self.layers for p in layer.parameters()]\n",
    "        self.parameters = [p for layer in self.layers for p in layer.parameters()]\n",
    "        for p in self.parameters:\n",
    "            p.requires_grad = True\n",
    "    \n",
    "    def forward(self, X):\n",
    "        h = X \n",
    "        for layer in self.layers:\n",
    "            h = layer(h)\n",
    "        # h.requires_grad = True\n",
    "        return h \n",
    "\n",
    "    def backward(self, logits, y):\n",
    "        loss = F.cross_entropy(logits, y)\n",
    "        # for layer in self.layers:\n",
    "        #     layer.out.retain_grad()\n",
    "        loss.backward()\n",
    "        return loss\n",
    "    \n",
    "    @torch.no_grad()\n",
    "    def evaluate(self, X, y):\n",
    "        for layer in self.layers:\n",
    "            layer.training = False\n",
    "        logits = self.forward(X)\n",
    "        loss = F.cross_entropy(logits, y)\n",
    "        for layer in self.layers:\n",
    "            layer.training = True\n",
    "        return loss.item()\n",
    "    \n",
    "    def sgd(self, X, y, alpha = 0.1 , batching_size = 32, max_iters = 1000, verbose = True):\n",
    "        for iter in range(max_iters+1):\n",
    "            mini_batch = torch.randint(0, X.shape[0], (batching_size,))\n",
    "            # logits = self.forward(X[mini_batch])\n",
    "            # loss = self.backward(logits,y[mini_batch])\n",
    "            h = X[mini_batch]\n",
    "            for layer in self.layers:\n",
    "                h = layer(h)\n",
    "            loss = F.cross_entropy(h, y[mini_batch])\n",
    "            for layer in self.layers:\n",
    "                layer.out.retain_grad()\n",
    "            loss.backward()\n",
    "            \n",
    "            with torch.no_grad():\n",
    "                for p in self.parameters:\n",
    "                    p.retain_grad()\n",
    "                    p -= p.grad * alpha\n",
    "                    p.grad = None\n",
    "                \n",
    "            if iter > max_iters *0.95:\n",
    "                alpha = alpha / 100\n",
    "            elif iter > max_iters *0.9:\n",
    "                alpha = alpha / 10\n",
    "            \n",
    "            if verbose and iter % (max_iters/10) == 0:\n",
    "                print(f'{iter = :7}, loss = {loss.item():.5f}')\n",
    "            \n",
    "            # break \n",
    "        \n",
    "        self.iterations_trained += max_iters\n",
    "        self.current_train_loss = loss.item()\n",
    "        return loss\n",
    "\n",
    "    @torch.no_grad()\n",
    "    def generate(self, start = '', max_len = 50):\n",
    "        for layer in self.layers:\n",
    "            layer.training = False\n",
    "        word = '.'* self.b_size + start\n",
    "\n",
    "        for i in range(max_len):\n",
    "            x = [enc(k) for k in word[- self.b_size:]]\n",
    "            x = torch.tensor([x])\n",
    "            logits =  self.forward(x)\n",
    "            p = F.softmax(logits, dim=1)\n",
    "            word += dec(torch.multinomial(p[0], 1).item())\n",
    "            if word[-1] == '.':\n",
    "                break\n",
    "        for layer in self.layers:\n",
    "            layer.training = True\n",
    "        return word[ self.b_size : -1]\n",
    "    \n",
    "    @torch.no_grad()\n",
    "    def get_params_count(self):\n",
    "        return sum([p.numel() for p in self.parameters])\n",
    "    \n",
    "    def __repr__(self):\n",
    "        return f'BnMLP(trained iter = {self.iterations_trained} , train loss = {self.current_train_loss:.5f})'\n"
   ]
  },
  {
   "cell_type": "code",
   "execution_count": 83,
   "metadata": {},
   "outputs": [
    {
     "data": {
      "text/plain": [
       "21597"
      ]
     },
     "execution_count": 83,
     "metadata": {},
     "output_type": "execute_result"
    }
   ],
   "source": [
    "bnmlp = BnMLP(\n",
    "    inputs = voc_size, \n",
    "    dims = 10,\n",
    "    b_size = 8,\n",
    "    hidden = 100,\n",
    "    outputs = voc_size,\n",
    "    n_layers = 2\n",
    ")\n",
    "\n",
    "bnmlp.get_params_count()"
   ]
  },
  {
   "cell_type": "code",
   "execution_count": 84,
   "metadata": {},
   "outputs": [
    {
     "data": {
      "text/plain": [
       "3.331407308578491"
      ]
     },
     "execution_count": 84,
     "metadata": {},
     "output_type": "execute_result"
    }
   ],
   "source": [
    "bnmlp.evaluate(Xtr, ytr)"
   ]
  },
  {
   "cell_type": "code",
   "execution_count": 85,
   "metadata": {},
   "outputs": [
    {
     "name": "stdout",
     "output_type": "stream",
     "text": [
      "iter =       0, loss = 3.35256\n",
      "iter =     100, loss = 2.15884\n",
      "iter =     200, loss = 2.27844\n",
      "iter =     300, loss = 2.04755\n",
      "iter =     400, loss = 2.32729\n",
      "iter =     500, loss = 2.21938\n",
      "iter =     600, loss = 2.55699\n",
      "iter =     700, loss = 1.48905\n",
      "iter =     800, loss = 1.83579\n",
      "iter =     900, loss = 1.77245\n",
      "iter =    1000, loss = 2.28033\n"
     ]
    },
    {
     "data": {
      "text/plain": [
       "tensor(2.2803, grad_fn=<NllLossBackward0>)"
      ]
     },
     "execution_count": 85,
     "metadata": {},
     "output_type": "execute_result"
    }
   ],
   "source": [
    "bnmlp.sgd(Xtr, ytr, alpha = 0.1, max_iters = 1000) "
   ]
  },
  {
   "cell_type": "code",
   "execution_count": 86,
   "metadata": {},
   "outputs": [
    {
     "data": {
      "text/plain": [
       "BnMLP(trained iter = 1000 , train loss = 2.28033)"
      ]
     },
     "execution_count": 86,
     "metadata": {},
     "output_type": "execute_result"
    },
    {
     "data": {
      "text/plain": [
       "1.9217188358306885"
      ]
     },
     "execution_count": 86,
     "metadata": {},
     "output_type": "execute_result"
    }
   ],
   "source": [
    "bnmlp\n",
    "bnmlp.evaluate(Xdev, ydev)"
   ]
  },
  {
   "cell_type": "code",
   "execution_count": 87,
   "metadata": {},
   "outputs": [
    {
     "name": "stdout",
     "output_type": "stream",
     "text": [
      "mands\n",
      "racumt\n",
      "cretat\n",
      "roonu\n",
      "par\n",
      "sanamy\n",
      "andhoxarta\n",
      "sabhaf\n",
      "devit\n",
      "nourak\n"
     ]
    }
   ],
   "source": [
    "for i in range(10):\n",
    "    print(bnmlp.generate(''))"
   ]
  },
  {
   "cell_type": "code",
   "execution_count": 88,
   "metadata": {},
   "outputs": [
    {
     "data": {
      "text/plain": [
       "1.923720121383667"
      ]
     },
     "execution_count": 88,
     "metadata": {},
     "output_type": "execute_result"
    }
   ],
   "source": [
    "bnmlp.evaluate(Xte, yte)"
   ]
  },
  {
   "cell_type": "markdown",
   "metadata": {},
   "source": [
    "# Wave Net"
   ]
  },
  {
   "cell_type": "code",
   "execution_count": 49,
   "metadata": {},
   "outputs": [],
   "source": [
    "def make_dataset(words, block_size = 3):\n",
    "    X , y = [], []\n",
    "    for word in words:\n",
    "        word = '.'*block_size + word + '.'\n",
    "        for i in range(len(word) - block_size):\n",
    "            X.append([enc(k) for k in word[i:i+block_size]])\n",
    "            y.append(enc(word[i+block_size]))\n",
    "    return torch.tensor(X), torch.tensor(y)\n",
    "\n",
    "import random\n",
    "\n",
    "random.shuffle(words)\n",
    "n1 = int(0.8*len(words))\n",
    "n2 = int(0.9*len(words))\n",
    "\n",
    "# Xtr,  ytr  = make_dataset(words[:n1] , block_size=8)     # 80%\n",
    "# Xdev, ydev = make_dataset(words[n1:n2] , block_size=8)   # 10%\n",
    "# Xte,  yte  = make_dataset(words[n2:] , block_size=8)     # 10%\n",
    "\n",
    "# torch.save(Xtr, data_folder + 'Xtr_bs_8.pt')\n",
    "# torch.save(ytr, data_folder + 'ytr_bs_8.pt')\n",
    "# torch.save(Xdev, data_folder + 'Xdev_bs_8.pt')\n",
    "# torch.save(ydev, data_folder + 'ydev_bs_8.pt')\n",
    "# torch.save(Xte, data_folder + 'Xte_bs_8.pt')\n",
    "# torch.save(yte, data_folder + 'yte_bs_8.pt')\n",
    "\n",
    "Xtr = torch.load( data_folder + 'Xtr_bs_8.pt')\n",
    "ytr = torch.load( data_folder + 'ytr_bs_8.pt')\n",
    "Xdev = torch.load( data_folder + 'Xdev_bs_8.pt')\n",
    "ydev = torch.load( data_folder + 'ydev_bs_8.pt')\n",
    "Xte = torch.load( data_folder + 'Xte_bs_8.pt')\n",
    "yte = torch.load( data_folder + 'yte_bs_8.pt')"
   ]
  },
  {
   "cell_type": "code",
   "execution_count": null,
   "metadata": {},
   "outputs": [],
   "source": []
  }
 ],
 "metadata": {
  "kernelspec": {
   "display_name": "iisc",
   "language": "python",
   "name": "iisc"
  },
  "language_info": {
   "codemirror_mode": {
    "name": "ipython",
    "version": 3
   },
   "file_extension": ".py",
   "mimetype": "text/x-python",
   "name": "python",
   "nbconvert_exporter": "python",
   "pygments_lexer": "ipython3",
   "version": "3.9.15"
  }
 },
 "nbformat": 4,
 "nbformat_minor": 2
}

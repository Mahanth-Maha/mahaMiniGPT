{
 "cells": [
  {
   "cell_type": "markdown",
   "metadata": {},
   "source": [
    "# indian Names dataset"
   ]
  },
  {
   "cell_type": "code",
   "execution_count": 2,
   "metadata": {},
   "outputs": [
    {
     "data": {
      "text/plain": [
       "14846"
      ]
     },
     "execution_count": 2,
     "metadata": {},
     "output_type": "execute_result"
    },
    {
     "data": {
      "text/plain": [
       "['name',\n",
       " 'barjraj',\n",
       " 'ramdin verma',\n",
       " 'sharat chandran',\n",
       " 'birender mandal',\n",
       " 'amit',\n",
       " 'kushal',\n",
       " 'kasid',\n",
       " 'shiv prakash',\n",
       " 'vikram singh',\n",
       " 'sanjay',\n",
       " 'abhi',\n",
       " 'ram dutt gupta',\n",
       " 'khadak singh',\n",
       " 'gurmit singh']"
      ]
     },
     "execution_count": 2,
     "metadata": {},
     "output_type": "execute_result"
    }
   ],
   "source": [
    "import numpy as np\n",
    "import matplotlib.pyplot as plt\n",
    "\n",
    "data_folder = './data/indian_names/'\n",
    "male_data_file = 'Indian-Male-Names.csv'\n",
    "female_data_file = 'Indian-Female-Names.csv'\n",
    "\n",
    "def load_data(data_file):\n",
    "    with open(data_folder + data_file, 'r') as f:\n",
    "        data = f.readlines()\n",
    "    return data\n",
    "\n",
    "def get_name_list(file_name):\n",
    "    data = load_data(file_name)\n",
    "    names = []\n",
    "    for line in data:\n",
    "        names.append(line.split(',')[0])\n",
    "    return names\n",
    "\n",
    "males = get_name_list(male_data_file)\n",
    "len(males)\n",
    "males[:15]"
   ]
  },
  {
   "cell_type": "code",
   "execution_count": 3,
   "metadata": {},
   "outputs": [
    {
     "data": {
      "text/plain": [
       "15383"
      ]
     },
     "execution_count": 3,
     "metadata": {},
     "output_type": "execute_result"
    },
    {
     "data": {
      "text/plain": [
       "['pooja kashyap',\n",
       " 'jyoti',\n",
       " 'meena kumari',\n",
       " '\"savita',\n",
       " 'reena devi',\n",
       " 'neha',\n",
       " 'payal goyala',\n",
       " 'rakhi',\n",
       " 'priynka',\n",
       " 'janki']"
      ]
     },
     "execution_count": 3,
     "metadata": {},
     "output_type": "execute_result"
    }
   ],
   "source": [
    "females = get_name_list(female_data_file)\n",
    "len(females)\n",
    "females[100:110]"
   ]
  },
  {
   "cell_type": "code",
   "execution_count": 4,
   "metadata": {},
   "outputs": [
    {
     "data": {
      "text/plain": [
       "14846"
      ]
     },
     "execution_count": 4,
     "metadata": {},
     "output_type": "execute_result"
    },
    {
     "data": {
      "text/plain": [
       "14777"
      ]
     },
     "execution_count": 4,
     "metadata": {},
     "output_type": "execute_result"
    },
    {
     "data": {
      "text/plain": [
       "7838"
      ]
     },
     "execution_count": 4,
     "metadata": {},
     "output_type": "execute_result"
    }
   ],
   "source": [
    "import re\n",
    "\n",
    "starting_words = ['mr', 'mrs', 'miss', 'ms', 'sir', 'madam', 'dr', 'prof', 'rev', 'col', 'capt', 'mstr', 'lt', 'rt', 'shri', 'smt', 'km', 'sm', 'smt', 'km', 'sm', 'sri', 'mohd', 'mohamed', 'mohammed', 'shaik', 'sk']\n",
    "\n",
    "def clean_data(text):\n",
    "    text = text.lower()\n",
    "    for stopword in starting_words:\n",
    "        if text.startswith(stopword):\n",
    "            text = text[len(stopword):]\n",
    "    if '@' in text:\n",
    "        text = text.split('@')[0]\n",
    "    text = re.sub(r'[^a-z\\s]', '', text)\n",
    "    text = text.strip()\n",
    "    return text\n",
    "\n",
    "len(males)\n",
    "males = [clean_data(name) for name  in males if clean_data(name) != '']\n",
    "len(males)\n",
    "uni_males = list(set(males))\n",
    "len(uni_males)"
   ]
  },
  {
   "cell_type": "code",
   "execution_count": 5,
   "metadata": {},
   "outputs": [
    {
     "data": {
      "text/plain": [
       "15383"
      ]
     },
     "execution_count": 5,
     "metadata": {},
     "output_type": "execute_result"
    },
    {
     "data": {
      "text/plain": [
       "15282"
      ]
     },
     "execution_count": 5,
     "metadata": {},
     "output_type": "execute_result"
    },
    {
     "data": {
      "text/plain": [
       "5859"
      ]
     },
     "execution_count": 5,
     "metadata": {},
     "output_type": "execute_result"
    }
   ],
   "source": [
    "\n",
    "len(females)\n",
    "females = [clean_data(name) for name  in females if clean_data(name) != '']\n",
    "len(females)\n",
    "uni_females = list(set(females))\n",
    "len(uni_females)"
   ]
  },
  {
   "cell_type": "code",
   "execution_count": 6,
   "metadata": {},
   "outputs": [
    {
     "data": {
      "text/plain": [
       "['name',\n",
       " 'shivani',\n",
       " 'isha',\n",
       " 'shyani devi',\n",
       " 'divya',\n",
       " 'mansi',\n",
       " 'mazida',\n",
       " 'pooja',\n",
       " 'kajal',\n",
       " 'meena',\n",
       " 'sonam',\n",
       " 'buity',\n",
       " 'hina',\n",
       " 'shakshi sagar',\n",
       " 'pooja',\n",
       " 'anita',\n",
       " 'neetu',\n",
       " 'anshu do',\n",
       " 'kanika kathuria',\n",
       " 'manju',\n",
       " 'shakshi',\n",
       " 'anita',\n",
       " 'reena',\n",
       " 'neha',\n",
       " 'khushboo',\n",
       " 'aasmin',\n",
       " 'jyoti',\n",
       " 'riya masi',\n",
       " 'rekha',\n",
       " 'leela with a child',\n",
       " 'isha',\n",
       " 'gulshan',\n",
       " 'priya jain',\n",
       " 'pooja',\n",
       " 'rakhi',\n",
       " 'versha',\n",
       " 'sunita',\n",
       " 'nitu kumari',\n",
       " 'vandana',\n",
       " 'roshni',\n",
       " 'parveen',\n",
       " 'versa',\n",
       " 'kavita',\n",
       " 'pooja',\n",
       " 'sarojani',\n",
       " 'nagina',\n",
       " 'tapas das',\n",
       " 'priyanka',\n",
       " 'santna',\n",
       " 'khushbu',\n",
       " 'pooja',\n",
       " 'any bobby',\n",
       " 'deeya kumari',\n",
       " 'anjali juneja',\n",
       " 'anjali',\n",
       " 'champa karketta',\n",
       " 'anshu',\n",
       " 'monika',\n",
       " 'rimmi singh',\n",
       " 'aanamika misra',\n",
       " 'chahat',\n",
       " 'manju',\n",
       " 'nagma khatoon',\n",
       " 'pooja',\n",
       " 'sonam',\n",
       " 'koshal',\n",
       " 'laxmi devi wo late sh hukan chand',\n",
       " 'sandhya',\n",
       " 'poonam',\n",
       " 'sna',\n",
       " 'nikita senger',\n",
       " 'layba noor',\n",
       " 'iqra',\n",
       " 'salima',\n",
       " 'naziya siddiqui',\n",
       " 'priti',\n",
       " 'kamni',\n",
       " 'sandhya',\n",
       " 'renu',\n",
       " 'priya',\n",
       " 'pooja',\n",
       " 'minakchi',\n",
       " 'ruby',\n",
       " 'farhana baigum',\n",
       " 'sheetal',\n",
       " 'kalyani patro',\n",
       " 'anjali',\n",
       " 'priyanka',\n",
       " 'palak',\n",
       " 'babita',\n",
       " 'gurdeep kaur',\n",
       " 'dhanwanti  devi',\n",
       " 'fooljhnah',\n",
       " 'vandana',\n",
       " 'gyatri devi',\n",
       " 'shehnaz',\n",
       " 'kajal',\n",
       " 'pooja',\n",
       " 'ranju',\n",
       " 'vidhi']"
      ]
     },
     "execution_count": 6,
     "metadata": {},
     "output_type": "execute_result"
    }
   ],
   "source": [
    "females[:100]"
   ]
  },
  {
   "cell_type": "code",
   "execution_count": 7,
   "metadata": {},
   "outputs": [
    {
     "data": {
      "text/plain": [
       "<Figure size 1000x500 with 0 Axes>"
      ]
     },
     "execution_count": 7,
     "metadata": {},
     "output_type": "execute_result"
    },
    {
     "data": {
      "text/plain": [
       "<BarContainer object of 20 artists>"
      ]
     },
     "execution_count": 7,
     "metadata": {},
     "output_type": "execute_result"
    },
    {
     "data": {
      "text/plain": [
       "([0, 1, 2, 3, 4, 5, 6, 7, 8, 9, 10, 11, 12, 13, 14, 15, 16, 17, 18, 19],\n",
       " [Text(0, 0, 'deepak'),\n",
       "  Text(1, 0, 'rahul'),\n",
       "  Text(2, 0, 'rohit'),\n",
       "  Text(3, 0, 'sanjay'),\n",
       "  Text(4, 0, 'raju'),\n",
       "  Text(5, 0, 'amit'),\n",
       "  Text(6, 0, 'sonu'),\n",
       "  Text(7, 0, 'sandeep'),\n",
       "  Text(8, 0, 'amit kumar'),\n",
       "  Text(9, 0, 'ajay'),\n",
       "  Text(10, 0, 'ravi'),\n",
       "  Text(11, 0, 'ankit'),\n",
       "  Text(12, 0, 'mukesh'),\n",
       "  Text(13, 0, 'suraj'),\n",
       "  Text(14, 0, 'sunil'),\n",
       "  Text(15, 0, 'rajesh'),\n",
       "  Text(16, 0, 'ashok kumar'),\n",
       "  Text(17, 0, 'vishal'),\n",
       "  Text(18, 0, 'sunil kumar'),\n",
       "  Text(19, 0, 'manoj kumar')])"
      ]
     },
     "execution_count": 7,
     "metadata": {},
     "output_type": "execute_result"
    },
    {
     "data": {
      "image/png": "[encoded data removed]",
      "text/plain": [
       "<Figure size 1000x500 with 1 Axes>"
      ]
     },
     "metadata": {},
     "output_type": "display_data"
    }
   ],
   "source": [
    "from collections import Counter\n",
    "\n",
    "mf_males = Counter(males).most_common(20)\n",
    "names = [name[0] for name in mf_males]\n",
    "freqs = [name[1] for name in mf_males]\n",
    "\n",
    "plt.figure(figsize=(10, 5))\n",
    "plt.bar(names, freqs)\n",
    "plt.xticks(rotation=45)\n",
    "plt.show()\n"
   ]
  },
  {
   "cell_type": "code",
   "execution_count": 8,
   "metadata": {},
   "outputs": [
    {
     "data": {
      "text/plain": [
       "<Figure size 1000x500 with 0 Axes>"
      ]
     },
     "execution_count": 8,
     "metadata": {},
     "output_type": "execute_result"
    },
    {
     "data": {
      "text/plain": [
       "<BarContainer object of 20 artists>"
      ]
     },
     "execution_count": 8,
     "metadata": {},
     "output_type": "execute_result"
    },
    {
     "data": {
      "text/plain": [
       "([0, 1, 2, 3, 4, 5, 6, 7, 8, 9, 10, 11, 12, 13, 14, 15, 16, 17, 18, 19],\n",
       " [Text(0, 0, 'pooja'),\n",
       "  Text(1, 0, 'jyoti'),\n",
       "  Text(2, 0, 'poonam'),\n",
       "  Text(3, 0, 'sunita'),\n",
       "  Text(4, 0, 'neha'),\n",
       "  Text(5, 0, 'priyanka'),\n",
       "  Text(6, 0, 'mamta'),\n",
       "  Text(7, 0, 'seema'),\n",
       "  Text(8, 0, 'rekha'),\n",
       "  Text(9, 0, 'nisha'),\n",
       "  Text(10, 0, 'suman'),\n",
       "  Text(11, 0, 'laxmi'),\n",
       "  Text(12, 0, 'kavita'),\n",
       "  Text(13, 0, 'kajal'),\n",
       "  Text(14, 0, 'anita'),\n",
       "  Text(15, 0, 'komal'),\n",
       "  Text(16, 0, 'aarti'),\n",
       "  Text(17, 0, 'manisha'),\n",
       "  Text(18, 0, 'preeti'),\n",
       "  Text(19, 0, 'pinki')])"
      ]
     },
     "execution_count": 8,
     "metadata": {},
     "output_type": "execute_result"
    },
    {
     "data": {
      "image/png": "[encoded data removed]",
      "text/plain": [
       "<Figure size 1000x500 with 1 Axes>"
      ]
     },
     "metadata": {},
     "output_type": "display_data"
    }
   ],
   "source": [
    "mf_females = Counter(females).most_common(20)\n",
    "names = [name[0] for name in mf_females]\n",
    "freqs = [name[1] for name in mf_females]\n",
    "\n",
    "plt.figure(figsize=(10, 5))\n",
    "plt.bar(names, freqs)\n",
    "plt.xticks(rotation=45)\n",
    "plt.show()\n"
   ]
  },
  {
   "cell_type": "code",
   "execution_count": 9,
   "metadata": {},
   "outputs": [
    {
     "data": {
      "text/plain": [
       "30059"
      ]
     },
     "execution_count": 9,
     "metadata": {},
     "output_type": "execute_result"
    }
   ],
   "source": [
    "names = males + females \n",
    "len(names)"
   ]
  },
  {
   "cell_type": "code",
   "execution_count": 10,
   "metadata": {},
   "outputs": [
    {
     "data": {
      "text/plain": [
       "('aj', 'raj kishor mishra work kartar ply wood factory kh')"
      ]
     },
     "execution_count": 10,
     "metadata": {},
     "output_type": "execute_result"
    }
   ],
   "source": [
    "min_ = '*'*100\n",
    "max_ = ''\n",
    "for name in names :\n",
    "    if len(name) < len(min_):\n",
    "        min_ = name\n",
    "    if len(name) > len(max_):\n",
    "        max_ = name\n",
    "min_, max_"
   ]
  },
  {
   "cell_type": "code",
   "execution_count": 11,
   "metadata": {},
   "outputs": [
    {
     "data": {
      "text/html": [
       "<div>\n",
       "<style scoped>\n",
       "    .dataframe tbody tr th:only-of-type {\n",
       "        vertical-align: middle;\n",
       "    }\n",
       "\n",
       "    .dataframe tbody tr th {\n",
       "        vertical-align: top;\n",
       "    }\n",
       "\n",
       "    .dataframe thead th {\n",
       "        text-align: right;\n",
       "    }\n",
       "</style>\n",
       "<table border=\"1\" class=\"dataframe\">\n",
       "  <thead>\n",
       "    <tr style=\"text-align: right;\">\n",
       "      <th></th>\n",
       "      <th>name</th>\n",
       "      <th>len</th>\n",
       "    </tr>\n",
       "  </thead>\n",
       "  <tbody>\n",
       "    <tr>\n",
       "      <th>0</th>\n",
       "      <td>name</td>\n",
       "      <td>4</td>\n",
       "    </tr>\n",
       "    <tr>\n",
       "      <th>1</th>\n",
       "      <td>barjraj</td>\n",
       "      <td>7</td>\n",
       "    </tr>\n",
       "    <tr>\n",
       "      <th>2</th>\n",
       "      <td>ramdin verma</td>\n",
       "      <td>12</td>\n",
       "    </tr>\n",
       "    <tr>\n",
       "      <th>3</th>\n",
       "      <td>sharat chandran</td>\n",
       "      <td>15</td>\n",
       "    </tr>\n",
       "    <tr>\n",
       "      <th>4</th>\n",
       "      <td>birender mandal</td>\n",
       "      <td>15</td>\n",
       "    </tr>\n",
       "  </tbody>\n",
       "</table>\n",
       "</div>"
      ],
      "text/plain": [
       "              name  len\n",
       "0             name    4\n",
       "1          barjraj    7\n",
       "2     ramdin verma   12\n",
       "3  sharat chandran   15\n",
       "4  birender mandal   15"
      ]
     },
     "execution_count": 11,
     "metadata": {},
     "output_type": "execute_result"
    }
   ],
   "source": [
    "import pandas as pd\n",
    "df = pd.DataFrame(names, columns=['name'])\n",
    "df['len'] = df['name'].apply(len)\n",
    "df.head()"
   ]
  },
  {
   "cell_type": "code",
   "execution_count": 12,
   "metadata": {},
   "outputs": [
    {
     "data": {
      "text/html": [
       "<div>\n",
       "<style scoped>\n",
       "    .dataframe tbody tr th:only-of-type {\n",
       "        vertical-align: middle;\n",
       "    }\n",
       "\n",
       "    .dataframe tbody tr th {\n",
       "        vertical-align: top;\n",
       "    }\n",
       "\n",
       "    .dataframe thead th {\n",
       "        text-align: right;\n",
       "    }\n",
       "</style>\n",
       "<table border=\"1\" class=\"dataframe\">\n",
       "  <thead>\n",
       "    <tr style=\"text-align: right;\">\n",
       "      <th></th>\n",
       "      <th>name</th>\n",
       "      <th>len</th>\n",
       "    </tr>\n",
       "  </thead>\n",
       "  <tbody>\n",
       "    <tr>\n",
       "      <th>2268</th>\n",
       "      <td>raj kishor mishra work kartar ply wood factory kh</td>\n",
       "      <td>49</td>\n",
       "    </tr>\n",
       "    <tr>\n",
       "      <th>24698</th>\n",
       "      <td>shanti devi alongh with her daughter khushi   yrs</td>\n",
       "      <td>49</td>\n",
       "    </tr>\n",
       "    <tr>\n",
       "      <th>29935</th>\n",
       "      <td>asha devi along with her doughter namly pooja age</td>\n",
       "      <td>49</td>\n",
       "    </tr>\n",
       "    <tr>\n",
       "      <th>11518</th>\n",
       "      <td>raju ram so harlal ji bishnoi ro ramesh colony sa</td>\n",
       "      <td>49</td>\n",
       "    </tr>\n",
       "    <tr>\n",
       "      <th>26885</th>\n",
       "      <td>menakshi with husband rohit with children krishna</td>\n",
       "      <td>49</td>\n",
       "    </tr>\n",
       "    <tr>\n",
       "      <th>25092</th>\n",
       "      <td>sunita with her two minor children namely sandhya</td>\n",
       "      <td>49</td>\n",
       "    </tr>\n",
       "    <tr>\n",
       "      <th>29292</th>\n",
       "      <td>sanjeeta do soram caste ahedi ro balda ps kelwar</td>\n",
       "      <td>48</td>\n",
       "    </tr>\n",
       "    <tr>\n",
       "      <th>7009</th>\n",
       "      <td>muhmad aarif so muhashin appar bhktiyana srinaga</td>\n",
       "      <td>48</td>\n",
       "    </tr>\n",
       "    <tr>\n",
       "      <th>16538</th>\n",
       "      <td>anita with her  children namely ramesh and siraj</td>\n",
       "      <td>48</td>\n",
       "    </tr>\n",
       "    <tr>\n",
       "      <th>11733</th>\n",
       "      <td>aakash or deepu so satyprakash sharma ro town ro</td>\n",
       "      <td>48</td>\n",
       "    </tr>\n",
       "    <tr>\n",
       "      <th>26827</th>\n",
       "      <td>shahista do abdul vahid ro khampur ps chhapar zu</td>\n",
       "      <td>48</td>\n",
       "    </tr>\n",
       "    <tr>\n",
       "      <th>27882</th>\n",
       "      <td>kamini alongwith her daughter namely megha ageyr</td>\n",
       "      <td>48</td>\n",
       "    </tr>\n",
       "    <tr>\n",
       "      <th>19145</th>\n",
       "      <td>bharti jain with her two son palak jain age  yrs</td>\n",
       "      <td>48</td>\n",
       "    </tr>\n",
       "    <tr>\n",
       "      <th>10929</th>\n",
       "      <td>sandeep so pappu urf munesh kumar ro chadseena p</td>\n",
       "      <td>48</td>\n",
       "    </tr>\n",
       "    <tr>\n",
       "      <th>26546</th>\n",
       "      <td>kavita bansi do babulal bansi ro n chimnigate mo</td>\n",
       "      <td>48</td>\n",
       "    </tr>\n",
       "    <tr>\n",
       "      <th>13034</th>\n",
       "      <td>sandeep dahiya mso azad singh ro village bound p</td>\n",
       "      <td>48</td>\n",
       "    </tr>\n",
       "    <tr>\n",
       "      <th>22743</th>\n",
       "      <td>santosh do gokul singh ro kudi taragar  ps jawaj</td>\n",
       "      <td>48</td>\n",
       "    </tr>\n",
       "    <tr>\n",
       "      <th>27327</th>\n",
       "      <td>kali bai wo hari singh banjara ro chortalai  hal</td>\n",
       "      <td>48</td>\n",
       "    </tr>\n",
       "    <tr>\n",
       "      <th>19725</th>\n",
       "      <td>hema devi with with his daughter nalini age yrs</td>\n",
       "      <td>47</td>\n",
       "    </tr>\n",
       "    <tr>\n",
       "      <th>13275</th>\n",
       "      <td>hansraj meena so raghunath meena ro maharajpura</td>\n",
       "      <td>47</td>\n",
       "    </tr>\n",
       "  </tbody>\n",
       "</table>\n",
       "</div>"
      ],
      "text/plain": [
       "                                                    name  len\n",
       "2268   raj kishor mishra work kartar ply wood factory kh   49\n",
       "24698  shanti devi alongh with her daughter khushi   yrs   49\n",
       "29935  asha devi along with her doughter namly pooja age   49\n",
       "11518  raju ram so harlal ji bishnoi ro ramesh colony sa   49\n",
       "26885  menakshi with husband rohit with children krishna   49\n",
       "25092  sunita with her two minor children namely sandhya   49\n",
       "29292   sanjeeta do soram caste ahedi ro balda ps kelwar   48\n",
       "7009    muhmad aarif so muhashin appar bhktiyana srinaga   48\n",
       "16538   anita with her  children namely ramesh and siraj   48\n",
       "11733   aakash or deepu so satyprakash sharma ro town ro   48\n",
       "26827   shahista do abdul vahid ro khampur ps chhapar zu   48\n",
       "27882   kamini alongwith her daughter namely megha ageyr   48\n",
       "19145   bharti jain with her two son palak jain age  yrs   48\n",
       "10929   sandeep so pappu urf munesh kumar ro chadseena p   48\n",
       "26546   kavita bansi do babulal bansi ro n chimnigate mo   48\n",
       "13034   sandeep dahiya mso azad singh ro village bound p   48\n",
       "22743   santosh do gokul singh ro kudi taragar  ps jawaj   48\n",
       "27327   kali bai wo hari singh banjara ro chortalai  hal   48\n",
       "19725    hema devi with with his daughter nalini age yrs   47\n",
       "13275    hansraj meena so raghunath meena ro maharajpura   47"
      ]
     },
     "execution_count": 12,
     "metadata": {},
     "output_type": "execute_result"
    }
   ],
   "source": [
    "df.sort_values('len', ascending=False).head(20)"
   ]
  },
  {
   "cell_type": "code",
   "execution_count": null,
   "metadata": {},
   "outputs": [
    {
     "data": {
      "text/html": [
       "<div>\n",
       "<style scoped>\n",
       "    .dataframe tbody tr th:only-of-type {\n",
       "        vertical-align: middle;\n",
       "    }\n",
       "\n",
       "    .dataframe tbody tr th {\n",
       "        vertical-align: top;\n",
       "    }\n",
       "\n",
       "    .dataframe thead th {\n",
       "        text-align: right;\n",
       "    }\n",
       "</style>\n",
       "<table border=\"1\" class=\"dataframe\">\n",
       "  <thead>\n",
       "    <tr style=\"text-align: right;\">\n",
       "      <th></th>\n",
       "      <th>name</th>\n",
       "      <th>len</th>\n",
       "    </tr>\n",
       "  </thead>\n",
       "  <tbody>\n",
       "    <tr>\n",
       "      <th>22721</th>\n",
       "      <td>premi devi  balbant singhishwar singh  yuva</td>\n",
       "      <td>43</td>\n",
       "    </tr>\n",
       "    <tr>\n",
       "      <th>21522</th>\n",
       "      <td>kumarage dona dhanasiri chandra latha</td>\n",
       "      <td>37</td>\n",
       "    </tr>\n",
       "    <tr>\n",
       "      <th>7767</th>\n",
       "      <td>vb  sumramanya jaya prakash chandra</td>\n",
       "      <td>35</td>\n",
       "    </tr>\n",
       "    <tr>\n",
       "      <th>12012</th>\n",
       "      <td>bhavishy kumar sharma  uefh  bholu</td>\n",
       "      <td>34</td>\n",
       "    </tr>\n",
       "    <tr>\n",
       "      <th>9505</th>\n",
       "      <td>warnakulasuriya erancis fernando</td>\n",
       "      <td>32</td>\n",
       "    </tr>\n",
       "    <tr>\n",
       "      <th>9506</th>\n",
       "      <td>warnakulasuriya erancis fernando</td>\n",
       "      <td>32</td>\n",
       "    </tr>\n",
       "    <tr>\n",
       "      <th>9507</th>\n",
       "      <td>warnakulasuriya erancis fernando</td>\n",
       "      <td>32</td>\n",
       "    </tr>\n",
       "    <tr>\n",
       "      <th>3840</th>\n",
       "      <td>yespal singh chauhan pappu rana</td>\n",
       "      <td>31</td>\n",
       "    </tr>\n",
       "    <tr>\n",
       "      <th>24499</th>\n",
       "      <td>bhuri bai wio lt dhanraj lodha</td>\n",
       "      <td>30</td>\n",
       "    </tr>\n",
       "    <tr>\n",
       "      <th>13034</th>\n",
       "      <td>sandeep dahiya mso azad singh</td>\n",
       "      <td>29</td>\n",
       "    </tr>\n",
       "    <tr>\n",
       "      <th>2260</th>\n",
       "      <td>sardar gurmeet singh chauhan</td>\n",
       "      <td>28</td>\n",
       "    </tr>\n",
       "    <tr>\n",
       "      <th>23756</th>\n",
       "      <td>begumpur malviya nagar delhi</td>\n",
       "      <td>28</td>\n",
       "    </tr>\n",
       "    <tr>\n",
       "      <th>4262</th>\n",
       "      <td>omendra singh rajpoot  kana</td>\n",
       "      <td>27</td>\n",
       "    </tr>\n",
       "    <tr>\n",
       "      <th>8750</th>\n",
       "      <td>aphasana   mukesh  narendra</td>\n",
       "      <td>27</td>\n",
       "    </tr>\n",
       "    <tr>\n",
       "      <th>2823</th>\n",
       "      <td>rajinder bhasin alias babbu</td>\n",
       "      <td>27</td>\n",
       "    </tr>\n",
       "    <tr>\n",
       "      <th>12999</th>\n",
       "      <td>metily ritayard sonu sharma</td>\n",
       "      <td>27</td>\n",
       "    </tr>\n",
       "    <tr>\n",
       "      <th>9188</th>\n",
       "      <td>ram partap singh bhandaree</td>\n",
       "      <td>26</td>\n",
       "    </tr>\n",
       "    <tr>\n",
       "      <th>29435</th>\n",
       "      <td>umme kool sum sitara jahan</td>\n",
       "      <td>26</td>\n",
       "    </tr>\n",
       "    <tr>\n",
       "      <th>7495</th>\n",
       "      <td>dataterya devi dass jadhav</td>\n",
       "      <td>26</td>\n",
       "    </tr>\n",
       "    <tr>\n",
       "      <th>4740</th>\n",
       "      <td>amar thuruwasn ganeshwaran</td>\n",
       "      <td>26</td>\n",
       "    </tr>\n",
       "    <tr>\n",
       "      <th>10326</th>\n",
       "      <td>dilip kumar bhattacharjee</td>\n",
       "      <td>25</td>\n",
       "    </tr>\n",
       "    <tr>\n",
       "      <th>17243</th>\n",
       "      <td>shreemati nirmala padwala</td>\n",
       "      <td>25</td>\n",
       "    </tr>\n",
       "    <tr>\n",
       "      <th>12983</th>\n",
       "      <td>gawali pandharinath yadav</td>\n",
       "      <td>25</td>\n",
       "    </tr>\n",
       "    <tr>\n",
       "      <th>24909</th>\n",
       "      <td>kumari vaishali vaishnav</td>\n",
       "      <td>24</td>\n",
       "    </tr>\n",
       "    <tr>\n",
       "      <th>23632</th>\n",
       "      <td>sonali priydarshni jaina</td>\n",
       "      <td>24</td>\n",
       "    </tr>\n",
       "    <tr>\n",
       "      <th>26431</th>\n",
       "      <td>santosh kumar vishvkarma</td>\n",
       "      <td>24</td>\n",
       "    </tr>\n",
       "    <tr>\n",
       "      <th>27933</th>\n",
       "      <td>subhangi sadashiv jadhav</td>\n",
       "      <td>24</td>\n",
       "    </tr>\n",
       "    <tr>\n",
       "      <th>12923</th>\n",
       "      <td>mohammad ishtiaque ahmad</td>\n",
       "      <td>24</td>\n",
       "    </tr>\n",
       "    <tr>\n",
       "      <th>4122</th>\n",
       "      <td>sheeak azzul hak rahaman</td>\n",
       "      <td>24</td>\n",
       "    </tr>\n",
       "    <tr>\n",
       "      <th>7632</th>\n",
       "      <td>dharmender singh solanki</td>\n",
       "      <td>24</td>\n",
       "    </tr>\n",
       "  </tbody>\n",
       "</table>\n",
       "</div>"
      ],
      "text/plain": [
       "                                              name  len\n",
       "22721  premi devi  balbant singhishwar singh  yuva   43\n",
       "21522        kumarage dona dhanasiri chandra latha   37\n",
       "7767           vb  sumramanya jaya prakash chandra   35\n",
       "12012           bhavishy kumar sharma  uefh  bholu   34\n",
       "9505              warnakulasuriya erancis fernando   32\n",
       "9506              warnakulasuriya erancis fernando   32\n",
       "9507              warnakulasuriya erancis fernando   32\n",
       "3840               yespal singh chauhan pappu rana   31\n",
       "24499               bhuri bai wio lt dhanraj lodha   30\n",
       "13034                sandeep dahiya mso azad singh   29\n",
       "2260                  sardar gurmeet singh chauhan   28\n",
       "23756                 begumpur malviya nagar delhi   28\n",
       "4262                   omendra singh rajpoot  kana   27\n",
       "8750                   aphasana   mukesh  narendra   27\n",
       "2823                   rajinder bhasin alias babbu   27\n",
       "12999                  metily ritayard sonu sharma   27\n",
       "9188                    ram partap singh bhandaree   26\n",
       "29435                   umme kool sum sitara jahan   26\n",
       "7495                    dataterya devi dass jadhav   26\n",
       "4740                    amar thuruwasn ganeshwaran   26\n",
       "10326                    dilip kumar bhattacharjee   25\n",
       "17243                    shreemati nirmala padwala   25\n",
       "12983                    gawali pandharinath yadav   25\n",
       "24909                     kumari vaishali vaishnav   24\n",
       "23632                     sonali priydarshni jaina   24\n",
       "26431                     santosh kumar vishvkarma   24\n",
       "27933                     subhangi sadashiv jadhav   24\n",
       "12923                     mohammad ishtiaque ahmad   24\n",
       "4122                      sheeak azzul hak rahaman   24\n",
       "7632                      dharmender singh solanki   24"
      ]
     },
     "execution_count": 13,
     "metadata": {},
     "output_type": "execute_result"
    }
   ],
   "source": [
    "def get_name(text):\n",
    "    split_words = [' with ',' witrh ', ' so ', ' do ', ' wo ', ' co ', ' ro ', ' age ', ' and ', ' his ', ' her ', ' or ', ' d ', ' w ', ' r ' , ' c ' , ' m ' ,' s ', ' in ', ' at ', ' along', ' work ', ' urf ',\n",
    "                   ' mother ', ' father ', ' brother ', ' sister ', ' son ', ' daughter ', ' uncle ', ' aunt ', ' cousin ', ' nephew ', ' niece ', ' grandfather ', ' grandmother ',\n",
    "                     ' grandson ', ' granddaughter ', ' husband ', ' wife ', ' friend ', \n",
    "                     ' jan ', ' feb ', ' mar ', ' apr ', ' may ', ' jun ', ' jul ', ' aug ', ' sep ', ' oct ', ' nov ', ' dec '\n",
    "                     ' nagar ', ' colony ', ' street ', ' road ', ' lane ', ' park ',\n",
    "                    ]\n",
    "    for word in split_words:\n",
    "        if word in text:\n",
    "            text = text.split(word)[0]\n",
    "\n",
    "    return text\n",
    "\n",
    "df['name'] = df['name'].apply(get_name)\n",
    "df['len'] = df['name'].apply(len)\n",
    "df.sort_values('len', ascending=False).head(30)"
   ]
  },
  {
   "cell_type": "code",
   "execution_count": 14,
   "metadata": {},
   "outputs": [
    {
     "data": {
      "text/html": [
       "<div>\n",
       "<style scoped>\n",
       "    .dataframe tbody tr th:only-of-type {\n",
       "        vertical-align: middle;\n",
       "    }\n",
       "\n",
       "    .dataframe tbody tr th {\n",
       "        vertical-align: top;\n",
       "    }\n",
       "\n",
       "    .dataframe thead th {\n",
       "        text-align: right;\n",
       "    }\n",
       "</style>\n",
       "<table border=\"1\" class=\"dataframe\">\n",
       "  <thead>\n",
       "    <tr style=\"text-align: right;\">\n",
       "      <th></th>\n",
       "      <th>name</th>\n",
       "      <th>len</th>\n",
       "    </tr>\n",
       "  </thead>\n",
       "  <tbody>\n",
       "    <tr>\n",
       "      <th>1</th>\n",
       "      <td>barjraj</td>\n",
       "      <td>7</td>\n",
       "    </tr>\n",
       "    <tr>\n",
       "      <th>2</th>\n",
       "      <td>ramdin verma</td>\n",
       "      <td>12</td>\n",
       "    </tr>\n",
       "    <tr>\n",
       "      <th>3</th>\n",
       "      <td>sharat chandran</td>\n",
       "      <td>15</td>\n",
       "    </tr>\n",
       "    <tr>\n",
       "      <th>4</th>\n",
       "      <td>birender mandal</td>\n",
       "      <td>15</td>\n",
       "    </tr>\n",
       "    <tr>\n",
       "      <th>5</th>\n",
       "      <td>amit</td>\n",
       "      <td>4</td>\n",
       "    </tr>\n",
       "  </tbody>\n",
       "</table>\n",
       "</div>"
      ],
      "text/plain": [
       "              name  len\n",
       "1          barjraj    7\n",
       "2     ramdin verma   12\n",
       "3  sharat chandran   15\n",
       "4  birender mandal   15\n",
       "5             amit    4"
      ]
     },
     "execution_count": 14,
     "metadata": {},
     "output_type": "execute_result"
    }
   ],
   "source": [
    "df = df[df['name'] != 'name' ]\n",
    "df.head()"
   ]
  },
  {
   "cell_type": "code",
   "execution_count": 15,
   "metadata": {},
   "outputs": [
    {
     "data": {
      "text/html": [
       "<div>\n",
       "<style scoped>\n",
       "    .dataframe tbody tr th:only-of-type {\n",
       "        vertical-align: middle;\n",
       "    }\n",
       "\n",
       "    .dataframe tbody tr th {\n",
       "        vertical-align: top;\n",
       "    }\n",
       "\n",
       "    .dataframe thead th {\n",
       "        text-align: right;\n",
       "    }\n",
       "</style>\n",
       "<table border=\"1\" class=\"dataframe\">\n",
       "  <thead>\n",
       "    <tr style=\"text-align: right;\">\n",
       "      <th></th>\n",
       "      <th>name</th>\n",
       "      <th>len</th>\n",
       "    </tr>\n",
       "  </thead>\n",
       "  <tbody>\n",
       "    <tr>\n",
       "      <th>2014</th>\n",
       "      <td>p</td>\n",
       "      <td>1</td>\n",
       "    </tr>\n",
       "    <tr>\n",
       "      <th>3614</th>\n",
       "      <td>b</td>\n",
       "      <td>1</td>\n",
       "    </tr>\n",
       "    <tr>\n",
       "      <th>6260</th>\n",
       "      <td>om</td>\n",
       "      <td>2</td>\n",
       "    </tr>\n",
       "    <tr>\n",
       "      <th>28065</th>\n",
       "      <td>ta</td>\n",
       "      <td>2</td>\n",
       "    </tr>\n",
       "    <tr>\n",
       "      <th>19432</th>\n",
       "      <td>na</td>\n",
       "      <td>2</td>\n",
       "    </tr>\n",
       "    <tr>\n",
       "      <th>4995</th>\n",
       "      <td>aj</td>\n",
       "      <td>2</td>\n",
       "    </tr>\n",
       "    <tr>\n",
       "      <th>14426</th>\n",
       "      <td>aj</td>\n",
       "      <td>2</td>\n",
       "    </tr>\n",
       "    <tr>\n",
       "      <th>11427</th>\n",
       "      <td>na</td>\n",
       "      <td>2</td>\n",
       "    </tr>\n",
       "    <tr>\n",
       "      <th>22583</th>\n",
       "      <td>ta</td>\n",
       "      <td>2</td>\n",
       "    </tr>\n",
       "    <tr>\n",
       "      <th>19110</th>\n",
       "      <td>ti</td>\n",
       "      <td>2</td>\n",
       "    </tr>\n",
       "    <tr>\n",
       "      <th>6861</th>\n",
       "      <td>na</td>\n",
       "      <td>2</td>\n",
       "    </tr>\n",
       "    <tr>\n",
       "      <th>8190</th>\n",
       "      <td>aj</td>\n",
       "      <td>2</td>\n",
       "    </tr>\n",
       "    <tr>\n",
       "      <th>10603</th>\n",
       "      <td>dev</td>\n",
       "      <td>3</td>\n",
       "    </tr>\n",
       "    <tr>\n",
       "      <th>22010</th>\n",
       "      <td>anu</td>\n",
       "      <td>3</td>\n",
       "    </tr>\n",
       "    <tr>\n",
       "      <th>14507</th>\n",
       "      <td>pal</td>\n",
       "      <td>3</td>\n",
       "    </tr>\n",
       "  </tbody>\n",
       "</table>\n",
       "</div>"
      ],
      "text/plain": [
       "      name  len\n",
       "2014     p    1\n",
       "3614     b    1\n",
       "6260    om    2\n",
       "28065   ta    2\n",
       "19432   na    2\n",
       "4995    aj    2\n",
       "14426   aj    2\n",
       "11427   na    2\n",
       "22583   ta    2\n",
       "19110   ti    2\n",
       "6861    na    2\n",
       "8190    aj    2\n",
       "10603  dev    3\n",
       "22010  anu    3\n",
       "14507  pal    3"
      ]
     },
     "execution_count": 15,
     "metadata": {},
     "output_type": "execute_result"
    },
    {
     "data": {
      "text/html": [
       "<div>\n",
       "<style scoped>\n",
       "    .dataframe tbody tr th:only-of-type {\n",
       "        vertical-align: middle;\n",
       "    }\n",
       "\n",
       "    .dataframe tbody tr th {\n",
       "        vertical-align: top;\n",
       "    }\n",
       "\n",
       "    .dataframe thead th {\n",
       "        text-align: right;\n",
       "    }\n",
       "</style>\n",
       "<table border=\"1\" class=\"dataframe\">\n",
       "  <thead>\n",
       "    <tr style=\"text-align: right;\">\n",
       "      <th></th>\n",
       "      <th>name</th>\n",
       "      <th>len</th>\n",
       "    </tr>\n",
       "  </thead>\n",
       "  <tbody>\n",
       "    <tr>\n",
       "      <th>12464</th>\n",
       "      <td>pal</td>\n",
       "      <td>3</td>\n",
       "    </tr>\n",
       "    <tr>\n",
       "      <th>18791</th>\n",
       "      <td>mem</td>\n",
       "      <td>3</td>\n",
       "    </tr>\n",
       "    <tr>\n",
       "      <th>10912</th>\n",
       "      <td>dev</td>\n",
       "      <td>3</td>\n",
       "    </tr>\n",
       "    <tr>\n",
       "      <th>29396</th>\n",
       "      <td>anu</td>\n",
       "      <td>3</td>\n",
       "    </tr>\n",
       "    <tr>\n",
       "      <th>12993</th>\n",
       "      <td>raj</td>\n",
       "      <td>3</td>\n",
       "    </tr>\n",
       "    <tr>\n",
       "      <th>12994</th>\n",
       "      <td>raj</td>\n",
       "      <td>3</td>\n",
       "    </tr>\n",
       "    <tr>\n",
       "      <th>2264</th>\n",
       "      <td>pal</td>\n",
       "      <td>3</td>\n",
       "    </tr>\n",
       "    <tr>\n",
       "      <th>22010</th>\n",
       "      <td>anu</td>\n",
       "      <td>3</td>\n",
       "    </tr>\n",
       "    <tr>\n",
       "      <th>13435</th>\n",
       "      <td>moh</td>\n",
       "      <td>3</td>\n",
       "    </tr>\n",
       "    <tr>\n",
       "      <th>11666</th>\n",
       "      <td>mum</td>\n",
       "      <td>3</td>\n",
       "    </tr>\n",
       "  </tbody>\n",
       "</table>\n",
       "</div>"
      ],
      "text/plain": [
       "      name  len\n",
       "12464  pal    3\n",
       "18791  mem    3\n",
       "10912  dev    3\n",
       "29396  anu    3\n",
       "12993  raj    3\n",
       "12994  raj    3\n",
       "2264   pal    3\n",
       "22010  anu    3\n",
       "13435  moh    3\n",
       "11666  mum    3"
      ]
     },
     "execution_count": 15,
     "metadata": {},
     "output_type": "execute_result"
    }
   ],
   "source": [
    "df.sort_values('len').head(15)\n",
    "df = df[df['len'] > 2]\n",
    "df.sort_values('len').head(10)"
   ]
  },
  {
   "cell_type": "code",
   "execution_count": 16,
   "metadata": {},
   "outputs": [
    {
     "data": {
      "text/plain": [
       "array(['dev', 'adi', 'raj', 'pal', 'taj', 'ali', 'jay', 'som', 'ram',\n",
       "       'omi', 'aru', 'mum', 'lav', 'moh', 'jai', 'sna', 'ain', 'uma',\n",
       "       'udi', 'mem', 'ish', 'jya', 'san', 'deu', 'oma', 'anu', 'smt',\n",
       "       'jna', 'fra'], dtype=object)"
      ]
     },
     "execution_count": 16,
     "metadata": {},
     "output_type": "execute_result"
    }
   ],
   "source": [
    "df[df['len'] == 3].name.unique()"
   ]
  },
  {
   "cell_type": "code",
   "execution_count": 17,
   "metadata": {},
   "outputs": [
    {
     "data": {
      "text/html": [
       "<div>\n",
       "<style scoped>\n",
       "    .dataframe tbody tr th:only-of-type {\n",
       "        vertical-align: middle;\n",
       "    }\n",
       "\n",
       "    .dataframe tbody tr th {\n",
       "        vertical-align: top;\n",
       "    }\n",
       "\n",
       "    .dataframe thead th {\n",
       "        text-align: right;\n",
       "    }\n",
       "</style>\n",
       "<table border=\"1\" class=\"dataframe\">\n",
       "  <thead>\n",
       "    <tr style=\"text-align: right;\">\n",
       "      <th></th>\n",
       "      <th>len</th>\n",
       "    </tr>\n",
       "  </thead>\n",
       "  <tbody>\n",
       "    <tr>\n",
       "      <th>count</th>\n",
       "      <td>30040.000000</td>\n",
       "    </tr>\n",
       "    <tr>\n",
       "      <th>mean</th>\n",
       "      <td>8.331858</td>\n",
       "    </tr>\n",
       "    <tr>\n",
       "      <th>std</th>\n",
       "      <td>3.660956</td>\n",
       "    </tr>\n",
       "    <tr>\n",
       "      <th>min</th>\n",
       "      <td>3.000000</td>\n",
       "    </tr>\n",
       "    <tr>\n",
       "      <th>25%</th>\n",
       "      <td>5.000000</td>\n",
       "    </tr>\n",
       "    <tr>\n",
       "      <th>50%</th>\n",
       "      <td>7.000000</td>\n",
       "    </tr>\n",
       "    <tr>\n",
       "      <th>75%</th>\n",
       "      <td>11.000000</td>\n",
       "    </tr>\n",
       "    <tr>\n",
       "      <th>max</th>\n",
       "      <td>43.000000</td>\n",
       "    </tr>\n",
       "  </tbody>\n",
       "</table>\n",
       "</div>"
      ],
      "text/plain": [
       "                len\n",
       "count  30040.000000\n",
       "mean       8.331858\n",
       "std        3.660956\n",
       "min        3.000000\n",
       "25%        5.000000\n",
       "50%        7.000000\n",
       "75%       11.000000\n",
       "max       43.000000"
      ]
     },
     "execution_count": 17,
     "metadata": {},
     "output_type": "execute_result"
    }
   ],
   "source": [
    "drops =['mum', 'sna', 'ain', 'mem', 'jya']\n",
    "df = df[~df['name'].isin(drops)]\n",
    "df.describe()"
   ]
  },
  {
   "cell_type": "code",
   "execution_count": 18,
   "metadata": {},
   "outputs": [
    {
     "data": {
      "text/plain": [
       "(30040, 13139)"
      ]
     },
     "execution_count": 18,
     "metadata": {},
     "output_type": "execute_result"
    }
   ],
   "source": [
    "names = list(df.name)\n",
    "uni_name = list(set(names))\n",
    "len(names),len(uni_name)"
   ]
  },
  {
   "cell_type": "code",
   "execution_count": 19,
   "metadata": {},
   "outputs": [
    {
     "data": {
      "text/plain": [
       "<Figure size 1000x500 with 0 Axes>"
      ]
     },
     "execution_count": 19,
     "metadata": {},
     "output_type": "execute_result"
    },
    {
     "data": {
      "text/plain": [
       "<BarContainer object of 20 artists>"
      ]
     },
     "execution_count": 19,
     "metadata": {},
     "output_type": "execute_result"
    },
    {
     "data": {
      "text/plain": [
       "([0, 1, 2, 3, 4, 5, 6, 7, 8, 9, 10, 11, 12, 13, 14, 15, 16, 17, 18, 19],\n",
       " [Text(0, 0, 'pooja'),\n",
       "  Text(1, 0, 'jyoti'),\n",
       "  Text(2, 0, 'sunita'),\n",
       "  Text(3, 0, 'poonam'),\n",
       "  Text(4, 0, 'deepak'),\n",
       "  Text(5, 0, 'neha'),\n",
       "  Text(6, 0, 'priyanka'),\n",
       "  Text(7, 0, 'mamta'),\n",
       "  Text(8, 0, 'rekha'),\n",
       "  Text(9, 0, 'suman'),\n",
       "  Text(10, 0, 'seema'),\n",
       "  Text(11, 0, 'nisha'),\n",
       "  Text(12, 0, 'rahul'),\n",
       "  Text(13, 0, 'laxmi'),\n",
       "  Text(14, 0, 'kavita'),\n",
       "  Text(15, 0, 'kajal'),\n",
       "  Text(16, 0, 'anita'),\n",
       "  Text(17, 0, 'komal'),\n",
       "  Text(18, 0, 'preeti'),\n",
       "  Text(19, 0, 'aarti')])"
      ]
     },
     "execution_count": 19,
     "metadata": {},
     "output_type": "execute_result"
    },
    {
     "data": {
      "image/png": "[encoded data removed]",
      "text/plain": [
       "<Figure size 1000x500 with 1 Axes>"
      ]
     },
     "metadata": {},
     "output_type": "display_data"
    }
   ],
   "source": [
    "name_freq = Counter(names).most_common(20)\n",
    "\n",
    "plt.figure(figsize=(10, 5))\n",
    "ns = [name[0] for name in name_freq]\n",
    "fs = [name[1] for name in name_freq]\n",
    "plt.bar(ns, fs)\n",
    "plt.xticks(rotation=45)\n",
    "plt.show()"
   ]
  },
  {
   "cell_type": "code",
   "execution_count": 20,
   "metadata": {},
   "outputs": [
    {
     "data": {
      "text/plain": [
       "['barjraj',\n",
       " 'ramdin verma',\n",
       " 'sharat chandran',\n",
       " 'birender mandal',\n",
       " 'amit',\n",
       " 'kushal',\n",
       " 'kasid',\n",
       " 'shiv prakash',\n",
       " 'vikram singh',\n",
       " 'sanjay']"
      ]
     },
     "execution_count": 20,
     "metadata": {},
     "output_type": "execute_result"
    }
   ],
   "source": [
    "names[:10]"
   ]
  },
  {
   "cell_type": "code",
   "execution_count": 21,
   "metadata": {},
   "outputs": [],
   "source": [
    "from IPython.core.interactiveshell import InteractiveShell\n",
    "InteractiveShell.ast_node_interactivity = \"last\"  # Options: 'last', 'all', 'last_expr'"
   ]
  },
  {
   "cell_type": "code",
   "execution_count": 22,
   "metadata": {},
   "outputs": [
    {
     "name": "stdout",
     "output_type": "stream",
     "text": [
      "Exported to indian_names.csv\n"
     ]
    }
   ],
   "source": [
    "export_file = 'indian_names.csv'\n",
    "\n",
    "with open(data_folder + export_file, 'w') as f:\n",
    "    for name in names:\n",
    "        f.write(name + '\\n')\n",
    "    \n",
    "print('Exported to', export_file)"
   ]
  },
  {
   "cell_type": "code",
   "execution_count": null,
   "metadata": {},
   "outputs": [],
   "source": []
  }
 ],
 "metadata": {
  "kernelspec": {
   "display_name": "iisc",
   "language": "python",
   "name": "iisc"
  },
  "language_info": {
   "codemirror_mode": {
    "name": "ipython",
    "version": 3
   },
   "file_extension": ".py",
   "mimetype": "text/x-python",
   "name": "python",
   "nbconvert_exporter": "python",
   "pygments_lexer": "ipython3",
   "version": "3.9.15"
  }
 },
 "nbformat": 4,
 "nbformat_minor": 2
}

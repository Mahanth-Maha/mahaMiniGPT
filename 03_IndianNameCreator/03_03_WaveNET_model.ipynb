{
 "cells": [
  {
   "cell_type": "markdown",
   "metadata": {},
   "source": [
    "# BN - MLP - Torch_fied "
   ]
  },
  {
   "cell_type": "code",
   "execution_count": 148,
   "metadata": {},
   "outputs": [],
   "source": [
    "import torch\n",
    "import torch.nn as nn\n",
    "import torch.nn.functional as F\n",
    "\n",
    "import numpy as np \n",
    "import matplotlib.pyplot as plt"
   ]
  },
  {
   "cell_type": "code",
   "execution_count": 152,
   "metadata": {},
   "outputs": [
    {
     "data": {
      "text/plain": [
       "(torch.Size([217230, 3]),\n",
       " torch.Size([217230]),\n",
       " torch.Size([27277, 3]),\n",
       " torch.Size([27277]),\n",
       " torch.Size([27270, 3]),\n",
       " torch.Size([27270]))"
      ]
     },
     "execution_count": 152,
     "metadata": {},
     "output_type": "execute_result"
    }
   ],
   "source": [
    "data_folder = 'data/indian_names/'\n",
    "\n",
    "Xtr = torch.load(data_folder + 'Xtr_bs_3.pt')\n",
    "ytr = torch.load(data_folder + 'ytr_bs_3.pt')\n",
    "Xdev = torch.load(data_folder + 'Xdev_bs_3.pt')\n",
    "ydev = torch.load(data_folder + 'ydev_bs_3.pt')\n",
    "Xte = torch.load(data_folder + 'Xte_bs_3.pt')\n",
    "yte = torch.load(data_folder + 'yte_bs_3.pt')\n",
    "\n",
    "BLOCK_SIZE = 3\n",
    "\n",
    "Xtr.shape , ytr.shape, Xdev.shape, ydev.shape, Xte.shape, yte.shape"
   ]
  },
  {
   "cell_type": "code",
   "execution_count": 153,
   "metadata": {},
   "outputs": [
    {
     "data": {
      "text/plain": [
       "('.abcdefghijklmnopqrstuvwxyz', 27)"
      ]
     },
     "execution_count": 153,
     "metadata": {},
     "output_type": "execute_result"
    }
   ],
   "source": [
    "names = open(data_folder + 'indian_names.csv').read().split('\\n')\n",
    "words = []\n",
    "for n in names:\n",
    "    words += n.split(' ')\n",
    "words = [w for w in words if len(w) > 3] \n",
    "voc = '.' + ''.join(sorted(set(''.join(words))))\n",
    "VOC_SIZE = len(voc)\n",
    "voc , VOC_SIZE"
   ]
  },
  {
   "cell_type": "code",
   "execution_count": 154,
   "metadata": {},
   "outputs": [],
   "source": [
    "def enc(c):\n",
    "    return voc.index(c)\n",
    "\n",
    "def dec(i):\n",
    "    return voc[i]"
   ]
  },
  {
   "cell_type": "code",
   "execution_count": 187,
   "metadata": {},
   "outputs": [],
   "source": [
    "class Linear:\n",
    "    def __init__(self, fin, fout, bias = True):\n",
    "        self.weight = torch.randn(fin, fout) / fin**0.5\n",
    "        self.bias_exist = bias\n",
    "        self.bias = torch.randn(fout) / fin**0.5 if bias else None \n",
    "\n",
    "    def parameters(self):\n",
    "        return [self.weight, self.bias] if self.bias_exist is not None else [self.weight]\n",
    "    \n",
    "    def __call__(self, x):\n",
    "        self.out  = x @self.weight \n",
    "        if self.bias_exist:\n",
    "            self.out += self.bias\n",
    "        return self.out\n",
    "\n",
    "class BatchNormal1D:\n",
    "    def __init__(self, dim , epsilon = 1e-5, momentum = 0.01 ):\n",
    "        self.dim = dim \n",
    "        self.momentum = momentum\n",
    "        self.epsilon = epsilon\n",
    "\n",
    "        self.training = True\n",
    "        \n",
    "        self.gamma = torch.ones((1,self.dim))\n",
    "        self.beta = torch.zeros((1,self.dim))\n",
    "\n",
    "        self.mean_running = torch.zeros((1,self.dim))\n",
    "        self.std_running = torch.ones((1,self.dim))\n",
    "\n",
    "    def __call__(self, x):\n",
    "        if self.training: \n",
    "            xmean = x.mean(dim=0 , keepdim=True)\n",
    "            xstd = x.std(dim=0 , keepdim=True)\n",
    "            with torch.no_grad():\n",
    "                self.mean_running = (1-self.momentum) * self.mean_running + self.momentum * xmean\n",
    "                self.std_running = (1-self.momentum) * self.std_running + self.momentum * xstd\n",
    "        else :\n",
    "            xmean = self.mean_running\n",
    "            xstd = self.std_running\n",
    "        \n",
    "        self.out = ( (x - xmean ) / (xstd + self.epsilon) ) * self.gamma + self.beta\n",
    "        return self.out\n",
    "        \n",
    "    def parameters(self):\n",
    "        return [self.gamma, self.beta]\n",
    "    \n",
    "class Tanh:\n",
    "    def __call__(self, x):\n",
    "        self.out = torch.tanh(x)\n",
    "        return self.out\n",
    "    \n",
    "    def parameters(self):\n",
    "        return []\n",
    "    \n",
    "class Embedding:\n",
    "    def __init__(self, num_emb, dim_emb):\n",
    "        self.weight = torch.randn(num_emb, dim_emb)\n",
    "        \n",
    "    def __call__(self, x):\n",
    "        self.out = self.weight[x]\n",
    "        return self.out\n",
    "    \n",
    "    def parameters(self):\n",
    "        return [self.weight]\n",
    "    \n",
    "class Flatten:\n",
    "    def __call__(self, x):\n",
    "        self.out = x.view(x.shape[0], -1)\n",
    "        return self.out\n",
    "    \n",
    "    def parameters(self):\n",
    "        return []\n",
    "    \n",
    "class Sequential:\n",
    "    def __init__(self, layers):\n",
    "        self.layers = layers\n",
    "        \n",
    "    def __call__(self, x):\n",
    "        for layer in self.layers:\n",
    "            x = layer(x)\n",
    "        self.out = x\n",
    "        return self.out\n",
    "    \n",
    "    def add_layers(self, layers):\n",
    "        self.layers += layers\n",
    "    \n",
    "    def parameters(self):\n",
    "        params = []\n",
    "        for layer in self.layers:\n",
    "            params += layer.parameters()\n",
    "        return params"
   ]
  },
  {
   "cell_type": "code",
   "execution_count": 175,
   "metadata": {},
   "outputs": [],
   "source": [
    "class BnMLP:\n",
    "    def __init__(self,inputs, dims , b_size, hidden, outputs, n_layers):\n",
    "        self.inputs = inputs\n",
    "        self.dims = dims\n",
    "        self.b_size = b_size\n",
    "        self.hidden = hidden\n",
    "        self.outputs = outputs\n",
    "        self.n_layers = n_layers\n",
    "        self.iterations_trained = 0\n",
    "        self.current_train_loss = float('inf')\n",
    "        \n",
    "        self.model = Sequential([\n",
    "            Embedding(self.inputs, self.dims),\n",
    "            Flatten(),\n",
    "            Linear(self.dims*self.b_size, self.hidden),\n",
    "            BatchNormal1D(self.hidden),\n",
    "            Tanh(),\n",
    "        ])\n",
    "        for i in range(self.n_layers - 1):\n",
    "            self.model.add_layers(\n",
    "                [\n",
    "                    Linear(self.hidden, self.hidden),\n",
    "                    BatchNormal1D(self.hidden),\n",
    "                    Tanh(),\n",
    "                ]\n",
    "            )\n",
    "        self.model.add_layers([Linear(self.hidden, self.outputs)])\n",
    "\n",
    "        with torch.no_grad():\n",
    "            for layer in self.model.layers[:-1]:\n",
    "                if isinstance(layer, Linear):\n",
    "                    layer.weight *= (5/3) # all inside (embedding) layers weight kammin init (solution 3)\n",
    "                    if layer.bias is not None:\n",
    "                        layer.bias *= (5/3)\n",
    "\n",
    "            self.model.layers[-1].weight *= 0.1   # last layer weight init (solution 2)\n",
    "\n",
    "        self.parameters = self.model.parameters()\n",
    "        for p in self.parameters:\n",
    "            p.requires_grad = True\n",
    "    \n",
    "    def forward(self, X):\n",
    "        logits = self.model(X)\n",
    "        return logits\n",
    "\n",
    "    def backward(self, logits, y):\n",
    "        loss = F.cross_entropy(logits, y)\n",
    "        loss.backward()\n",
    "        return loss\n",
    "    \n",
    "    @torch.no_grad()\n",
    "    def evaluate(self, X, y):\n",
    "        for layer in self.model.layers:\n",
    "            layer.training = False\n",
    "        logits = self.forward(X)\n",
    "        loss = F.cross_entropy(logits, y)\n",
    "        for layer in self.model.layers:\n",
    "            layer.training = True\n",
    "        return loss.item()\n",
    "    \n",
    "    def sgd(self, X, y, alpha = 0.1 , batching_size = 32, max_iters = 1000, verbose = True):\n",
    "        for iter in range(max_iters+1):\n",
    "            mini_batch = torch.randint(0, X.shape[0], (batching_size,))\n",
    "            logits = self.forward(X[mini_batch])\n",
    "            loss = self.backward(logits,y[mini_batch])\n",
    "            \n",
    "            with torch.no_grad():\n",
    "                for p in self.parameters:\n",
    "                    p.retain_grad()\n",
    "                    p -= p.grad * alpha\n",
    "                    p.grad = None\n",
    "                \n",
    "            if iter > max_iters *0.95:\n",
    "                alpha = alpha / 100\n",
    "            elif iter > max_iters *0.9:\n",
    "                alpha = alpha / 10\n",
    "            \n",
    "            if verbose and iter % (max_iters/10) == 0:\n",
    "                print(f'{iter = :7}, loss = {loss.item():.5f}')\n",
    "            \n",
    "            # break \n",
    "        \n",
    "        self.iterations_trained += max_iters\n",
    "        self.current_train_loss = self.evaluate(X, y)\n",
    "        return loss\n",
    "\n",
    "    @torch.no_grad()\n",
    "    def generate(self, start = '', max_len = 50):\n",
    "        for layer in self.model.layers:\n",
    "            layer.training = False\n",
    "        word = '.'* self.b_size + start\n",
    "\n",
    "        context = [0] * self.b_size + [enc(c) for c in start]\n",
    "        for i in range(max_len):\n",
    "            logits = self.model(torch.tensor([context]))\n",
    "            p = F.softmax(logits, dim=1)\n",
    "            word += dec(torch.multinomial(p[0], 1).item())\n",
    "            if word[-1] == '.':\n",
    "                break\n",
    "            context = context[1:] + [enc(word[-1])]\n",
    "        for layer in self.model.layers:\n",
    "            layer.training = True\n",
    "        return word[ self.b_size : -1]\n",
    "    \n",
    "    @torch.no_grad()\n",
    "    def get_params_count(self):\n",
    "        return sum([p.numel() for p in self.parameters])\n",
    "    \n",
    "    def __repr__(self):\n",
    "        return f'BnMLP(Parm= {self.get_params_count()}, trained iter = {self.iterations_trained} , train loss = {self.current_train_loss:.5f})'\n"
   ]
  },
  {
   "cell_type": "code",
   "execution_count": 156,
   "metadata": {},
   "outputs": [
    {
     "data": {
      "text/plain": [
       "16597"
      ]
     },
     "execution_count": 156,
     "metadata": {},
     "output_type": "execute_result"
    }
   ],
   "source": [
    "bnmlp = BnMLP( \n",
    "    inputs = VOC_SIZE, \n",
    "    dims = 10,\n",
    "    b_size = BLOCK_SIZE,\n",
    "    hidden = 100,\n",
    "    outputs = VOC_SIZE,\n",
    "    n_layers = 2\n",
    ")\n",
    "\n",
    "bnmlp.get_params_count()"
   ]
  },
  {
   "cell_type": "code",
   "execution_count": 157,
   "metadata": {},
   "outputs": [
    {
     "data": {
      "text/plain": [
       "3.299921989440918"
      ]
     },
     "execution_count": 157,
     "metadata": {},
     "output_type": "execute_result"
    }
   ],
   "source": [
    "bnmlp.evaluate(Xtr, ytr)"
   ]
  },
  {
   "cell_type": "code",
   "execution_count": 162,
   "metadata": {},
   "outputs": [
    {
     "name": "stdout",
     "output_type": "stream",
     "text": [
      "iter =       0, loss = 2.20014\n",
      "iter =   10000, loss = 1.53865\n",
      "iter =   20000, loss = 1.59183\n",
      "iter =   30000, loss = 1.34117\n",
      "iter =   40000, loss = 1.19861\n",
      "iter =   50000, loss = 1.60139\n",
      "iter =   60000, loss = 1.85033\n",
      "iter =   70000, loss = 1.51381\n",
      "iter =   80000, loss = 1.50735\n",
      "iter =   90000, loss = 1.32940\n",
      "iter =  100000, loss = 1.66106\n"
     ]
    },
    {
     "data": {
      "text/plain": [
       "tensor(1.6611, grad_fn=<NllLossBackward0>)"
      ]
     },
     "execution_count": 162,
     "metadata": {},
     "output_type": "execute_result"
    }
   ],
   "source": [
    "bnmlp.sgd(Xtr, ytr, alpha = 0.1, max_iters = 100000) "
   ]
  },
  {
   "cell_type": "code",
   "execution_count": 163,
   "metadata": {},
   "outputs": [
    {
     "data": {
      "text/plain": [
       "BnMLP(Parm= 16597, trained iter = 101000 , train loss = 1.66106)"
      ]
     },
     "execution_count": 163,
     "metadata": {},
     "output_type": "execute_result"
    },
    {
     "data": {
      "text/plain": [
       "1.6003475189208984"
      ]
     },
     "execution_count": 163,
     "metadata": {},
     "output_type": "execute_result"
    }
   ],
   "source": [
    "bnmlp\n",
    "bnmlp.evaluate(Xdev, ydev)"
   ]
  },
  {
   "cell_type": "code",
   "execution_count": 164,
   "metadata": {},
   "outputs": [
    {
     "name": "stdout",
     "output_type": "stream",
     "text": [
      "anjarayanku\n",
      "zad\n",
      "sagat\n",
      "kumar\n",
      "kumari\n",
      "kumar\n",
      "sundeeparshahampal\n",
      "devi\n",
      "kumar\n",
      "shahul\n"
     ]
    }
   ],
   "source": [
    "for i in range(10):\n",
    "    gens = bnmlp.generate('')\n",
    "    while gens in words:\n",
    "        gens = bnmlp.generate('')\n",
    "    print(gens)"
   ]
  },
  {
   "cell_type": "code",
   "execution_count": 165,
   "metadata": {},
   "outputs": [
    {
     "data": {
      "text/plain": [
       "1.5996315479278564"
      ]
     },
     "execution_count": 165,
     "metadata": {},
     "output_type": "execute_result"
    }
   ],
   "source": [
    "bnmlp.evaluate(Xte, yte)"
   ]
  },
  {
   "cell_type": "code",
   "execution_count": 166,
   "metadata": {},
   "outputs": [],
   "source": [
    "def make_dataset(words, block_size = 3):\n",
    "    X , y = [], []\n",
    "    for word in words:\n",
    "        word = '.'*block_size + word + '.'\n",
    "        for i in range(len(word) - block_size):\n",
    "            X.append([enc(k) for k in word[i:i+block_size]])\n",
    "            y.append(enc(word[i+block_size]))\n",
    "    return torch.tensor(X), torch.tensor(y)\n",
    "\n",
    "import random\n",
    "\n",
    "random.shuffle(words)\n",
    "n1 = int(0.8*len(words))\n",
    "n2 = int(0.9*len(words))\n",
    "\n",
    "# Xtr,  ytr  = make_dataset(words[:n1] , block_size=8)     # 80%\n",
    "# Xdev, ydev = make_dataset(words[n1:n2] , block_size=8)   # 10%\n",
    "# Xte,  yte  = make_dataset(words[n2:] , block_size=8)     # 10%\n",
    "\n",
    "# torch.save(Xtr, data_folder + 'Xtr_bs_8.pt')\n",
    "# torch.save(ytr, data_folder + 'ytr_bs_8.pt')\n",
    "# torch.save(Xdev, data_folder + 'Xdev_bs_8.pt')\n",
    "# torch.save(ydev, data_folder + 'ydev_bs_8.pt')\n",
    "# torch.save(Xte, data_folder + 'Xte_bs_8.pt')\n",
    "# torch.save(yte, data_folder + 'yte_bs_8.pt')\n",
    "\n",
    "Xtr = torch.load( data_folder + 'Xtr_bs_8.pt')\n",
    "ytr = torch.load( data_folder + 'ytr_bs_8.pt')\n",
    "Xdev = torch.load( data_folder + 'Xdev_bs_8.pt')\n",
    "ydev = torch.load( data_folder + 'ydev_bs_8.pt')\n",
    "Xte = torch.load( data_folder + 'Xte_bs_8.pt')\n",
    "yte = torch.load( data_folder + 'yte_bs_8.pt')\n",
    "\n",
    "BLOCK_SIZE = 8"
   ]
  },
  {
   "cell_type": "code",
   "execution_count": 167,
   "metadata": {},
   "outputs": [
    {
     "data": {
      "text/plain": [
       "21597"
      ]
     },
     "execution_count": 167,
     "metadata": {},
     "output_type": "execute_result"
    }
   ],
   "source": [
    "bnmlp = BnMLP( \n",
    "    inputs = VOC_SIZE, \n",
    "    dims = 10,\n",
    "    b_size = BLOCK_SIZE,\n",
    "    hidden = 100,\n",
    "    outputs = VOC_SIZE,\n",
    "    n_layers = 2\n",
    ")\n",
    "\n",
    "bnmlp.get_params_count()"
   ]
  },
  {
   "cell_type": "code",
   "execution_count": 168,
   "metadata": {},
   "outputs": [
    {
     "data": {
      "text/plain": [
       "3.3852407932281494"
      ]
     },
     "execution_count": 168,
     "metadata": {},
     "output_type": "execute_result"
    }
   ],
   "source": [
    "bnmlp.evaluate(Xtr, ytr)"
   ]
  },
  {
   "cell_type": "code",
   "execution_count": 169,
   "metadata": {},
   "outputs": [
    {
     "name": "stdout",
     "output_type": "stream",
     "text": [
      "iter =       0, loss = 3.39185\n",
      "iter =   10000, loss = 1.43268\n",
      "iter =   20000, loss = 1.58156\n",
      "iter =   30000, loss = 0.92972\n",
      "iter =   40000, loss = 1.63019\n",
      "iter =   50000, loss = 0.89624\n",
      "iter =   60000, loss = 1.75053\n",
      "iter =   70000, loss = 1.68838\n",
      "iter =   80000, loss = 1.19775\n",
      "iter =   90000, loss = 1.09068\n",
      "iter =  100000, loss = 1.43582\n"
     ]
    },
    {
     "data": {
      "text/plain": [
       "tensor(1.4358, grad_fn=<NllLossBackward0>)"
      ]
     },
     "execution_count": 169,
     "metadata": {},
     "output_type": "execute_result"
    }
   ],
   "source": [
    "bnmlp.sgd(Xtr, ytr, alpha = 0.1, max_iters = 100000) "
   ]
  },
  {
   "cell_type": "code",
   "execution_count": 170,
   "metadata": {},
   "outputs": [
    {
     "data": {
      "text/plain": [
       "BnMLP(Parm= 21597, trained iter = 100000 , train loss = 1.43582)"
      ]
     },
     "execution_count": 170,
     "metadata": {},
     "output_type": "execute_result"
    },
    {
     "data": {
      "text/plain": [
       "1.3510346412658691"
      ]
     },
     "execution_count": 170,
     "metadata": {},
     "output_type": "execute_result"
    },
    {
     "data": {
      "text/plain": [
       "1.4010320901870728"
      ]
     },
     "execution_count": 170,
     "metadata": {},
     "output_type": "execute_result"
    }
   ],
   "source": [
    "bnmlp\n",
    "bnmlp.evaluate(Xdev, ydev)"
   ]
  },
  {
   "cell_type": "code",
   "execution_count": 174,
   "metadata": {},
   "outputs": [
    {
     "name": "stdout",
     "output_type": "stream",
     "text": [
      "bahata\n",
      "deepal\n",
      "haishat\n",
      "parimat\n",
      "halid\n",
      "sugayal\n",
      "maldis\n",
      "gari\n",
      "upandeep\n",
      "kirtik\n"
     ]
    }
   ],
   "source": [
    "for i in range(10):\n",
    "    gens = bnmlp.generate('')\n",
    "    while gens in words:\n",
    "        gens = bnmlp.generate('')\n",
    "    print(gens)"
   ]
  },
  {
   "cell_type": "code",
   "execution_count": 172,
   "metadata": {},
   "outputs": [
    {
     "data": {
      "text/plain": [
       "1.4277682304382324"
      ]
     },
     "execution_count": 172,
     "metadata": {},
     "output_type": "execute_result"
    }
   ],
   "source": [
    "bnmlp.evaluate(Xte, yte)"
   ]
  },
  {
   "cell_type": "code",
   "execution_count": 176,
   "metadata": {},
   "outputs": [
    {
     "data": {
      "text/plain": [
       "31897"
      ]
     },
     "execution_count": 176,
     "metadata": {},
     "output_type": "execute_result"
    },
    {
     "data": {
      "text/plain": [
       "3.323640823364258"
      ]
     },
     "execution_count": 176,
     "metadata": {},
     "output_type": "execute_result"
    },
    {
     "name": "stdout",
     "output_type": "stream",
     "text": [
      "iter =       0, loss = 3.28724\n",
      "iter =   10000, loss = 1.76120\n",
      "iter =   20000, loss = 1.22678\n",
      "iter =   30000, loss = 1.13796\n",
      "iter =   40000, loss = 1.72559\n",
      "iter =   50000, loss = 1.29263\n",
      "iter =   60000, loss = 1.38998\n",
      "iter =   70000, loss = 1.06027\n",
      "iter =   80000, loss = 1.01515\n",
      "iter =   90000, loss = 1.55126\n",
      "iter =  100000, loss = 1.44673\n"
     ]
    },
    {
     "data": {
      "text/plain": [
       "tensor(1.4467, grad_fn=<NllLossBackward0>)"
      ]
     },
     "execution_count": 176,
     "metadata": {},
     "output_type": "execute_result"
    },
    {
     "data": {
      "text/plain": [
       "BnMLP(Parm= 31897, trained iter = 100000 , train loss = 1.32197)"
      ]
     },
     "execution_count": 176,
     "metadata": {},
     "output_type": "execute_result"
    },
    {
     "data": {
      "text/plain": [
       "1.3920589685440063"
      ]
     },
     "execution_count": 176,
     "metadata": {},
     "output_type": "execute_result"
    }
   ],
   "source": [
    "bnmlp3 = BnMLP( \n",
    "    inputs = VOC_SIZE, \n",
    "    dims = 10,\n",
    "    b_size = BLOCK_SIZE,\n",
    "    hidden = 100,\n",
    "    outputs = VOC_SIZE,\n",
    "    n_layers = 3\n",
    ")\n",
    "\n",
    "bnmlp3.get_params_count()\n",
    "bnmlp3.evaluate(Xtr, ytr)\n",
    "bnmlp3.sgd(Xtr, ytr, alpha = 0.1, max_iters = 100000) \n",
    "bnmlp3\n",
    "bnmlp3.evaluate(Xdev, ydev)"
   ]
  },
  {
   "cell_type": "code",
   "execution_count": 177,
   "metadata": {},
   "outputs": [
    {
     "name": "stdout",
     "output_type": "stream",
     "text": [
      "nikkika\n",
      "bhatham\n",
      "sand\n",
      "niik\n",
      "amat\n",
      "binti\n",
      "yogke\n",
      "narsijal\n",
      "devy\n",
      "vens\n"
     ]
    }
   ],
   "source": [
    "for i in range(10):\n",
    "    gens = bnmlp3.generate('')\n",
    "    while gens in words:\n",
    "        gens = bnmlp3.generate('')\n",
    "    print(gens)"
   ]
  },
  {
   "cell_type": "code",
   "execution_count": 178,
   "metadata": {},
   "outputs": [
    {
     "data": {
      "text/plain": [
       "1.4093538522720337"
      ]
     },
     "execution_count": 178,
     "metadata": {},
     "output_type": "execute_result"
    }
   ],
   "source": [
    "bnmlp3.evaluate(Xte, yte)"
   ]
  },
  {
   "cell_type": "markdown",
   "metadata": {},
   "source": [
    "# Wave Net"
   ]
  },
  {
   "cell_type": "markdown",
   "metadata": {},
   "source": [
    "wave net  -> dilated convolution layers"
   ]
  },
  {
   "cell_type": "code",
   "execution_count": 230,
   "metadata": {},
   "outputs": [],
   "source": [
    "\n",
    "class BatchNormal2D:\n",
    "    def __init__(self, dim , epsilon = 1e-5, momentum = 0.01 ):\n",
    "        self.dim = dim \n",
    "        self.momentum = momentum\n",
    "        self.epsilon = epsilon\n",
    "\n",
    "        self.training = True\n",
    "        \n",
    "        self.gamma = torch.ones((1,self.dim))\n",
    "        self.beta = torch.zeros((1,self.dim))\n",
    "\n",
    "        self.mean_running = torch.zeros((1,self.dim))\n",
    "        self.std_running = torch.ones((1,self.dim))\n",
    "\n",
    "    def __call__(self, x):\n",
    "        if self.training: \n",
    "            xmean = x.mean(dim=(0 ,1 ), keepdim=True)\n",
    "            xstd = x.std(dim=(0 ,1 ), keepdim=True)\n",
    "            with torch.no_grad():\n",
    "                self.mean_running = (1-self.momentum) * self.mean_running + self.momentum * xmean\n",
    "                self.std_running = (1-self.momentum) * self.std_running + self.momentum * xstd\n",
    "        else :\n",
    "            xmean = self.mean_running\n",
    "            xstd = self.std_running\n",
    "        \n",
    "        self.out = ( (x - xmean ) / (xstd + self.epsilon) ) * self.gamma + self.beta\n",
    "        return self.out\n",
    "        \n",
    "    def parameters(self):\n",
    "        return [self.gamma, self.beta]\n",
    "\n",
    "class FlattenCons:\n",
    "    def __init__(self,n):\n",
    "        self.n = n\n",
    "\n",
    "    def __call__(self, x):\n",
    "        B, T, C = x.shape \n",
    "        self.out = x.view(B, T//self.n, C*self.n)\n",
    "        if self.out.shape[1] == 1:\n",
    "            self.out = self.out.squeeze(1) \n",
    "        return self.out \n",
    "    \n",
    "    def parameters(self):\n",
    "        return []"
   ]
  },
  {
   "cell_type": "code",
   "execution_count": 231,
   "metadata": {},
   "outputs": [],
   "source": [
    "class WaveNet:\n",
    "    def __init__(self,inputs, dims , b_size, hidden, outputs, n_layers):\n",
    "        self.inputs = inputs\n",
    "        self.dims = dims\n",
    "        self.b_size = b_size\n",
    "        self.hidden = hidden\n",
    "        self.outputs = outputs\n",
    "        self.n_layers = n_layers\n",
    "        self.iterations_trained = 0\n",
    "        self.current_train_loss = float('inf')\n",
    "        \n",
    "        self.model = Sequential([\n",
    "            Embedding(self.inputs, self.dims),\n",
    "            FlattenCons(2),\n",
    "            Linear(self.dims*2, self.hidden),\n",
    "            BatchNormal2D(self.hidden),\n",
    "            Tanh(),\n",
    "        ])\n",
    "        for i in range(self.n_layers - 1):\n",
    "            self.model.add_layers(\n",
    "                [\n",
    "                    FlattenCons(2),\n",
    "                    Linear(self.hidden * 2 , self.hidden),\n",
    "                    BatchNormal2D(self.hidden),\n",
    "                    Tanh(),\n",
    "                ]\n",
    "            )\n",
    "        self.model.add_layers([Linear(self.hidden, self.outputs)])\n",
    "\n",
    "        with torch.no_grad():\n",
    "            for layer in self.model.layers[:-1]:\n",
    "                if isinstance(layer, Linear):\n",
    "                    layer.weight *= (5/3) # all inside (embedding) layers weight kammin init (solution 3)\n",
    "                    if layer.bias is not None:\n",
    "                        layer.bias *= (5/3)\n",
    "\n",
    "            self.model.layers[-1].weight *= 0.1   # last layer weight init (solution 2)\n",
    "\n",
    "        self.parameters = self.model.parameters()\n",
    "        for p in self.parameters:\n",
    "            p.requires_grad = True\n",
    "    \n",
    "    def forward(self, X):\n",
    "        logits = self.model(X)\n",
    "        return logits\n",
    "\n",
    "    def backward(self, logits, y):\n",
    "        loss = F.cross_entropy(logits, y)\n",
    "        loss.backward()\n",
    "        return loss\n",
    "    \n",
    "    @torch.no_grad()\n",
    "    def evaluate(self, X, y):\n",
    "        for layer in self.model.layers:\n",
    "            layer.training = False\n",
    "        logits = self.forward(X)\n",
    "        loss = F.cross_entropy(logits, y)\n",
    "        for layer in self.model.layers:\n",
    "            layer.training = True\n",
    "        return loss.item()\n",
    "    \n",
    "    def sgd(self, X, y, alpha = 0.1 , batching_size = 32, max_iters = 1000, verbose = True):\n",
    "        for iter in range(max_iters+1):\n",
    "            mini_batch = torch.randint(0, X.shape[0], (batching_size,))\n",
    "            logits = self.forward(X[mini_batch])\n",
    "            loss = self.backward(logits,y[mini_batch])\n",
    "            \n",
    "            with torch.no_grad():\n",
    "                for p in self.parameters:\n",
    "                    p.retain_grad()\n",
    "                    p -= p.grad * alpha\n",
    "                    p.grad = None\n",
    "                \n",
    "            if iter > max_iters *0.95:\n",
    "                alpha = alpha / 100\n",
    "            elif iter > max_iters *0.9:\n",
    "                alpha = alpha / 10\n",
    "            \n",
    "            if verbose and iter % (max_iters/10) == 0:\n",
    "                print(f'{iter = :7}, loss = {loss.item():.5f}')\n",
    "            \n",
    "            # break \n",
    "        \n",
    "        self.iterations_trained += max_iters\n",
    "        self.current_train_loss = self.evaluate(X, y)\n",
    "        return loss\n",
    "\n",
    "    @torch.no_grad()\n",
    "    def generate(self, start = '', max_len = 50):\n",
    "        for layer in self.model.layers:\n",
    "            layer.training = False\n",
    "        word = '.'* self.b_size + start\n",
    "\n",
    "        context = [0] * self.b_size + [enc(c) for c in start]\n",
    "        for i in range(max_len):\n",
    "            logits = self.model(torch.tensor([context]))\n",
    "            p = F.softmax(logits, dim=1)\n",
    "            word += dec(torch.multinomial(p[0], 1).item())\n",
    "            if word[-1] == '.':\n",
    "                break\n",
    "            context = context[1:] + [enc(word[-1])]\n",
    "        for layer in self.model.layers:\n",
    "            layer.training = True\n",
    "        return word[ self.b_size : -1]\n",
    "    \n",
    "    @torch.no_grad()\n",
    "    def get_params_count(self):\n",
    "        return sum([p.numel() for p in self.parameters])\n",
    "    \n",
    "    def __repr__(self):\n",
    "        return f'WaveNet(Parm= {self.get_params_count()}, trained iter = {self.iterations_trained} , train loss = {self.current_train_loss:.5f})'\n"
   ]
  },
  {
   "cell_type": "code",
   "execution_count": 222,
   "metadata": {},
   "outputs": [],
   "source": [
    "wn = WaveNet( \n",
    "    inputs = VOC_SIZE, \n",
    "    dims = 10,\n",
    "    b_size = BLOCK_SIZE,\n",
    "    hidden = 64,\n",
    "    outputs = VOC_SIZE,\n",
    "    n_layers = 3\n",
    ")"
   ]
  },
  {
   "cell_type": "code",
   "execution_count": 223,
   "metadata": {},
   "outputs": [
    {
     "data": {
      "text/plain": [
       "20265"
      ]
     },
     "execution_count": 223,
     "metadata": {},
     "output_type": "execute_result"
    }
   ],
   "source": [
    "wn.get_params_count()"
   ]
  },
  {
   "cell_type": "code",
   "execution_count": 224,
   "metadata": {},
   "outputs": [
    {
     "data": {
      "text/plain": [
       "torch.Size([4, 27])"
      ]
     },
     "execution_count": 224,
     "metadata": {},
     "output_type": "execute_result"
    }
   ],
   "source": [
    "logits = wn.model(Xtr[:4])\n",
    "logits.shape"
   ]
  },
  {
   "cell_type": "code",
   "execution_count": 225,
   "metadata": {},
   "outputs": [
    {
     "name": "stdout",
     "output_type": "stream",
     "text": [
      "Embedding           :torch.Size([4, 8, 10])\n",
      "FlattenCons         :torch.Size([4, 4, 20])\n",
      "Linear              :torch.Size([4, 4, 64])\n",
      "BatchNormal1D       :torch.Size([4, 4, 64])\n",
      "Tanh                :torch.Size([4, 4, 64])\n",
      "FlattenCons         :torch.Size([4, 2, 128])\n",
      "Linear              :torch.Size([4, 2, 64])\n",
      "BatchNormal1D       :torch.Size([4, 2, 64])\n",
      "Tanh                :torch.Size([4, 2, 64])\n",
      "FlattenCons         :torch.Size([4, 128])\n",
      "Linear              :torch.Size([4, 64])\n",
      "BatchNormal1D       :torch.Size([4, 64])\n",
      "Tanh                :torch.Size([4, 64])\n",
      "Linear              :torch.Size([4, 27])\n"
     ]
    }
   ],
   "source": [
    "for layer in wn.model.layers:\n",
    "    print(f'{layer.__class__.__name__:20}:{layer.out.shape}')\n",
    "        "
   ]
  },
  {
   "cell_type": "code",
   "execution_count": 227,
   "metadata": {},
   "outputs": [
    {
     "data": {
      "text/plain": [
       "3.277979612350464"
      ]
     },
     "execution_count": 227,
     "metadata": {},
     "output_type": "execute_result"
    },
    {
     "name": "stdout",
     "output_type": "stream",
     "text": [
      "iter =       0, loss = 3.27792\n",
      "iter =   10000, loss = 1.79500\n",
      "iter =   20000, loss = 2.11098\n",
      "iter =   30000, loss = 2.54206\n",
      "iter =   40000, loss = 2.24428\n",
      "iter =   50000, loss = 2.92413\n",
      "iter =   60000, loss = 2.20618\n",
      "iter =   70000, loss = 2.60189\n",
      "iter =   80000, loss = 2.26698\n",
      "iter =   90000, loss = 2.13544\n",
      "iter =  100000, loss = 2.41999\n"
     ]
    },
    {
     "data": {
      "text/plain": [
       "tensor(2.4200, grad_fn=<NllLossBackward0>)"
      ]
     },
     "execution_count": 227,
     "metadata": {},
     "output_type": "execute_result"
    },
    {
     "data": {
      "text/plain": [
       "WaveNet(Parm= 20265, trained iter = 100001 , train loss = 2.45198)"
      ]
     },
     "execution_count": 227,
     "metadata": {},
     "output_type": "execute_result"
    }
   ],
   "source": [
    "wn.evaluate(Xtr, ytr)\n",
    "wn.sgd(Xtr, ytr, alpha = 0.1, max_iters = 100000)\n",
    "wn"
   ]
  },
  {
   "cell_type": "code",
   "execution_count": 228,
   "metadata": {},
   "outputs": [
    {
     "data": {
      "text/plain": [
       "2.4466404914855957"
      ]
     },
     "execution_count": 228,
     "metadata": {},
     "output_type": "execute_result"
    },
    {
     "name": "stdout",
     "output_type": "stream",
     "text": [
      "kiryn\n",
      "sumth\n",
      "aartal\n",
      "kulah\n",
      "nemuh\n",
      "tomusss\n",
      "aaiyi\n",
      "bnypidi\n",
      "samga\n",
      "kagga\n"
     ]
    }
   ],
   "source": [
    "wn.evaluate(Xdev, ydev)\n",
    "\n",
    "for i in range(10):\n",
    "    gens = wn.generate('')\n",
    "    while gens in words:\n",
    "        gens = wn.generate('')\n",
    "    print(gens)"
   ]
  },
  {
   "cell_type": "code",
   "execution_count": 229,
   "metadata": {},
   "outputs": [
    {
     "data": {
      "text/plain": [
       "2.4499893188476562"
      ]
     },
     "execution_count": 229,
     "metadata": {},
     "output_type": "execute_result"
    }
   ],
   "source": [
    "wn.evaluate(Xte, yte)"
   ]
  },
  {
   "cell_type": "markdown",
   "metadata": {},
   "source": [
    "#### Bug fix : changed `BatchNorm1D` to `BatchNorm2D`"
   ]
  },
  {
   "cell_type": "code",
   "execution_count": 236,
   "metadata": {},
   "outputs": [
    {
     "data": {
      "text/plain": [
       "20265"
      ]
     },
     "execution_count": 236,
     "metadata": {},
     "output_type": "execute_result"
    },
    {
     "data": {
      "text/plain": [
       "torch.Size([4, 27])"
      ]
     },
     "execution_count": 236,
     "metadata": {},
     "output_type": "execute_result"
    },
    {
     "name": "stdout",
     "output_type": "stream",
     "text": [
      "Embedding           :torch.Size([4, 8, 10])\n",
      "FlattenCons         :torch.Size([4, 4, 20])\n",
      "Linear              :torch.Size([4, 4, 64])\n",
      "BatchNormal2D       :torch.Size([4, 4, 64])\n",
      "Tanh                :torch.Size([4, 4, 64])\n",
      "FlattenCons         :torch.Size([4, 2, 128])\n",
      "Linear              :torch.Size([4, 2, 64])\n",
      "BatchNormal2D       :torch.Size([4, 2, 64])\n",
      "Tanh                :torch.Size([4, 2, 64])\n",
      "FlattenCons         :torch.Size([4, 128])\n",
      "Linear              :torch.Size([4, 64])\n",
      "BatchNormal2D       :torch.Size([4, 64])\n",
      "Tanh                :torch.Size([4, 64])\n",
      "Linear              :torch.Size([4, 27])\n"
     ]
    }
   ],
   "source": [
    "wn = WaveNet( \n",
    "    inputs = VOC_SIZE, \n",
    "    dims = 10,\n",
    "    b_size = BLOCK_SIZE,\n",
    "    hidden = 64,\n",
    "    outputs = VOC_SIZE,\n",
    "    n_layers = 3\n",
    ")\n",
    "wn.get_params_count()\n",
    "logits = wn.model(Xtr[:4])\n",
    "logits.shape\n",
    "for layer in wn.model.layers:\n",
    "    print(f'{layer.__class__.__name__:20}:{layer.out.shape}')"
   ]
  },
  {
   "cell_type": "code",
   "execution_count": 237,
   "metadata": {},
   "outputs": [
    {
     "data": {
      "text/plain": [
       "3.3284873962402344"
      ]
     },
     "execution_count": 237,
     "metadata": {},
     "output_type": "execute_result"
    },
    {
     "name": "stdout",
     "output_type": "stream",
     "text": [
      "iter =       0, loss = 3.29971\n",
      "iter =   10000, loss = 1.53806\n",
      "iter =   20000, loss = 1.54805\n",
      "iter =   30000, loss = 1.66632\n",
      "iter =   40000, loss = 1.27079\n",
      "iter =   50000, loss = 1.31223\n",
      "iter =   60000, loss = 1.38087\n",
      "iter =   70000, loss = 1.42312\n",
      "iter =   80000, loss = 1.35262\n",
      "iter =   90000, loss = 1.28782\n",
      "iter =  100000, loss = 1.34296\n"
     ]
    },
    {
     "data": {
      "text/plain": [
       "tensor(1.3430, grad_fn=<NllLossBackward0>)"
      ]
     },
     "execution_count": 237,
     "metadata": {},
     "output_type": "execute_result"
    },
    {
     "data": {
      "text/plain": [
       "WaveNet(Parm= 20265, trained iter = 100000 , train loss = 1.34357)"
      ]
     },
     "execution_count": 237,
     "metadata": {},
     "output_type": "execute_result"
    }
   ],
   "source": [
    "wn.evaluate(Xtr, ytr)\n",
    "wn.sgd(Xtr, ytr, alpha = 0.1, max_iters = 100000)\n",
    "wn"
   ]
  },
  {
   "cell_type": "code",
   "execution_count": 238,
   "metadata": {},
   "outputs": [
    {
     "data": {
      "text/plain": [
       "1.3983938694000244"
      ]
     },
     "execution_count": 238,
     "metadata": {},
     "output_type": "execute_result"
    },
    {
     "name": "stdout",
     "output_type": "stream",
     "text": [
      "neerka\n",
      "mahesad\n",
      "hardarn\n",
      "veerya\n",
      "bhiloe\n",
      "bhab\n",
      "rekhar\n",
      "heman\n",
      "rajti\n",
      "agad\n"
     ]
    }
   ],
   "source": [
    "wn.evaluate(Xdev, ydev)\n",
    "\n",
    "for i in range(10):\n",
    "    gens = wn.generate('')\n",
    "    while gens in words:\n",
    "        gens = wn.generate('')\n",
    "    print(gens)"
   ]
  },
  {
   "cell_type": "code",
   "execution_count": 239,
   "metadata": {},
   "outputs": [
    {
     "data": {
      "text/plain": [
       "1.4159326553344727"
      ]
     },
     "execution_count": 239,
     "metadata": {},
     "output_type": "execute_result"
    }
   ],
   "source": [
    "wn.evaluate(Xte, yte)"
   ]
  },
  {
   "cell_type": "code",
   "execution_count": null,
   "metadata": {},
   "outputs": [],
   "source": []
  }
 ],
 "metadata": {
  "kernelspec": {
   "display_name": "iisc",
   "language": "python",
   "name": "iisc"
  },
  "language_info": {
   "codemirror_mode": {
    "name": "ipython",
    "version": 3
   },
   "file_extension": ".py",
   "mimetype": "text/x-python",
   "name": "python",
   "nbconvert_exporter": "python",
   "pygments_lexer": "ipython3",
   "version": "3.9.15"
  }
 },
 "nbformat": 4,
 "nbformat_minor": 2
}
